{
  "cells": [
    {
      "cell_type": "markdown",
      "metadata": {
        "id": "view-in-github",
        "colab_type": "text"
      },
      "source": [
        "<a href=\"https://colab.research.google.com/github/GresiaARS/ForecastingSales_ARIMAModel/blob/main/Final_Skripsi_Full.ipynb\" target=\"_parent\"><img src=\"https://colab.research.google.com/assets/colab-badge.svg\" alt=\"Open In Colab\"/></a>"
      ]
    },
    {
      "cell_type": "code",
      "execution_count": null,
      "metadata": {
        "id": "PCcXuyyIzDwI"
      },
      "outputs": [],
      "source": [
        "import pandas as pd, io"
      ]
    },
    {
      "cell_type": "markdown",
      "metadata": {
        "id": "0y_CL0AYgYrC"
      },
      "source": [
        "Di tahap ini tuh perlu ada preprocessing transformasi kolom, jadi si kategori jadi kolom. Raw nya tetap SellerX_ARIMASkrpsi.csv, nah dia di transform ke bentuk tengah_malam_skripsi."
      ]
    },
    {
      "cell_type": "code",
      "execution_count": null,
      "metadata": {
        "id": "oJipDFBJE8bU"
      },
      "outputs": [],
      "source": [
        "# Membaca data Anda (pastikan data Anda sudah dalam format yang sesuai)\n",
        "df = pd.read_csv('/content/Data Skripsi Final - data_collab (1).csv')"
      ]
    },
    {
      "cell_type": "code",
      "execution_count": null,
      "metadata": {
        "colab": {
          "base_uri": "https://localhost:8080/"
        },
        "id": "mDEILbTSEYZB",
        "outputId": "c057878e-abf5-406c-a9e6-8b2eff7dfaa9"
      },
      "outputs": [
        {
          "output_type": "stream",
          "name": "stdout",
          "text": [
            "<class 'pandas.core.frame.DataFrame'>\n",
            "RangeIndex: 5196 entries, 0 to 5195\n",
            "Data columns (total 9 columns):\n",
            " #   Column          Non-Null Count  Dtype  \n",
            "---  ------          --------------  -----  \n",
            " 0   date            5196 non-null   object \n",
            " 1   product_title   5196 non-null   object \n",
            " 2   category        5196 non-null   object \n",
            " 3   qty             5196 non-null   int64  \n",
            " 4   price           5196 non-null   int64  \n",
            " 5   revenue         5196 non-null   int64  \n",
            " 6   rating_product  5196 non-null   float64\n",
            " 7   seller_name     5196 non-null   object \n",
            " 8   marketplace     5196 non-null   object \n",
            "dtypes: float64(1), int64(3), object(5)\n",
            "memory usage: 365.5+ KB\n"
          ]
        }
      ],
      "source": [
        "df.info()"
      ]
    },
    {
      "cell_type": "code",
      "execution_count": null,
      "metadata": {
        "colab": {
          "base_uri": "https://localhost:8080/",
          "height": 641
        },
        "id": "N7Qvbtw9QopZ",
        "outputId": "5c123521-3179-4e9c-b202-eaf643afff54"
      },
      "outputs": [
        {
          "output_type": "execute_result",
          "data": {
            "text/plain": [
              "            date                                      product_title  \\\n",
              "0     2021-11-01                          ALCHEMIST - EAU DE PARFUM   \n",
              "1     2021-11-06  Cushion Compact Tinted Moisturizer - Rollover ...   \n",
              "2     2021-11-06  Refill Cushion Compact Tinted Moisturizer - Ro...   \n",
              "3     2021-11-06                CUSHION COMPACT + HALOBLUSH bundles   \n",
              "4     2021-11-01     CHUNKY! Lip & Cheek Crayon - Rollover Reaction   \n",
              "...          ...                                                ...   \n",
              "5191  2023-03-31  [LIMITED EDITION] SUEDED! Lip and Cheek Cream ...   \n",
              "5192  2023-03-31                            II. BROWSWISH + BATLASH   \n",
              "5193  2023-03-31  Refill Cushion Compact Tinted Moisturizer deng...   \n",
              "5194  2023-03-31                CUSHION COMPACT + HALOBLUSH BUNDLES   \n",
              "5195  2023-03-31  Refill Cushion Compact Tinted Moisturizer - Ro...   \n",
              "\n",
              "                category  qty   price  revenue  rating_product  \\\n",
              "0     Parfum & Wewangian    5  199000   995000            4.91   \n",
              "1             Foundation   38   69000  2622000            4.95   \n",
              "2             Foundation   29   59000  1711000            4.95   \n",
              "3             Foundation   19  235000  4465000            4.89   \n",
              "4               Lip Tint   42   19900   835800            4.92   \n",
              "...                  ...  ...     ...      ...             ...   \n",
              "5191             Lipstik   22  125000  2750000            4.96   \n",
              "5192      Pelembab Wajah    5  197000   985000            5.00   \n",
              "5193          Foundation   26   25000   650000            4.95   \n",
              "5194          Foundation   18  249000  4482000            4.97   \n",
              "5195          Foundation   30   25000   750000            4.95   \n",
              "\n",
              "                          seller_name marketplace  \n",
              "0     Rollover Reaction Official Shop      Shopee  \n",
              "1     Rollover Reaction Official Shop      Shopee  \n",
              "2     Rollover Reaction Official Shop      Shopee  \n",
              "3     Rollover Reaction Official Shop      Shopee  \n",
              "4     Rollover Reaction Official Shop      Shopee  \n",
              "...                               ...         ...  \n",
              "5191  Rollover Reaction Official Shop      Shopee  \n",
              "5192  Rollover Reaction Official Shop      Shopee  \n",
              "5193  Rollover Reaction Official Shop      Shopee  \n",
              "5194  Rollover Reaction Official Shop      Shopee  \n",
              "5195  Rollover Reaction Official Shop      Shopee  \n",
              "\n",
              "[5196 rows x 9 columns]"
            ],
            "text/html": [
              "\n",
              "\n",
              "  <div id=\"df-57b40c32-ba41-4296-928a-a5c442621bd2\">\n",
              "    <div class=\"colab-df-container\">\n",
              "      <div>\n",
              "<style scoped>\n",
              "    .dataframe tbody tr th:only-of-type {\n",
              "        vertical-align: middle;\n",
              "    }\n",
              "\n",
              "    .dataframe tbody tr th {\n",
              "        vertical-align: top;\n",
              "    }\n",
              "\n",
              "    .dataframe thead th {\n",
              "        text-align: right;\n",
              "    }\n",
              "</style>\n",
              "<table border=\"1\" class=\"dataframe\">\n",
              "  <thead>\n",
              "    <tr style=\"text-align: right;\">\n",
              "      <th></th>\n",
              "      <th>date</th>\n",
              "      <th>product_title</th>\n",
              "      <th>category</th>\n",
              "      <th>qty</th>\n",
              "      <th>price</th>\n",
              "      <th>revenue</th>\n",
              "      <th>rating_product</th>\n",
              "      <th>seller_name</th>\n",
              "      <th>marketplace</th>\n",
              "    </tr>\n",
              "  </thead>\n",
              "  <tbody>\n",
              "    <tr>\n",
              "      <th>0</th>\n",
              "      <td>2021-11-01</td>\n",
              "      <td>ALCHEMIST - EAU DE PARFUM</td>\n",
              "      <td>Parfum &amp; Wewangian</td>\n",
              "      <td>5</td>\n",
              "      <td>199000</td>\n",
              "      <td>995000</td>\n",
              "      <td>4.91</td>\n",
              "      <td>Rollover Reaction Official Shop</td>\n",
              "      <td>Shopee</td>\n",
              "    </tr>\n",
              "    <tr>\n",
              "      <th>1</th>\n",
              "      <td>2021-11-06</td>\n",
              "      <td>Cushion Compact Tinted Moisturizer - Rollover ...</td>\n",
              "      <td>Foundation</td>\n",
              "      <td>38</td>\n",
              "      <td>69000</td>\n",
              "      <td>2622000</td>\n",
              "      <td>4.95</td>\n",
              "      <td>Rollover Reaction Official Shop</td>\n",
              "      <td>Shopee</td>\n",
              "    </tr>\n",
              "    <tr>\n",
              "      <th>2</th>\n",
              "      <td>2021-11-06</td>\n",
              "      <td>Refill Cushion Compact Tinted Moisturizer - Ro...</td>\n",
              "      <td>Foundation</td>\n",
              "      <td>29</td>\n",
              "      <td>59000</td>\n",
              "      <td>1711000</td>\n",
              "      <td>4.95</td>\n",
              "      <td>Rollover Reaction Official Shop</td>\n",
              "      <td>Shopee</td>\n",
              "    </tr>\n",
              "    <tr>\n",
              "      <th>3</th>\n",
              "      <td>2021-11-06</td>\n",
              "      <td>CUSHION COMPACT + HALOBLUSH bundles</td>\n",
              "      <td>Foundation</td>\n",
              "      <td>19</td>\n",
              "      <td>235000</td>\n",
              "      <td>4465000</td>\n",
              "      <td>4.89</td>\n",
              "      <td>Rollover Reaction Official Shop</td>\n",
              "      <td>Shopee</td>\n",
              "    </tr>\n",
              "    <tr>\n",
              "      <th>4</th>\n",
              "      <td>2021-11-01</td>\n",
              "      <td>CHUNKY! Lip &amp; Cheek Crayon - Rollover Reaction</td>\n",
              "      <td>Lip Tint</td>\n",
              "      <td>42</td>\n",
              "      <td>19900</td>\n",
              "      <td>835800</td>\n",
              "      <td>4.92</td>\n",
              "      <td>Rollover Reaction Official Shop</td>\n",
              "      <td>Shopee</td>\n",
              "    </tr>\n",
              "    <tr>\n",
              "      <th>...</th>\n",
              "      <td>...</td>\n",
              "      <td>...</td>\n",
              "      <td>...</td>\n",
              "      <td>...</td>\n",
              "      <td>...</td>\n",
              "      <td>...</td>\n",
              "      <td>...</td>\n",
              "      <td>...</td>\n",
              "      <td>...</td>\n",
              "    </tr>\n",
              "    <tr>\n",
              "      <th>5191</th>\n",
              "      <td>2023-03-31</td>\n",
              "      <td>[LIMITED EDITION] SUEDED! Lip and Cheek Cream ...</td>\n",
              "      <td>Lipstik</td>\n",
              "      <td>22</td>\n",
              "      <td>125000</td>\n",
              "      <td>2750000</td>\n",
              "      <td>4.96</td>\n",
              "      <td>Rollover Reaction Official Shop</td>\n",
              "      <td>Shopee</td>\n",
              "    </tr>\n",
              "    <tr>\n",
              "      <th>5192</th>\n",
              "      <td>2023-03-31</td>\n",
              "      <td>II. BROWSWISH + BATLASH</td>\n",
              "      <td>Pelembab Wajah</td>\n",
              "      <td>5</td>\n",
              "      <td>197000</td>\n",
              "      <td>985000</td>\n",
              "      <td>5.00</td>\n",
              "      <td>Rollover Reaction Official Shop</td>\n",
              "      <td>Shopee</td>\n",
              "    </tr>\n",
              "    <tr>\n",
              "      <th>5193</th>\n",
              "      <td>2023-03-31</td>\n",
              "      <td>Refill Cushion Compact Tinted Moisturizer deng...</td>\n",
              "      <td>Foundation</td>\n",
              "      <td>26</td>\n",
              "      <td>25000</td>\n",
              "      <td>650000</td>\n",
              "      <td>4.95</td>\n",
              "      <td>Rollover Reaction Official Shop</td>\n",
              "      <td>Shopee</td>\n",
              "    </tr>\n",
              "    <tr>\n",
              "      <th>5194</th>\n",
              "      <td>2023-03-31</td>\n",
              "      <td>CUSHION COMPACT + HALOBLUSH BUNDLES</td>\n",
              "      <td>Foundation</td>\n",
              "      <td>18</td>\n",
              "      <td>249000</td>\n",
              "      <td>4482000</td>\n",
              "      <td>4.97</td>\n",
              "      <td>Rollover Reaction Official Shop</td>\n",
              "      <td>Shopee</td>\n",
              "    </tr>\n",
              "    <tr>\n",
              "      <th>5195</th>\n",
              "      <td>2023-03-31</td>\n",
              "      <td>Refill Cushion Compact Tinted Moisturizer - Ro...</td>\n",
              "      <td>Foundation</td>\n",
              "      <td>30</td>\n",
              "      <td>25000</td>\n",
              "      <td>750000</td>\n",
              "      <td>4.95</td>\n",
              "      <td>Rollover Reaction Official Shop</td>\n",
              "      <td>Shopee</td>\n",
              "    </tr>\n",
              "  </tbody>\n",
              "</table>\n",
              "<p>5196 rows × 9 columns</p>\n",
              "</div>\n",
              "      <button class=\"colab-df-convert\" onclick=\"convertToInteractive('df-57b40c32-ba41-4296-928a-a5c442621bd2')\"\n",
              "              title=\"Convert this dataframe to an interactive table.\"\n",
              "              style=\"display:none;\">\n",
              "\n",
              "  <svg xmlns=\"http://www.w3.org/2000/svg\" height=\"24px\"viewBox=\"0 0 24 24\"\n",
              "       width=\"24px\">\n",
              "    <path d=\"M0 0h24v24H0V0z\" fill=\"none\"/>\n",
              "    <path d=\"M18.56 5.44l.94 2.06.94-2.06 2.06-.94-2.06-.94-.94-2.06-.94 2.06-2.06.94zm-11 1L8.5 8.5l.94-2.06 2.06-.94-2.06-.94L8.5 2.5l-.94 2.06-2.06.94zm10 10l.94 2.06.94-2.06 2.06-.94-2.06-.94-.94-2.06-.94 2.06-2.06.94z\"/><path d=\"M17.41 7.96l-1.37-1.37c-.4-.4-.92-.59-1.43-.59-.52 0-1.04.2-1.43.59L10.3 9.45l-7.72 7.72c-.78.78-.78 2.05 0 2.83L4 21.41c.39.39.9.59 1.41.59.51 0 1.02-.2 1.41-.59l7.78-7.78 2.81-2.81c.8-.78.8-2.07 0-2.86zM5.41 20L4 18.59l7.72-7.72 1.47 1.35L5.41 20z\"/>\n",
              "  </svg>\n",
              "      </button>\n",
              "\n",
              "\n",
              "\n",
              "    <div id=\"df-d6e31138-e8a8-4d33-ad67-57d957bff191\">\n",
              "      <button class=\"colab-df-quickchart\" onclick=\"quickchart('df-d6e31138-e8a8-4d33-ad67-57d957bff191')\"\n",
              "              title=\"Suggest charts.\"\n",
              "              style=\"display:none;\">\n",
              "\n",
              "<svg xmlns=\"http://www.w3.org/2000/svg\" height=\"24px\"viewBox=\"0 0 24 24\"\n",
              "     width=\"24px\">\n",
              "    <g>\n",
              "        <path d=\"M19 3H5c-1.1 0-2 .9-2 2v14c0 1.1.9 2 2 2h14c1.1 0 2-.9 2-2V5c0-1.1-.9-2-2-2zM9 17H7v-7h2v7zm4 0h-2V7h2v10zm4 0h-2v-4h2v4z\"/>\n",
              "    </g>\n",
              "</svg>\n",
              "      </button>\n",
              "    </div>\n",
              "\n",
              "<style>\n",
              "  .colab-df-quickchart {\n",
              "    background-color: #E8F0FE;\n",
              "    border: none;\n",
              "    border-radius: 50%;\n",
              "    cursor: pointer;\n",
              "    display: none;\n",
              "    fill: #1967D2;\n",
              "    height: 32px;\n",
              "    padding: 0 0 0 0;\n",
              "    width: 32px;\n",
              "  }\n",
              "\n",
              "  .colab-df-quickchart:hover {\n",
              "    background-color: #E2EBFA;\n",
              "    box-shadow: 0px 1px 2px rgba(60, 64, 67, 0.3), 0px 1px 3px 1px rgba(60, 64, 67, 0.15);\n",
              "    fill: #174EA6;\n",
              "  }\n",
              "\n",
              "  [theme=dark] .colab-df-quickchart {\n",
              "    background-color: #3B4455;\n",
              "    fill: #D2E3FC;\n",
              "  }\n",
              "\n",
              "  [theme=dark] .colab-df-quickchart:hover {\n",
              "    background-color: #434B5C;\n",
              "    box-shadow: 0px 1px 3px 1px rgba(0, 0, 0, 0.15);\n",
              "    filter: drop-shadow(0px 1px 2px rgba(0, 0, 0, 0.3));\n",
              "    fill: #FFFFFF;\n",
              "  }\n",
              "</style>\n",
              "\n",
              "    <script>\n",
              "      async function quickchart(key) {\n",
              "        const containerElement = document.querySelector('#' + key);\n",
              "        const charts = await google.colab.kernel.invokeFunction(\n",
              "            'suggestCharts', [key], {});\n",
              "      }\n",
              "    </script>\n",
              "\n",
              "      <script>\n",
              "\n",
              "function displayQuickchartButton(domScope) {\n",
              "  let quickchartButtonEl =\n",
              "    domScope.querySelector('#df-d6e31138-e8a8-4d33-ad67-57d957bff191 button.colab-df-quickchart');\n",
              "  quickchartButtonEl.style.display =\n",
              "    google.colab.kernel.accessAllowed ? 'block' : 'none';\n",
              "}\n",
              "\n",
              "        displayQuickchartButton(document);\n",
              "      </script>\n",
              "      <style>\n",
              "    .colab-df-container {\n",
              "      display:flex;\n",
              "      flex-wrap:wrap;\n",
              "      gap: 12px;\n",
              "    }\n",
              "\n",
              "    .colab-df-convert {\n",
              "      background-color: #E8F0FE;\n",
              "      border: none;\n",
              "      border-radius: 50%;\n",
              "      cursor: pointer;\n",
              "      display: none;\n",
              "      fill: #1967D2;\n",
              "      height: 32px;\n",
              "      padding: 0 0 0 0;\n",
              "      width: 32px;\n",
              "    }\n",
              "\n",
              "    .colab-df-convert:hover {\n",
              "      background-color: #E2EBFA;\n",
              "      box-shadow: 0px 1px 2px rgba(60, 64, 67, 0.3), 0px 1px 3px 1px rgba(60, 64, 67, 0.15);\n",
              "      fill: #174EA6;\n",
              "    }\n",
              "\n",
              "    [theme=dark] .colab-df-convert {\n",
              "      background-color: #3B4455;\n",
              "      fill: #D2E3FC;\n",
              "    }\n",
              "\n",
              "    [theme=dark] .colab-df-convert:hover {\n",
              "      background-color: #434B5C;\n",
              "      box-shadow: 0px 1px 3px 1px rgba(0, 0, 0, 0.15);\n",
              "      filter: drop-shadow(0px 1px 2px rgba(0, 0, 0, 0.3));\n",
              "      fill: #FFFFFF;\n",
              "    }\n",
              "  </style>\n",
              "\n",
              "      <script>\n",
              "        const buttonEl =\n",
              "          document.querySelector('#df-57b40c32-ba41-4296-928a-a5c442621bd2 button.colab-df-convert');\n",
              "        buttonEl.style.display =\n",
              "          google.colab.kernel.accessAllowed ? 'block' : 'none';\n",
              "\n",
              "        async function convertToInteractive(key) {\n",
              "          const element = document.querySelector('#df-57b40c32-ba41-4296-928a-a5c442621bd2');\n",
              "          const dataTable =\n",
              "            await google.colab.kernel.invokeFunction('convertToInteractive',\n",
              "                                                     [key], {});\n",
              "          if (!dataTable) return;\n",
              "\n",
              "          const docLinkHtml = 'Like what you see? Visit the ' +\n",
              "            '<a target=\"_blank\" href=https://colab.research.google.com/notebooks/data_table.ipynb>data table notebook</a>'\n",
              "            + ' to learn more about interactive tables.';\n",
              "          element.innerHTML = '';\n",
              "          dataTable['output_type'] = 'display_data';\n",
              "          await google.colab.output.renderOutput(dataTable, element);\n",
              "          const docLink = document.createElement('div');\n",
              "          docLink.innerHTML = docLinkHtml;\n",
              "          element.appendChild(docLink);\n",
              "        }\n",
              "      </script>\n",
              "    </div>\n",
              "  </div>\n"
            ]
          },
          "metadata": {},
          "execution_count": 7
        }
      ],
      "source": [
        "df"
      ]
    },
    {
      "cell_type": "code",
      "execution_count": null,
      "metadata": {
        "id": "I1sQKx7aEFKy"
      },
      "outputs": [],
      "source": [
        "df['date']=pd.to_datetime(df['date'])"
      ]
    },
    {
      "cell_type": "code",
      "source": [
        "df_grouped = df.groupby(['date', 'category']).agg({'revenue': 'sum'}).reset_index()"
      ],
      "metadata": {
        "id": "okQoKMlOzW5a"
      },
      "execution_count": null,
      "outputs": []
    },
    {
      "cell_type": "code",
      "source": [
        "df_grouped"
      ],
      "metadata": {
        "colab": {
          "base_uri": "https://localhost:8080/",
          "height": 423
        },
        "id": "kIfnKuIhzfty",
        "outputId": "cf4fdf4f-6fe8-48a6-98fa-d0b0c0545477"
      },
      "execution_count": null,
      "outputs": [
        {
          "output_type": "execute_result",
          "data": {
            "text/plain": [
              "           date            category  revenue\n",
              "0    2021-11-01          Foundation  8115000\n",
              "1    2021-11-01            Lip Tint  2101600\n",
              "2    2021-11-01             Lipstik  9446500\n",
              "3    2021-11-01  Parfum & Wewangian   995000\n",
              "4    2021-11-01      Pelembab Wajah  4179000\n",
              "...         ...                 ...      ...\n",
              "2516 2023-03-31          Foundation  5882000\n",
              "2517 2023-03-31            Lip Tint  2071000\n",
              "2518 2023-03-31             Lipstik  5375000\n",
              "2519 2023-03-31  Parfum & Wewangian  2985000\n",
              "2520 2023-03-31      Pelembab Wajah   985000\n",
              "\n",
              "[2521 rows x 3 columns]"
            ],
            "text/html": [
              "\n",
              "\n",
              "  <div id=\"df-924442fc-176f-4387-95ad-692fd0bfb8a5\">\n",
              "    <div class=\"colab-df-container\">\n",
              "      <div>\n",
              "<style scoped>\n",
              "    .dataframe tbody tr th:only-of-type {\n",
              "        vertical-align: middle;\n",
              "    }\n",
              "\n",
              "    .dataframe tbody tr th {\n",
              "        vertical-align: top;\n",
              "    }\n",
              "\n",
              "    .dataframe thead th {\n",
              "        text-align: right;\n",
              "    }\n",
              "</style>\n",
              "<table border=\"1\" class=\"dataframe\">\n",
              "  <thead>\n",
              "    <tr style=\"text-align: right;\">\n",
              "      <th></th>\n",
              "      <th>date</th>\n",
              "      <th>category</th>\n",
              "      <th>revenue</th>\n",
              "    </tr>\n",
              "  </thead>\n",
              "  <tbody>\n",
              "    <tr>\n",
              "      <th>0</th>\n",
              "      <td>2021-11-01</td>\n",
              "      <td>Foundation</td>\n",
              "      <td>8115000</td>\n",
              "    </tr>\n",
              "    <tr>\n",
              "      <th>1</th>\n",
              "      <td>2021-11-01</td>\n",
              "      <td>Lip Tint</td>\n",
              "      <td>2101600</td>\n",
              "    </tr>\n",
              "    <tr>\n",
              "      <th>2</th>\n",
              "      <td>2021-11-01</td>\n",
              "      <td>Lipstik</td>\n",
              "      <td>9446500</td>\n",
              "    </tr>\n",
              "    <tr>\n",
              "      <th>3</th>\n",
              "      <td>2021-11-01</td>\n",
              "      <td>Parfum &amp; Wewangian</td>\n",
              "      <td>995000</td>\n",
              "    </tr>\n",
              "    <tr>\n",
              "      <th>4</th>\n",
              "      <td>2021-11-01</td>\n",
              "      <td>Pelembab Wajah</td>\n",
              "      <td>4179000</td>\n",
              "    </tr>\n",
              "    <tr>\n",
              "      <th>...</th>\n",
              "      <td>...</td>\n",
              "      <td>...</td>\n",
              "      <td>...</td>\n",
              "    </tr>\n",
              "    <tr>\n",
              "      <th>2516</th>\n",
              "      <td>2023-03-31</td>\n",
              "      <td>Foundation</td>\n",
              "      <td>5882000</td>\n",
              "    </tr>\n",
              "    <tr>\n",
              "      <th>2517</th>\n",
              "      <td>2023-03-31</td>\n",
              "      <td>Lip Tint</td>\n",
              "      <td>2071000</td>\n",
              "    </tr>\n",
              "    <tr>\n",
              "      <th>2518</th>\n",
              "      <td>2023-03-31</td>\n",
              "      <td>Lipstik</td>\n",
              "      <td>5375000</td>\n",
              "    </tr>\n",
              "    <tr>\n",
              "      <th>2519</th>\n",
              "      <td>2023-03-31</td>\n",
              "      <td>Parfum &amp; Wewangian</td>\n",
              "      <td>2985000</td>\n",
              "    </tr>\n",
              "    <tr>\n",
              "      <th>2520</th>\n",
              "      <td>2023-03-31</td>\n",
              "      <td>Pelembab Wajah</td>\n",
              "      <td>985000</td>\n",
              "    </tr>\n",
              "  </tbody>\n",
              "</table>\n",
              "<p>2521 rows × 3 columns</p>\n",
              "</div>\n",
              "      <button class=\"colab-df-convert\" onclick=\"convertToInteractive('df-924442fc-176f-4387-95ad-692fd0bfb8a5')\"\n",
              "              title=\"Convert this dataframe to an interactive table.\"\n",
              "              style=\"display:none;\">\n",
              "\n",
              "  <svg xmlns=\"http://www.w3.org/2000/svg\" height=\"24px\"viewBox=\"0 0 24 24\"\n",
              "       width=\"24px\">\n",
              "    <path d=\"M0 0h24v24H0V0z\" fill=\"none\"/>\n",
              "    <path d=\"M18.56 5.44l.94 2.06.94-2.06 2.06-.94-2.06-.94-.94-2.06-.94 2.06-2.06.94zm-11 1L8.5 8.5l.94-2.06 2.06-.94-2.06-.94L8.5 2.5l-.94 2.06-2.06.94zm10 10l.94 2.06.94-2.06 2.06-.94-2.06-.94-.94-2.06-.94 2.06-2.06.94z\"/><path d=\"M17.41 7.96l-1.37-1.37c-.4-.4-.92-.59-1.43-.59-.52 0-1.04.2-1.43.59L10.3 9.45l-7.72 7.72c-.78.78-.78 2.05 0 2.83L4 21.41c.39.39.9.59 1.41.59.51 0 1.02-.2 1.41-.59l7.78-7.78 2.81-2.81c.8-.78.8-2.07 0-2.86zM5.41 20L4 18.59l7.72-7.72 1.47 1.35L5.41 20z\"/>\n",
              "  </svg>\n",
              "      </button>\n",
              "\n",
              "\n",
              "\n",
              "    <div id=\"df-5f09d959-649a-4759-bed4-0991326eb016\">\n",
              "      <button class=\"colab-df-quickchart\" onclick=\"quickchart('df-5f09d959-649a-4759-bed4-0991326eb016')\"\n",
              "              title=\"Suggest charts.\"\n",
              "              style=\"display:none;\">\n",
              "\n",
              "<svg xmlns=\"http://www.w3.org/2000/svg\" height=\"24px\"viewBox=\"0 0 24 24\"\n",
              "     width=\"24px\">\n",
              "    <g>\n",
              "        <path d=\"M19 3H5c-1.1 0-2 .9-2 2v14c0 1.1.9 2 2 2h14c1.1 0 2-.9 2-2V5c0-1.1-.9-2-2-2zM9 17H7v-7h2v7zm4 0h-2V7h2v10zm4 0h-2v-4h2v4z\"/>\n",
              "    </g>\n",
              "</svg>\n",
              "      </button>\n",
              "    </div>\n",
              "\n",
              "<style>\n",
              "  .colab-df-quickchart {\n",
              "    background-color: #E8F0FE;\n",
              "    border: none;\n",
              "    border-radius: 50%;\n",
              "    cursor: pointer;\n",
              "    display: none;\n",
              "    fill: #1967D2;\n",
              "    height: 32px;\n",
              "    padding: 0 0 0 0;\n",
              "    width: 32px;\n",
              "  }\n",
              "\n",
              "  .colab-df-quickchart:hover {\n",
              "    background-color: #E2EBFA;\n",
              "    box-shadow: 0px 1px 2px rgba(60, 64, 67, 0.3), 0px 1px 3px 1px rgba(60, 64, 67, 0.15);\n",
              "    fill: #174EA6;\n",
              "  }\n",
              "\n",
              "  [theme=dark] .colab-df-quickchart {\n",
              "    background-color: #3B4455;\n",
              "    fill: #D2E3FC;\n",
              "  }\n",
              "\n",
              "  [theme=dark] .colab-df-quickchart:hover {\n",
              "    background-color: #434B5C;\n",
              "    box-shadow: 0px 1px 3px 1px rgba(0, 0, 0, 0.15);\n",
              "    filter: drop-shadow(0px 1px 2px rgba(0, 0, 0, 0.3));\n",
              "    fill: #FFFFFF;\n",
              "  }\n",
              "</style>\n",
              "\n",
              "    <script>\n",
              "      async function quickchart(key) {\n",
              "        const containerElement = document.querySelector('#' + key);\n",
              "        const charts = await google.colab.kernel.invokeFunction(\n",
              "            'suggestCharts', [key], {});\n",
              "      }\n",
              "    </script>\n",
              "\n",
              "      <script>\n",
              "\n",
              "function displayQuickchartButton(domScope) {\n",
              "  let quickchartButtonEl =\n",
              "    domScope.querySelector('#df-5f09d959-649a-4759-bed4-0991326eb016 button.colab-df-quickchart');\n",
              "  quickchartButtonEl.style.display =\n",
              "    google.colab.kernel.accessAllowed ? 'block' : 'none';\n",
              "}\n",
              "\n",
              "        displayQuickchartButton(document);\n",
              "      </script>\n",
              "      <style>\n",
              "    .colab-df-container {\n",
              "      display:flex;\n",
              "      flex-wrap:wrap;\n",
              "      gap: 12px;\n",
              "    }\n",
              "\n",
              "    .colab-df-convert {\n",
              "      background-color: #E8F0FE;\n",
              "      border: none;\n",
              "      border-radius: 50%;\n",
              "      cursor: pointer;\n",
              "      display: none;\n",
              "      fill: #1967D2;\n",
              "      height: 32px;\n",
              "      padding: 0 0 0 0;\n",
              "      width: 32px;\n",
              "    }\n",
              "\n",
              "    .colab-df-convert:hover {\n",
              "      background-color: #E2EBFA;\n",
              "      box-shadow: 0px 1px 2px rgba(60, 64, 67, 0.3), 0px 1px 3px 1px rgba(60, 64, 67, 0.15);\n",
              "      fill: #174EA6;\n",
              "    }\n",
              "\n",
              "    [theme=dark] .colab-df-convert {\n",
              "      background-color: #3B4455;\n",
              "      fill: #D2E3FC;\n",
              "    }\n",
              "\n",
              "    [theme=dark] .colab-df-convert:hover {\n",
              "      background-color: #434B5C;\n",
              "      box-shadow: 0px 1px 3px 1px rgba(0, 0, 0, 0.15);\n",
              "      filter: drop-shadow(0px 1px 2px rgba(0, 0, 0, 0.3));\n",
              "      fill: #FFFFFF;\n",
              "    }\n",
              "  </style>\n",
              "\n",
              "      <script>\n",
              "        const buttonEl =\n",
              "          document.querySelector('#df-924442fc-176f-4387-95ad-692fd0bfb8a5 button.colab-df-convert');\n",
              "        buttonEl.style.display =\n",
              "          google.colab.kernel.accessAllowed ? 'block' : 'none';\n",
              "\n",
              "        async function convertToInteractive(key) {\n",
              "          const element = document.querySelector('#df-924442fc-176f-4387-95ad-692fd0bfb8a5');\n",
              "          const dataTable =\n",
              "            await google.colab.kernel.invokeFunction('convertToInteractive',\n",
              "                                                     [key], {});\n",
              "          if (!dataTable) return;\n",
              "\n",
              "          const docLinkHtml = 'Like what you see? Visit the ' +\n",
              "            '<a target=\"_blank\" href=https://colab.research.google.com/notebooks/data_table.ipynb>data table notebook</a>'\n",
              "            + ' to learn more about interactive tables.';\n",
              "          element.innerHTML = '';\n",
              "          dataTable['output_type'] = 'display_data';\n",
              "          await google.colab.output.renderOutput(dataTable, element);\n",
              "          const docLink = document.createElement('div');\n",
              "          docLink.innerHTML = docLinkHtml;\n",
              "          element.appendChild(docLink);\n",
              "        }\n",
              "      </script>\n",
              "    </div>\n",
              "  </div>\n"
            ]
          },
          "metadata": {},
          "execution_count": 10
        }
      ]
    },
    {
      "cell_type": "code",
      "source": [
        "df_new = df_grouped.pivot(index='date', columns='category', values='revenue').reset_index()"
      ],
      "metadata": {
        "id": "AKS8B2-Rzk0q"
      },
      "execution_count": null,
      "outputs": []
    },
    {
      "cell_type": "code",
      "source": [
        "df_new.fillna(0, inplace=True)"
      ],
      "metadata": {
        "id": "PqrO42B4zrpR"
      },
      "execution_count": null,
      "outputs": []
    },
    {
      "cell_type": "code",
      "source": [
        "df_new"
      ],
      "metadata": {
        "colab": {
          "base_uri": "https://localhost:8080/",
          "height": 423
        },
        "id": "1pNplRt-zuEh",
        "outputId": "c3dd291b-ac44-4fc1-b684-3bf86e9dabce"
      },
      "execution_count": null,
      "outputs": [
        {
          "output_type": "execute_result",
          "data": {
            "text/plain": [
              "category       date  Foundation    Lip Tint    Lipstik  Parfum & Wewangian  \\\n",
              "0        2021-11-01   8115000.0   2101600.0  9446500.0            995000.0   \n",
              "1        2021-11-02   3197000.0    218900.0  1806000.0           2388000.0   \n",
              "2        2021-11-03   2738000.0   1050100.0  1677000.0           1592000.0   \n",
              "3        2021-11-04  18551000.0   2001000.0  2064000.0           1791000.0   \n",
              "4        2021-11-05   8798000.0   3253400.0  7443000.0            398000.0   \n",
              "..              ...         ...         ...        ...                 ...   \n",
              "511      2023-03-27   4920000.0    165000.0        0.0           2786000.0   \n",
              "512      2023-03-28   4953000.0    165000.0        0.0           2388000.0   \n",
              "513      2023-03-29   6801000.0  11227000.0  3000000.0           2587000.0   \n",
              "514      2023-03-30   8880000.0  11892000.0  5625000.0           2985000.0   \n",
              "515      2023-03-31   5882000.0   2071000.0  5375000.0           2985000.0   \n",
              "\n",
              "category  Pelembab Wajah  \n",
              "0              4179000.0  \n",
              "1              4577000.0  \n",
              "2              4776000.0  \n",
              "3              4975000.0  \n",
              "4              4776000.0  \n",
              "..                   ...  \n",
              "511             591000.0  \n",
              "512             197000.0  \n",
              "513            1773000.0  \n",
              "514             197000.0  \n",
              "515             985000.0  \n",
              "\n",
              "[516 rows x 6 columns]"
            ],
            "text/html": [
              "\n",
              "\n",
              "  <div id=\"df-6c470868-de57-4ebb-9a8c-c8c2fe3ac5a4\">\n",
              "    <div class=\"colab-df-container\">\n",
              "      <div>\n",
              "<style scoped>\n",
              "    .dataframe tbody tr th:only-of-type {\n",
              "        vertical-align: middle;\n",
              "    }\n",
              "\n",
              "    .dataframe tbody tr th {\n",
              "        vertical-align: top;\n",
              "    }\n",
              "\n",
              "    .dataframe thead th {\n",
              "        text-align: right;\n",
              "    }\n",
              "</style>\n",
              "<table border=\"1\" class=\"dataframe\">\n",
              "  <thead>\n",
              "    <tr style=\"text-align: right;\">\n",
              "      <th>category</th>\n",
              "      <th>date</th>\n",
              "      <th>Foundation</th>\n",
              "      <th>Lip Tint</th>\n",
              "      <th>Lipstik</th>\n",
              "      <th>Parfum &amp; Wewangian</th>\n",
              "      <th>Pelembab Wajah</th>\n",
              "    </tr>\n",
              "  </thead>\n",
              "  <tbody>\n",
              "    <tr>\n",
              "      <th>0</th>\n",
              "      <td>2021-11-01</td>\n",
              "      <td>8115000.0</td>\n",
              "      <td>2101600.0</td>\n",
              "      <td>9446500.0</td>\n",
              "      <td>995000.0</td>\n",
              "      <td>4179000.0</td>\n",
              "    </tr>\n",
              "    <tr>\n",
              "      <th>1</th>\n",
              "      <td>2021-11-02</td>\n",
              "      <td>3197000.0</td>\n",
              "      <td>218900.0</td>\n",
              "      <td>1806000.0</td>\n",
              "      <td>2388000.0</td>\n",
              "      <td>4577000.0</td>\n",
              "    </tr>\n",
              "    <tr>\n",
              "      <th>2</th>\n",
              "      <td>2021-11-03</td>\n",
              "      <td>2738000.0</td>\n",
              "      <td>1050100.0</td>\n",
              "      <td>1677000.0</td>\n",
              "      <td>1592000.0</td>\n",
              "      <td>4776000.0</td>\n",
              "    </tr>\n",
              "    <tr>\n",
              "      <th>3</th>\n",
              "      <td>2021-11-04</td>\n",
              "      <td>18551000.0</td>\n",
              "      <td>2001000.0</td>\n",
              "      <td>2064000.0</td>\n",
              "      <td>1791000.0</td>\n",
              "      <td>4975000.0</td>\n",
              "    </tr>\n",
              "    <tr>\n",
              "      <th>4</th>\n",
              "      <td>2021-11-05</td>\n",
              "      <td>8798000.0</td>\n",
              "      <td>3253400.0</td>\n",
              "      <td>7443000.0</td>\n",
              "      <td>398000.0</td>\n",
              "      <td>4776000.0</td>\n",
              "    </tr>\n",
              "    <tr>\n",
              "      <th>...</th>\n",
              "      <td>...</td>\n",
              "      <td>...</td>\n",
              "      <td>...</td>\n",
              "      <td>...</td>\n",
              "      <td>...</td>\n",
              "      <td>...</td>\n",
              "    </tr>\n",
              "    <tr>\n",
              "      <th>511</th>\n",
              "      <td>2023-03-27</td>\n",
              "      <td>4920000.0</td>\n",
              "      <td>165000.0</td>\n",
              "      <td>0.0</td>\n",
              "      <td>2786000.0</td>\n",
              "      <td>591000.0</td>\n",
              "    </tr>\n",
              "    <tr>\n",
              "      <th>512</th>\n",
              "      <td>2023-03-28</td>\n",
              "      <td>4953000.0</td>\n",
              "      <td>165000.0</td>\n",
              "      <td>0.0</td>\n",
              "      <td>2388000.0</td>\n",
              "      <td>197000.0</td>\n",
              "    </tr>\n",
              "    <tr>\n",
              "      <th>513</th>\n",
              "      <td>2023-03-29</td>\n",
              "      <td>6801000.0</td>\n",
              "      <td>11227000.0</td>\n",
              "      <td>3000000.0</td>\n",
              "      <td>2587000.0</td>\n",
              "      <td>1773000.0</td>\n",
              "    </tr>\n",
              "    <tr>\n",
              "      <th>514</th>\n",
              "      <td>2023-03-30</td>\n",
              "      <td>8880000.0</td>\n",
              "      <td>11892000.0</td>\n",
              "      <td>5625000.0</td>\n",
              "      <td>2985000.0</td>\n",
              "      <td>197000.0</td>\n",
              "    </tr>\n",
              "    <tr>\n",
              "      <th>515</th>\n",
              "      <td>2023-03-31</td>\n",
              "      <td>5882000.0</td>\n",
              "      <td>2071000.0</td>\n",
              "      <td>5375000.0</td>\n",
              "      <td>2985000.0</td>\n",
              "      <td>985000.0</td>\n",
              "    </tr>\n",
              "  </tbody>\n",
              "</table>\n",
              "<p>516 rows × 6 columns</p>\n",
              "</div>\n",
              "      <button class=\"colab-df-convert\" onclick=\"convertToInteractive('df-6c470868-de57-4ebb-9a8c-c8c2fe3ac5a4')\"\n",
              "              title=\"Convert this dataframe to an interactive table.\"\n",
              "              style=\"display:none;\">\n",
              "\n",
              "  <svg xmlns=\"http://www.w3.org/2000/svg\" height=\"24px\"viewBox=\"0 0 24 24\"\n",
              "       width=\"24px\">\n",
              "    <path d=\"M0 0h24v24H0V0z\" fill=\"none\"/>\n",
              "    <path d=\"M18.56 5.44l.94 2.06.94-2.06 2.06-.94-2.06-.94-.94-2.06-.94 2.06-2.06.94zm-11 1L8.5 8.5l.94-2.06 2.06-.94-2.06-.94L8.5 2.5l-.94 2.06-2.06.94zm10 10l.94 2.06.94-2.06 2.06-.94-2.06-.94-.94-2.06-.94 2.06-2.06.94z\"/><path d=\"M17.41 7.96l-1.37-1.37c-.4-.4-.92-.59-1.43-.59-.52 0-1.04.2-1.43.59L10.3 9.45l-7.72 7.72c-.78.78-.78 2.05 0 2.83L4 21.41c.39.39.9.59 1.41.59.51 0 1.02-.2 1.41-.59l7.78-7.78 2.81-2.81c.8-.78.8-2.07 0-2.86zM5.41 20L4 18.59l7.72-7.72 1.47 1.35L5.41 20z\"/>\n",
              "  </svg>\n",
              "      </button>\n",
              "\n",
              "\n",
              "\n",
              "    <div id=\"df-43ebbede-8d70-470f-b9e7-dc8c7f75159a\">\n",
              "      <button class=\"colab-df-quickchart\" onclick=\"quickchart('df-43ebbede-8d70-470f-b9e7-dc8c7f75159a')\"\n",
              "              title=\"Suggest charts.\"\n",
              "              style=\"display:none;\">\n",
              "\n",
              "<svg xmlns=\"http://www.w3.org/2000/svg\" height=\"24px\"viewBox=\"0 0 24 24\"\n",
              "     width=\"24px\">\n",
              "    <g>\n",
              "        <path d=\"M19 3H5c-1.1 0-2 .9-2 2v14c0 1.1.9 2 2 2h14c1.1 0 2-.9 2-2V5c0-1.1-.9-2-2-2zM9 17H7v-7h2v7zm4 0h-2V7h2v10zm4 0h-2v-4h2v4z\"/>\n",
              "    </g>\n",
              "</svg>\n",
              "      </button>\n",
              "    </div>\n",
              "\n",
              "<style>\n",
              "  .colab-df-quickchart {\n",
              "    background-color: #E8F0FE;\n",
              "    border: none;\n",
              "    border-radius: 50%;\n",
              "    cursor: pointer;\n",
              "    display: none;\n",
              "    fill: #1967D2;\n",
              "    height: 32px;\n",
              "    padding: 0 0 0 0;\n",
              "    width: 32px;\n",
              "  }\n",
              "\n",
              "  .colab-df-quickchart:hover {\n",
              "    background-color: #E2EBFA;\n",
              "    box-shadow: 0px 1px 2px rgba(60, 64, 67, 0.3), 0px 1px 3px 1px rgba(60, 64, 67, 0.15);\n",
              "    fill: #174EA6;\n",
              "  }\n",
              "\n",
              "  [theme=dark] .colab-df-quickchart {\n",
              "    background-color: #3B4455;\n",
              "    fill: #D2E3FC;\n",
              "  }\n",
              "\n",
              "  [theme=dark] .colab-df-quickchart:hover {\n",
              "    background-color: #434B5C;\n",
              "    box-shadow: 0px 1px 3px 1px rgba(0, 0, 0, 0.15);\n",
              "    filter: drop-shadow(0px 1px 2px rgba(0, 0, 0, 0.3));\n",
              "    fill: #FFFFFF;\n",
              "  }\n",
              "</style>\n",
              "\n",
              "    <script>\n",
              "      async function quickchart(key) {\n",
              "        const containerElement = document.querySelector('#' + key);\n",
              "        const charts = await google.colab.kernel.invokeFunction(\n",
              "            'suggestCharts', [key], {});\n",
              "      }\n",
              "    </script>\n",
              "\n",
              "      <script>\n",
              "\n",
              "function displayQuickchartButton(domScope) {\n",
              "  let quickchartButtonEl =\n",
              "    domScope.querySelector('#df-43ebbede-8d70-470f-b9e7-dc8c7f75159a button.colab-df-quickchart');\n",
              "  quickchartButtonEl.style.display =\n",
              "    google.colab.kernel.accessAllowed ? 'block' : 'none';\n",
              "}\n",
              "\n",
              "        displayQuickchartButton(document);\n",
              "      </script>\n",
              "      <style>\n",
              "    .colab-df-container {\n",
              "      display:flex;\n",
              "      flex-wrap:wrap;\n",
              "      gap: 12px;\n",
              "    }\n",
              "\n",
              "    .colab-df-convert {\n",
              "      background-color: #E8F0FE;\n",
              "      border: none;\n",
              "      border-radius: 50%;\n",
              "      cursor: pointer;\n",
              "      display: none;\n",
              "      fill: #1967D2;\n",
              "      height: 32px;\n",
              "      padding: 0 0 0 0;\n",
              "      width: 32px;\n",
              "    }\n",
              "\n",
              "    .colab-df-convert:hover {\n",
              "      background-color: #E2EBFA;\n",
              "      box-shadow: 0px 1px 2px rgba(60, 64, 67, 0.3), 0px 1px 3px 1px rgba(60, 64, 67, 0.15);\n",
              "      fill: #174EA6;\n",
              "    }\n",
              "\n",
              "    [theme=dark] .colab-df-convert {\n",
              "      background-color: #3B4455;\n",
              "      fill: #D2E3FC;\n",
              "    }\n",
              "\n",
              "    [theme=dark] .colab-df-convert:hover {\n",
              "      background-color: #434B5C;\n",
              "      box-shadow: 0px 1px 3px 1px rgba(0, 0, 0, 0.15);\n",
              "      filter: drop-shadow(0px 1px 2px rgba(0, 0, 0, 0.3));\n",
              "      fill: #FFFFFF;\n",
              "    }\n",
              "  </style>\n",
              "\n",
              "      <script>\n",
              "        const buttonEl =\n",
              "          document.querySelector('#df-6c470868-de57-4ebb-9a8c-c8c2fe3ac5a4 button.colab-df-convert');\n",
              "        buttonEl.style.display =\n",
              "          google.colab.kernel.accessAllowed ? 'block' : 'none';\n",
              "\n",
              "        async function convertToInteractive(key) {\n",
              "          const element = document.querySelector('#df-6c470868-de57-4ebb-9a8c-c8c2fe3ac5a4');\n",
              "          const dataTable =\n",
              "            await google.colab.kernel.invokeFunction('convertToInteractive',\n",
              "                                                     [key], {});\n",
              "          if (!dataTable) return;\n",
              "\n",
              "          const docLinkHtml = 'Like what you see? Visit the ' +\n",
              "            '<a target=\"_blank\" href=https://colab.research.google.com/notebooks/data_table.ipynb>data table notebook</a>'\n",
              "            + ' to learn more about interactive tables.';\n",
              "          element.innerHTML = '';\n",
              "          dataTable['output_type'] = 'display_data';\n",
              "          await google.colab.output.renderOutput(dataTable, element);\n",
              "          const docLink = document.createElement('div');\n",
              "          docLink.innerHTML = docLinkHtml;\n",
              "          element.appendChild(docLink);\n",
              "        }\n",
              "      </script>\n",
              "    </div>\n",
              "  </div>\n"
            ]
          },
          "metadata": {},
          "execution_count": 13
        }
      ]
    },
    {
      "cell_type": "code",
      "execution_count": null,
      "metadata": {
        "id": "HG9JNfe6EJEh"
      },
      "outputs": [],
      "source": [
        "df_final=df_new.set_index('date')"
      ]
    },
    {
      "cell_type": "code",
      "execution_count": null,
      "metadata": {
        "colab": {
          "base_uri": "https://localhost:8080/",
          "height": 455
        },
        "id": "Qe_LYx1F4N6r",
        "outputId": "73b2329d-b0ce-4a89-cdb3-6cdbba4450b3"
      },
      "outputs": [
        {
          "output_type": "execute_result",
          "data": {
            "text/plain": [
              "category    Foundation    Lip Tint    Lipstik  Parfum & Wewangian  \\\n",
              "date                                                                \n",
              "2021-11-01   8115000.0   2101600.0  9446500.0            995000.0   \n",
              "2021-11-02   3197000.0    218900.0  1806000.0           2388000.0   \n",
              "2021-11-03   2738000.0   1050100.0  1677000.0           1592000.0   \n",
              "2021-11-04  18551000.0   2001000.0  2064000.0           1791000.0   \n",
              "2021-11-05   8798000.0   3253400.0  7443000.0            398000.0   \n",
              "...                ...         ...        ...                 ...   \n",
              "2023-03-27   4920000.0    165000.0        0.0           2786000.0   \n",
              "2023-03-28   4953000.0    165000.0        0.0           2388000.0   \n",
              "2023-03-29   6801000.0  11227000.0  3000000.0           2587000.0   \n",
              "2023-03-30   8880000.0  11892000.0  5625000.0           2985000.0   \n",
              "2023-03-31   5882000.0   2071000.0  5375000.0           2985000.0   \n",
              "\n",
              "category    Pelembab Wajah  \n",
              "date                        \n",
              "2021-11-01       4179000.0  \n",
              "2021-11-02       4577000.0  \n",
              "2021-11-03       4776000.0  \n",
              "2021-11-04       4975000.0  \n",
              "2021-11-05       4776000.0  \n",
              "...                    ...  \n",
              "2023-03-27        591000.0  \n",
              "2023-03-28        197000.0  \n",
              "2023-03-29       1773000.0  \n",
              "2023-03-30        197000.0  \n",
              "2023-03-31        985000.0  \n",
              "\n",
              "[516 rows x 5 columns]"
            ],
            "text/html": [
              "\n",
              "\n",
              "  <div id=\"df-3b1a1a70-1b80-44eb-9063-26d4d3246c1c\">\n",
              "    <div class=\"colab-df-container\">\n",
              "      <div>\n",
              "<style scoped>\n",
              "    .dataframe tbody tr th:only-of-type {\n",
              "        vertical-align: middle;\n",
              "    }\n",
              "\n",
              "    .dataframe tbody tr th {\n",
              "        vertical-align: top;\n",
              "    }\n",
              "\n",
              "    .dataframe thead th {\n",
              "        text-align: right;\n",
              "    }\n",
              "</style>\n",
              "<table border=\"1\" class=\"dataframe\">\n",
              "  <thead>\n",
              "    <tr style=\"text-align: right;\">\n",
              "      <th>category</th>\n",
              "      <th>Foundation</th>\n",
              "      <th>Lip Tint</th>\n",
              "      <th>Lipstik</th>\n",
              "      <th>Parfum &amp; Wewangian</th>\n",
              "      <th>Pelembab Wajah</th>\n",
              "    </tr>\n",
              "    <tr>\n",
              "      <th>date</th>\n",
              "      <th></th>\n",
              "      <th></th>\n",
              "      <th></th>\n",
              "      <th></th>\n",
              "      <th></th>\n",
              "    </tr>\n",
              "  </thead>\n",
              "  <tbody>\n",
              "    <tr>\n",
              "      <th>2021-11-01</th>\n",
              "      <td>8115000.0</td>\n",
              "      <td>2101600.0</td>\n",
              "      <td>9446500.0</td>\n",
              "      <td>995000.0</td>\n",
              "      <td>4179000.0</td>\n",
              "    </tr>\n",
              "    <tr>\n",
              "      <th>2021-11-02</th>\n",
              "      <td>3197000.0</td>\n",
              "      <td>218900.0</td>\n",
              "      <td>1806000.0</td>\n",
              "      <td>2388000.0</td>\n",
              "      <td>4577000.0</td>\n",
              "    </tr>\n",
              "    <tr>\n",
              "      <th>2021-11-03</th>\n",
              "      <td>2738000.0</td>\n",
              "      <td>1050100.0</td>\n",
              "      <td>1677000.0</td>\n",
              "      <td>1592000.0</td>\n",
              "      <td>4776000.0</td>\n",
              "    </tr>\n",
              "    <tr>\n",
              "      <th>2021-11-04</th>\n",
              "      <td>18551000.0</td>\n",
              "      <td>2001000.0</td>\n",
              "      <td>2064000.0</td>\n",
              "      <td>1791000.0</td>\n",
              "      <td>4975000.0</td>\n",
              "    </tr>\n",
              "    <tr>\n",
              "      <th>2021-11-05</th>\n",
              "      <td>8798000.0</td>\n",
              "      <td>3253400.0</td>\n",
              "      <td>7443000.0</td>\n",
              "      <td>398000.0</td>\n",
              "      <td>4776000.0</td>\n",
              "    </tr>\n",
              "    <tr>\n",
              "      <th>...</th>\n",
              "      <td>...</td>\n",
              "      <td>...</td>\n",
              "      <td>...</td>\n",
              "      <td>...</td>\n",
              "      <td>...</td>\n",
              "    </tr>\n",
              "    <tr>\n",
              "      <th>2023-03-27</th>\n",
              "      <td>4920000.0</td>\n",
              "      <td>165000.0</td>\n",
              "      <td>0.0</td>\n",
              "      <td>2786000.0</td>\n",
              "      <td>591000.0</td>\n",
              "    </tr>\n",
              "    <tr>\n",
              "      <th>2023-03-28</th>\n",
              "      <td>4953000.0</td>\n",
              "      <td>165000.0</td>\n",
              "      <td>0.0</td>\n",
              "      <td>2388000.0</td>\n",
              "      <td>197000.0</td>\n",
              "    </tr>\n",
              "    <tr>\n",
              "      <th>2023-03-29</th>\n",
              "      <td>6801000.0</td>\n",
              "      <td>11227000.0</td>\n",
              "      <td>3000000.0</td>\n",
              "      <td>2587000.0</td>\n",
              "      <td>1773000.0</td>\n",
              "    </tr>\n",
              "    <tr>\n",
              "      <th>2023-03-30</th>\n",
              "      <td>8880000.0</td>\n",
              "      <td>11892000.0</td>\n",
              "      <td>5625000.0</td>\n",
              "      <td>2985000.0</td>\n",
              "      <td>197000.0</td>\n",
              "    </tr>\n",
              "    <tr>\n",
              "      <th>2023-03-31</th>\n",
              "      <td>5882000.0</td>\n",
              "      <td>2071000.0</td>\n",
              "      <td>5375000.0</td>\n",
              "      <td>2985000.0</td>\n",
              "      <td>985000.0</td>\n",
              "    </tr>\n",
              "  </tbody>\n",
              "</table>\n",
              "<p>516 rows × 5 columns</p>\n",
              "</div>\n",
              "      <button class=\"colab-df-convert\" onclick=\"convertToInteractive('df-3b1a1a70-1b80-44eb-9063-26d4d3246c1c')\"\n",
              "              title=\"Convert this dataframe to an interactive table.\"\n",
              "              style=\"display:none;\">\n",
              "\n",
              "  <svg xmlns=\"http://www.w3.org/2000/svg\" height=\"24px\"viewBox=\"0 0 24 24\"\n",
              "       width=\"24px\">\n",
              "    <path d=\"M0 0h24v24H0V0z\" fill=\"none\"/>\n",
              "    <path d=\"M18.56 5.44l.94 2.06.94-2.06 2.06-.94-2.06-.94-.94-2.06-.94 2.06-2.06.94zm-11 1L8.5 8.5l.94-2.06 2.06-.94-2.06-.94L8.5 2.5l-.94 2.06-2.06.94zm10 10l.94 2.06.94-2.06 2.06-.94-2.06-.94-.94-2.06-.94 2.06-2.06.94z\"/><path d=\"M17.41 7.96l-1.37-1.37c-.4-.4-.92-.59-1.43-.59-.52 0-1.04.2-1.43.59L10.3 9.45l-7.72 7.72c-.78.78-.78 2.05 0 2.83L4 21.41c.39.39.9.59 1.41.59.51 0 1.02-.2 1.41-.59l7.78-7.78 2.81-2.81c.8-.78.8-2.07 0-2.86zM5.41 20L4 18.59l7.72-7.72 1.47 1.35L5.41 20z\"/>\n",
              "  </svg>\n",
              "      </button>\n",
              "\n",
              "\n",
              "\n",
              "    <div id=\"df-2ee87a6b-c8bf-4d71-bab5-c9e4e091873b\">\n",
              "      <button class=\"colab-df-quickchart\" onclick=\"quickchart('df-2ee87a6b-c8bf-4d71-bab5-c9e4e091873b')\"\n",
              "              title=\"Suggest charts.\"\n",
              "              style=\"display:none;\">\n",
              "\n",
              "<svg xmlns=\"http://www.w3.org/2000/svg\" height=\"24px\"viewBox=\"0 0 24 24\"\n",
              "     width=\"24px\">\n",
              "    <g>\n",
              "        <path d=\"M19 3H5c-1.1 0-2 .9-2 2v14c0 1.1.9 2 2 2h14c1.1 0 2-.9 2-2V5c0-1.1-.9-2-2-2zM9 17H7v-7h2v7zm4 0h-2V7h2v10zm4 0h-2v-4h2v4z\"/>\n",
              "    </g>\n",
              "</svg>\n",
              "      </button>\n",
              "    </div>\n",
              "\n",
              "<style>\n",
              "  .colab-df-quickchart {\n",
              "    background-color: #E8F0FE;\n",
              "    border: none;\n",
              "    border-radius: 50%;\n",
              "    cursor: pointer;\n",
              "    display: none;\n",
              "    fill: #1967D2;\n",
              "    height: 32px;\n",
              "    padding: 0 0 0 0;\n",
              "    width: 32px;\n",
              "  }\n",
              "\n",
              "  .colab-df-quickchart:hover {\n",
              "    background-color: #E2EBFA;\n",
              "    box-shadow: 0px 1px 2px rgba(60, 64, 67, 0.3), 0px 1px 3px 1px rgba(60, 64, 67, 0.15);\n",
              "    fill: #174EA6;\n",
              "  }\n",
              "\n",
              "  [theme=dark] .colab-df-quickchart {\n",
              "    background-color: #3B4455;\n",
              "    fill: #D2E3FC;\n",
              "  }\n",
              "\n",
              "  [theme=dark] .colab-df-quickchart:hover {\n",
              "    background-color: #434B5C;\n",
              "    box-shadow: 0px 1px 3px 1px rgba(0, 0, 0, 0.15);\n",
              "    filter: drop-shadow(0px 1px 2px rgba(0, 0, 0, 0.3));\n",
              "    fill: #FFFFFF;\n",
              "  }\n",
              "</style>\n",
              "\n",
              "    <script>\n",
              "      async function quickchart(key) {\n",
              "        const containerElement = document.querySelector('#' + key);\n",
              "        const charts = await google.colab.kernel.invokeFunction(\n",
              "            'suggestCharts', [key], {});\n",
              "      }\n",
              "    </script>\n",
              "\n",
              "      <script>\n",
              "\n",
              "function displayQuickchartButton(domScope) {\n",
              "  let quickchartButtonEl =\n",
              "    domScope.querySelector('#df-2ee87a6b-c8bf-4d71-bab5-c9e4e091873b button.colab-df-quickchart');\n",
              "  quickchartButtonEl.style.display =\n",
              "    google.colab.kernel.accessAllowed ? 'block' : 'none';\n",
              "}\n",
              "\n",
              "        displayQuickchartButton(document);\n",
              "      </script>\n",
              "      <style>\n",
              "    .colab-df-container {\n",
              "      display:flex;\n",
              "      flex-wrap:wrap;\n",
              "      gap: 12px;\n",
              "    }\n",
              "\n",
              "    .colab-df-convert {\n",
              "      background-color: #E8F0FE;\n",
              "      border: none;\n",
              "      border-radius: 50%;\n",
              "      cursor: pointer;\n",
              "      display: none;\n",
              "      fill: #1967D2;\n",
              "      height: 32px;\n",
              "      padding: 0 0 0 0;\n",
              "      width: 32px;\n",
              "    }\n",
              "\n",
              "    .colab-df-convert:hover {\n",
              "      background-color: #E2EBFA;\n",
              "      box-shadow: 0px 1px 2px rgba(60, 64, 67, 0.3), 0px 1px 3px 1px rgba(60, 64, 67, 0.15);\n",
              "      fill: #174EA6;\n",
              "    }\n",
              "\n",
              "    [theme=dark] .colab-df-convert {\n",
              "      background-color: #3B4455;\n",
              "      fill: #D2E3FC;\n",
              "    }\n",
              "\n",
              "    [theme=dark] .colab-df-convert:hover {\n",
              "      background-color: #434B5C;\n",
              "      box-shadow: 0px 1px 3px 1px rgba(0, 0, 0, 0.15);\n",
              "      filter: drop-shadow(0px 1px 2px rgba(0, 0, 0, 0.3));\n",
              "      fill: #FFFFFF;\n",
              "    }\n",
              "  </style>\n",
              "\n",
              "      <script>\n",
              "        const buttonEl =\n",
              "          document.querySelector('#df-3b1a1a70-1b80-44eb-9063-26d4d3246c1c button.colab-df-convert');\n",
              "        buttonEl.style.display =\n",
              "          google.colab.kernel.accessAllowed ? 'block' : 'none';\n",
              "\n",
              "        async function convertToInteractive(key) {\n",
              "          const element = document.querySelector('#df-3b1a1a70-1b80-44eb-9063-26d4d3246c1c');\n",
              "          const dataTable =\n",
              "            await google.colab.kernel.invokeFunction('convertToInteractive',\n",
              "                                                     [key], {});\n",
              "          if (!dataTable) return;\n",
              "\n",
              "          const docLinkHtml = 'Like what you see? Visit the ' +\n",
              "            '<a target=\"_blank\" href=https://colab.research.google.com/notebooks/data_table.ipynb>data table notebook</a>'\n",
              "            + ' to learn more about interactive tables.';\n",
              "          element.innerHTML = '';\n",
              "          dataTable['output_type'] = 'display_data';\n",
              "          await google.colab.output.renderOutput(dataTable, element);\n",
              "          const docLink = document.createElement('div');\n",
              "          docLink.innerHTML = docLinkHtml;\n",
              "          element.appendChild(docLink);\n",
              "        }\n",
              "      </script>\n",
              "    </div>\n",
              "  </div>\n"
            ]
          },
          "metadata": {},
          "execution_count": 15
        }
      ],
      "source": [
        "df_final"
      ]
    },
    {
      "cell_type": "code",
      "source": [
        "# Pengecekan duplikat\n",
        "is_duplicate = df_final.duplicated()\n",
        "\n",
        "# Menampilkan hasil pengecekan duplikat\n",
        "print(is_duplicate)"
      ],
      "metadata": {
        "colab": {
          "base_uri": "https://localhost:8080/"
        },
        "id": "DwD05iUuxhmZ",
        "outputId": "140319e4-cc79-46f9-e953-9d5655b3d645"
      },
      "execution_count": null,
      "outputs": [
        {
          "output_type": "stream",
          "name": "stdout",
          "text": [
            "date\n",
            "2021-11-01    False\n",
            "2021-11-02    False\n",
            "2021-11-03    False\n",
            "2021-11-04    False\n",
            "2021-11-05    False\n",
            "              ...  \n",
            "2023-03-27    False\n",
            "2023-03-28    False\n",
            "2023-03-29    False\n",
            "2023-03-30    False\n",
            "2023-03-31    False\n",
            "Length: 516, dtype: bool\n"
          ]
        }
      ]
    },
    {
      "cell_type": "code",
      "execution_count": null,
      "metadata": {
        "colab": {
          "base_uri": "https://localhost:8080/"
        },
        "id": "N8Dv4Ofl3pcv",
        "outputId": "4c4c2f0c-6dca-4b33-e83a-d4444500c517"
      },
      "outputs": [
        {
          "output_type": "stream",
          "name": "stdout",
          "text": [
            "\n",
            "Missing values:  category\n",
            "Foundation             0\n",
            "Lip Tint               0\n",
            "Lipstik               54\n",
            "Parfum & Wewangian     0\n",
            "Pelembab Wajah         5\n",
            "dtype: int64\n"
          ]
        }
      ],
      "source": [
        "# print (\"\\nMissing values :  \", df_final.isnull().sum())\n",
        "print(\"\\nMissing values: \", (df_final == 0.0).sum())"
      ]
    },
    {
      "cell_type": "code",
      "source": [
        "# df_final['Lip Tint']=df_final['Lip Tint'].fillna(method='ffill')\n",
        "# df_final['Lipstik']=df_final['Lipstik'].fillna(method='ffill')\n",
        "# df_final['Parfum & Wewangian']=df_final['Parfum & Wewangian'].fillna(method='ffill')\n",
        "# df_final['Pelembab Wajah']=df_final['Pelembab Wajah'].fillna(method='ffill')\n",
        "# df_final['Foundation']=df_final['Foundation'].fillna(method='ffill')"
      ],
      "metadata": {
        "id": "CxPIYEXuEfwK"
      },
      "execution_count": null,
      "outputs": []
    },
    {
      "cell_type": "code",
      "source": [
        "df_final.info()"
      ],
      "metadata": {
        "colab": {
          "base_uri": "https://localhost:8080/"
        },
        "id": "Iq8KDjgzyStz",
        "outputId": "10f1fcdb-85e0-4402-f52b-d740a0850e2e"
      },
      "execution_count": null,
      "outputs": [
        {
          "output_type": "stream",
          "name": "stdout",
          "text": [
            "<class 'pandas.core.frame.DataFrame'>\n",
            "DatetimeIndex: 516 entries, 2021-11-01 to 2023-03-31\n",
            "Data columns (total 5 columns):\n",
            " #   Column              Non-Null Count  Dtype  \n",
            "---  ------              --------------  -----  \n",
            " 0   Foundation          516 non-null    float64\n",
            " 1   Lip Tint            516 non-null    float64\n",
            " 2   Lipstik             516 non-null    float64\n",
            " 3   Parfum & Wewangian  516 non-null    float64\n",
            " 4   Pelembab Wajah      516 non-null    float64\n",
            "dtypes: float64(5)\n",
            "memory usage: 24.2 KB\n"
          ]
        }
      ]
    },
    {
      "cell_type": "code",
      "source": [
        "from statsmodels.tsa.stattools import adfuller\n",
        "\n",
        "# Menghitung total revenue per hari dari semua kategori dan tambahkan ke df_final\n",
        "df_final['total_revenue_per_day'] = df_final.sum(axis=1)\n",
        "\n",
        "# Lakukan uji stasioneritas pada kolom total_revenue_per_day\n",
        "result = adfuller(df_final['total_revenue_per_day'])\n",
        "print('Uji stasioneritas untuk kolom total_revenue_per_day:')\n",
        "print('ADF Statistic:', result[0])\n",
        "print('P-value:', result[1])\n",
        "print('Critical Values:')\n",
        "for key, value in result[4].items():\n",
        "    print(f'   {key}: {value}')\n",
        "\n",
        "# Interpretasi hasil uji\n",
        "if result[1] <= 0.05:\n",
        "    print('Data total_revenue_per_day adalah stasioner')\n",
        "else:\n",
        "    print('Data total_revenue_per_day tidak stasioner')\n"
      ],
      "metadata": {
        "colab": {
          "base_uri": "https://localhost:8080/"
        },
        "id": "GSwKrPaEPhwc",
        "outputId": "6e251d77-8e74-44ae-b826-ccd7dba19dfa"
      },
      "execution_count": null,
      "outputs": [
        {
          "output_type": "stream",
          "name": "stdout",
          "text": [
            "Uji stasioneritas untuk kolom total_revenue_per_day:\n",
            "ADF Statistic: -3.3427220360763696\n",
            "P-value: 0.013073508775692909\n",
            "Critical Values:\n",
            "   1%: -3.4436029548776395\n",
            "   5%: -2.867384756137026\n",
            "   10%: -2.5698830308597813\n",
            "Data total_revenue_per_day adalah stasioner\n"
          ]
        }
      ]
    },
    {
      "cell_type": "code",
      "source": [
        "columns_to_exclude = ['total_revenue_per_day']"
      ],
      "metadata": {
        "id": "y1l6xbqtQeI1"
      },
      "execution_count": null,
      "outputs": []
    },
    {
      "cell_type": "code",
      "execution_count": null,
      "metadata": {
        "id": "V76VXOds6NiE"
      },
      "outputs": [],
      "source": [
        "# df_forecast=df_final.resample('M').sum()\n",
        "df_forecast = df_final.drop(columns=columns_to_exclude).resample('M').sum()"
      ]
    },
    {
      "cell_type": "code",
      "source": [
        "df_forecast.info()"
      ],
      "metadata": {
        "id": "RJ5DdXO9f55b",
        "colab": {
          "base_uri": "https://localhost:8080/"
        },
        "outputId": "f00fc68d-71e7-4497-b54b-e58de5a0c5a4"
      },
      "execution_count": null,
      "outputs": [
        {
          "output_type": "stream",
          "name": "stdout",
          "text": [
            "<class 'pandas.core.frame.DataFrame'>\n",
            "DatetimeIndex: 17 entries, 2021-11-30 to 2023-03-31\n",
            "Freq: M\n",
            "Data columns (total 5 columns):\n",
            " #   Column              Non-Null Count  Dtype  \n",
            "---  ------              --------------  -----  \n",
            " 0   Foundation          17 non-null     float64\n",
            " 1   Lip Tint            17 non-null     float64\n",
            " 2   Lipstik             17 non-null     float64\n",
            " 3   Parfum & Wewangian  17 non-null     float64\n",
            " 4   Pelembab Wajah      17 non-null     float64\n",
            "dtypes: float64(5)\n",
            "memory usage: 816.0 bytes\n"
          ]
        }
      ]
    },
    {
      "cell_type": "markdown",
      "metadata": {
        "id": "xJVv-Lg_BjVC"
      },
      "source": [
        "instalasi arima"
      ]
    },
    {
      "cell_type": "code",
      "execution_count": null,
      "metadata": {
        "colab": {
          "base_uri": "https://localhost:8080/"
        },
        "id": "_v8TdbcNlmR1",
        "outputId": "32a4e1c9-b491-4b72-82e1-fa309a4697b9"
      },
      "outputs": [
        {
          "output_type": "stream",
          "name": "stdout",
          "text": [
            "Collecting pmdarima\n",
            "  Downloading pmdarima-2.0.3-cp310-cp310-manylinux_2_17_x86_64.manylinux2014_x86_64.manylinux_2_28_x86_64.whl (1.8 MB)\n",
            "\u001b[2K     \u001b[90m━━━━━━━━━━━━━━━━━━━━━━━━━━━━━━━━━━━━━━━━\u001b[0m \u001b[32m1.8/1.8 MB\u001b[0m \u001b[31m7.9 MB/s\u001b[0m eta \u001b[36m0:00:00\u001b[0m\n",
            "\u001b[?25hRequirement already satisfied: joblib>=0.11 in /usr/local/lib/python3.10/dist-packages (from pmdarima) (1.3.1)\n",
            "Requirement already satisfied: Cython!=0.29.18,!=0.29.31,>=0.29 in /usr/local/lib/python3.10/dist-packages (from pmdarima) (0.29.36)\n",
            "Requirement already satisfied: numpy>=1.21.2 in /usr/local/lib/python3.10/dist-packages (from pmdarima) (1.23.5)\n",
            "Requirement already satisfied: pandas>=0.19 in /usr/local/lib/python3.10/dist-packages (from pmdarima) (1.5.3)\n",
            "Requirement already satisfied: scikit-learn>=0.22 in /usr/local/lib/python3.10/dist-packages (from pmdarima) (1.2.2)\n",
            "Requirement already satisfied: scipy>=1.3.2 in /usr/local/lib/python3.10/dist-packages (from pmdarima) (1.10.1)\n",
            "Requirement already satisfied: statsmodels>=0.13.2 in /usr/local/lib/python3.10/dist-packages (from pmdarima) (0.13.5)\n",
            "Requirement already satisfied: urllib3 in /usr/local/lib/python3.10/dist-packages (from pmdarima) (1.26.16)\n",
            "Requirement already satisfied: setuptools!=50.0.0,>=38.6.0 in /usr/local/lib/python3.10/dist-packages (from pmdarima) (67.7.2)\n",
            "Requirement already satisfied: python-dateutil>=2.8.1 in /usr/local/lib/python3.10/dist-packages (from pandas>=0.19->pmdarima) (2.8.2)\n",
            "Requirement already satisfied: pytz>=2020.1 in /usr/local/lib/python3.10/dist-packages (from pandas>=0.19->pmdarima) (2022.7.1)\n",
            "Requirement already satisfied: threadpoolctl>=2.0.0 in /usr/local/lib/python3.10/dist-packages (from scikit-learn>=0.22->pmdarima) (3.2.0)\n",
            "Requirement already satisfied: patsy>=0.5.2 in /usr/local/lib/python3.10/dist-packages (from statsmodels>=0.13.2->pmdarima) (0.5.3)\n",
            "Requirement already satisfied: packaging>=21.3 in /usr/local/lib/python3.10/dist-packages (from statsmodels>=0.13.2->pmdarima) (23.1)\n",
            "Requirement already satisfied: six in /usr/local/lib/python3.10/dist-packages (from patsy>=0.5.2->statsmodels>=0.13.2->pmdarima) (1.16.0)\n",
            "Installing collected packages: pmdarima\n",
            "Successfully installed pmdarima-2.0.3\n"
          ]
        }
      ],
      "source": [
        "! pip install pmdarima"
      ]
    },
    {
      "cell_type": "code",
      "execution_count": null,
      "metadata": {
        "id": "DKMs619mVTZD"
      },
      "outputs": [],
      "source": [
        "train = df_forecast[(df_forecast.index.get_level_values(0) >= pd.to_datetime('2021-11-01')) & (df_forecast.index.get_level_values(0) <= pd.to_datetime('2022-10-31'))]\n",
        "test = df_forecast[(df_forecast.index.get_level_values(0) > pd.to_datetime('2022-10-31'))]"
      ]
    },
    {
      "cell_type": "markdown",
      "source": [
        "# ***Summary MAPE***"
      ],
      "metadata": {
        "id": "DpkJwxfgzlVn"
      }
    },
    {
      "cell_type": "markdown",
      "metadata": {
        "id": "nS08Q8fw5YSf"
      },
      "source": [
        "- MAPE LIIPTINT MONTHLY = 9,4% | 2,0,0\n",
        "- MAPE FOUNDATION MONTHHLY = 6,0% | 2,0,2\n",
        "- MAPE Lipstik = 17,2% | 3,0,0\n",
        "- MAPE PARFUM&WEWANGIAN = 6,06% | 5,0,1\n",
        "- MAPE PELEMBAB WAJAH= 15,06% | 3,0,0"
      ]
    },
    {
      "cell_type": "markdown",
      "source": [
        "# Kategori Lip Tint"
      ],
      "metadata": {
        "id": "3lttmqrYlWzZ"
      }
    },
    {
      "cell_type": "code",
      "source": [
        "import pmdarima as pm\n",
        "\n",
        "model = pm.auto_arima(df_forecast['Lip Tint'],\n",
        "                        m=12, seasonal=False,\n",
        "                      start_p=0, start_q=0, max_order=4, test='adf',error_action='ignore',\n",
        "                           suppress_warnings=True,\n",
        "                      stepwise=True, trace=True)"
      ],
      "metadata": {
        "id": "ksI9wxyt69Hi",
        "outputId": "9f15dc60-1b24-4015-96c3-60ba763c94d0",
        "colab": {
          "base_uri": "https://localhost:8080/"
        }
      },
      "execution_count": null,
      "outputs": [
        {
          "output_type": "stream",
          "name": "stderr",
          "text": [
            "/usr/local/lib/python3.10/dist-packages/pmdarima/arima/_validation.py:62: UserWarning: m (12) set for non-seasonal fit. Setting to 0\n",
            "  warnings.warn(\"m (%i) set for non-seasonal fit. Setting to 0\" % m)\n"
          ]
        },
        {
          "output_type": "stream",
          "name": "stdout",
          "text": [
            "Performing stepwise search to minimize aic\n",
            " ARIMA(0,0,0)(0,0,0)[0]             : AIC=709.191, Time=0.06 sec\n",
            " ARIMA(1,0,0)(0,0,0)[0]             : AIC=655.739, Time=0.05 sec\n",
            " ARIMA(0,0,1)(0,0,0)[0]             : AIC=700.110, Time=0.06 sec\n",
            " ARIMA(2,0,0)(0,0,0)[0]             : AIC=655.285, Time=0.17 sec\n",
            " ARIMA(3,0,0)(0,0,0)[0]             : AIC=654.812, Time=0.22 sec\n",
            " ARIMA(4,0,0)(0,0,0)[0]             : AIC=inf, Time=0.43 sec\n",
            " ARIMA(3,0,1)(0,0,0)[0]             : AIC=inf, Time=0.77 sec\n",
            " ARIMA(2,0,1)(0,0,0)[0]             : AIC=657.279, Time=0.23 sec\n",
            " ARIMA(4,0,1)(0,0,0)[0]             : AIC=inf, Time=0.86 sec\n",
            " ARIMA(3,0,0)(0,0,0)[0] intercept   : AIC=644.803, Time=0.28 sec\n",
            " ARIMA(2,0,0)(0,0,0)[0] intercept   : AIC=643.630, Time=0.12 sec\n",
            " ARIMA(1,0,0)(0,0,0)[0] intercept   : AIC=652.111, Time=0.07 sec\n",
            " ARIMA(2,0,1)(0,0,0)[0] intercept   : AIC=647.801, Time=0.34 sec\n",
            " ARIMA(1,0,1)(0,0,0)[0] intercept   : AIC=652.546, Time=0.08 sec\n",
            " ARIMA(3,0,1)(0,0,0)[0] intercept   : AIC=646.465, Time=0.41 sec\n",
            "\n",
            "Best model:  ARIMA(2,0,0)(0,0,0)[0] intercept\n",
            "Total fit time: 4.190 seconds\n"
          ]
        }
      ]
    },
    {
      "cell_type": "code",
      "execution_count": null,
      "metadata": {
        "colab": {
          "base_uri": "https://localhost:8080/",
          "height": 74
        },
        "id": "0Pu6j1nCgYgn",
        "outputId": "b810c885-a2d4-42a6-9773-dfe30c77e18e"
      },
      "outputs": [
        {
          "output_type": "execute_result",
          "data": {
            "text/plain": [
              "ARIMA(order=(2, 0, 0), scoring_args={}, suppress_warnings=True)"
            ],
            "text/html": [
              "<style>#sk-container-id-1 {color: black;background-color: white;}#sk-container-id-1 pre{padding: 0;}#sk-container-id-1 div.sk-toggleable {background-color: white;}#sk-container-id-1 label.sk-toggleable__label {cursor: pointer;display: block;width: 100%;margin-bottom: 0;padding: 0.3em;box-sizing: border-box;text-align: center;}#sk-container-id-1 label.sk-toggleable__label-arrow:before {content: \"▸\";float: left;margin-right: 0.25em;color: #696969;}#sk-container-id-1 label.sk-toggleable__label-arrow:hover:before {color: black;}#sk-container-id-1 div.sk-estimator:hover label.sk-toggleable__label-arrow:before {color: black;}#sk-container-id-1 div.sk-toggleable__content {max-height: 0;max-width: 0;overflow: hidden;text-align: left;background-color: #f0f8ff;}#sk-container-id-1 div.sk-toggleable__content pre {margin: 0.2em;color: black;border-radius: 0.25em;background-color: #f0f8ff;}#sk-container-id-1 input.sk-toggleable__control:checked~div.sk-toggleable__content {max-height: 200px;max-width: 100%;overflow: auto;}#sk-container-id-1 input.sk-toggleable__control:checked~label.sk-toggleable__label-arrow:before {content: \"▾\";}#sk-container-id-1 div.sk-estimator input.sk-toggleable__control:checked~label.sk-toggleable__label {background-color: #d4ebff;}#sk-container-id-1 div.sk-label input.sk-toggleable__control:checked~label.sk-toggleable__label {background-color: #d4ebff;}#sk-container-id-1 input.sk-hidden--visually {border: 0;clip: rect(1px 1px 1px 1px);clip: rect(1px, 1px, 1px, 1px);height: 1px;margin: -1px;overflow: hidden;padding: 0;position: absolute;width: 1px;}#sk-container-id-1 div.sk-estimator {font-family: monospace;background-color: #f0f8ff;border: 1px dotted black;border-radius: 0.25em;box-sizing: border-box;margin-bottom: 0.5em;}#sk-container-id-1 div.sk-estimator:hover {background-color: #d4ebff;}#sk-container-id-1 div.sk-parallel-item::after {content: \"\";width: 100%;border-bottom: 1px solid gray;flex-grow: 1;}#sk-container-id-1 div.sk-label:hover label.sk-toggleable__label {background-color: #d4ebff;}#sk-container-id-1 div.sk-serial::before {content: \"\";position: absolute;border-left: 1px solid gray;box-sizing: border-box;top: 0;bottom: 0;left: 50%;z-index: 0;}#sk-container-id-1 div.sk-serial {display: flex;flex-direction: column;align-items: center;background-color: white;padding-right: 0.2em;padding-left: 0.2em;position: relative;}#sk-container-id-1 div.sk-item {position: relative;z-index: 1;}#sk-container-id-1 div.sk-parallel {display: flex;align-items: stretch;justify-content: center;background-color: white;position: relative;}#sk-container-id-1 div.sk-item::before, #sk-container-id-1 div.sk-parallel-item::before {content: \"\";position: absolute;border-left: 1px solid gray;box-sizing: border-box;top: 0;bottom: 0;left: 50%;z-index: -1;}#sk-container-id-1 div.sk-parallel-item {display: flex;flex-direction: column;z-index: 1;position: relative;background-color: white;}#sk-container-id-1 div.sk-parallel-item:first-child::after {align-self: flex-end;width: 50%;}#sk-container-id-1 div.sk-parallel-item:last-child::after {align-self: flex-start;width: 50%;}#sk-container-id-1 div.sk-parallel-item:only-child::after {width: 0;}#sk-container-id-1 div.sk-dashed-wrapped {border: 1px dashed gray;margin: 0 0.4em 0.5em 0.4em;box-sizing: border-box;padding-bottom: 0.4em;background-color: white;}#sk-container-id-1 div.sk-label label {font-family: monospace;font-weight: bold;display: inline-block;line-height: 1.2em;}#sk-container-id-1 div.sk-label-container {text-align: center;}#sk-container-id-1 div.sk-container {/* jupyter's `normalize.less` sets `[hidden] { display: none; }` but bootstrap.min.css set `[hidden] { display: none !important; }` so we also need the `!important` here to be able to override the default hidden behavior on the sphinx rendered scikit-learn.org. See: https://github.com/scikit-learn/scikit-learn/issues/21755 */display: inline-block !important;position: relative;}#sk-container-id-1 div.sk-text-repr-fallback {display: none;}</style><div id=\"sk-container-id-1\" class=\"sk-top-container\"><div class=\"sk-text-repr-fallback\"><pre> ARIMA(2,0,0)(0,0,0)[0] intercept</pre><b>In a Jupyter environment, please rerun this cell to show the HTML representation or trust the notebook. <br />On GitHub, the HTML representation is unable to render, please try loading this page with nbviewer.org.</b></div><div class=\"sk-container\" hidden><div class=\"sk-item\"><div class=\"sk-estimator sk-toggleable\"><input class=\"sk-toggleable__control sk-hidden--visually\" id=\"sk-estimator-id-1\" type=\"checkbox\" checked><label for=\"sk-estimator-id-1\" class=\"sk-toggleable__label sk-toggleable__label-arrow\">ARIMA</label><div class=\"sk-toggleable__content\"><pre> ARIMA(2,0,0)(0,0,0)[0] intercept</pre></div></div></div></div></div>"
            ]
          },
          "metadata": {},
          "execution_count": 26
        }
      ],
      "source": [
        "model.fit(train['Lip Tint'])"
      ]
    },
    {
      "cell_type": "code",
      "execution_count": null,
      "metadata": {
        "id": "mT3hxWT4V57S"
      },
      "outputs": [],
      "source": [
        "# Prediksi 5 bulan kedepan untuk dibandingkan dengan data tes\n",
        "forecast_data_test=model.predict(n_periods=5, return_conf_int=True)"
      ]
    },
    {
      "cell_type": "code",
      "source": [
        "forecast_data_test"
      ],
      "metadata": {
        "colab": {
          "base_uri": "https://localhost:8080/"
        },
        "id": "A91hc14oHZXT",
        "outputId": "ca4b3155-20dc-48d6-8603-17d3775fb327"
      },
      "execution_count": null,
      "outputs": [
        {
          "output_type": "execute_result",
          "data": {
            "text/plain": [
              "(2022-11-30    2.850044e+08\n",
              " 2022-12-31    2.704303e+08\n",
              " 2023-01-31    2.402708e+08\n",
              " 2023-02-28    2.217579e+08\n",
              " 2023-03-31    2.276808e+08\n",
              " Freq: M, dtype: float64,\n",
              " array([[2.39700145e+08, 3.30308657e+08],\n",
              "        [2.06115887e+08, 3.34744747e+08],\n",
              "        [1.75318720e+08, 3.05222897e+08],\n",
              "        [1.51007234e+08, 2.92508519e+08],\n",
              "        [1.48449822e+08, 3.06911681e+08]]))"
            ]
          },
          "metadata": {},
          "execution_count": 28
        }
      ]
    },
    {
      "cell_type": "markdown",
      "metadata": {
        "id": "XbPxoRfBInCs"
      },
      "source": [
        "**Simpan data prediksi 5 bulan ke forecast_df**"
      ]
    },
    {
      "cell_type": "code",
      "execution_count": null,
      "metadata": {
        "id": "iBMOEsrIWR-Q"
      },
      "outputs": [],
      "source": [
        "forecast_df = pd.DataFrame(forecast_data_test[0],index = test.index,columns=['Prediction'])"
      ]
    },
    {
      "cell_type": "code",
      "execution_count": null,
      "metadata": {
        "id": "a08Ta25oFfb8"
      },
      "outputs": [],
      "source": [
        "import matplotlib.pyplot as plt\n",
        "import numpy as np"
      ]
    },
    {
      "cell_type": "code",
      "execution_count": null,
      "metadata": {
        "colab": {
          "base_uri": "https://localhost:8080/",
          "height": 498
        },
        "id": "7iagYR_CFrZK",
        "outputId": "8310a11a-cbc3-49f4-b60d-a50270baa6bf"
      },
      "outputs": [
        {
          "output_type": "execute_result",
          "data": {
            "text/plain": [
              "<Axes: xlabel='date'>"
            ]
          },
          "metadata": {},
          "execution_count": 31
        },
        {
          "output_type": "display_data",
          "data": {
            "text/plain": [
              "<Figure size 640x480 with 1 Axes>"
            ],
            "image/png": "[encoded data removed]"
          },
          "metadata": {}
        }
      ],
      "source": [
        "pd.concat([df_forecast['Lip Tint'],forecast_df],axis=1).plot()"
      ]
    },
    {
      "cell_type": "markdown",
      "metadata": {
        "id": "a6yhmpnyJtBt"
      },
      "source": [
        "**Kita pindahkan forecast_df ke final tabel yang akan dipakai menguji mape antara nilai forecast dan nilai aktual dari periode data testing yang sudah kita tentukan**"
      ]
    },
    {
      "cell_type": "code",
      "execution_count": null,
      "metadata": {
        "colab": {
          "base_uri": "https://localhost:8080/",
          "height": 237
        },
        "id": "J2vjqKdfPb55",
        "outputId": "274f7847-7428-4bd4-91d2-be694ac719ac"
      },
      "outputs": [
        {
          "output_type": "execute_result",
          "data": {
            "text/plain": [
              "              Prediction     Lip Tint\n",
              "date                                 \n",
              "2022-11-30  2.850044e+08  334581300.0\n",
              "2022-12-31  2.704303e+08  316219000.0\n",
              "2023-01-31  2.402708e+08  289994000.0\n",
              "2023-02-28  2.217579e+08  222985450.0\n",
              "2023-03-31  2.276808e+08  227787000.0"
            ],
            "text/html": [
              "\n",
              "\n",
              "  <div id=\"df-f1987c7b-9903-48f2-884f-39236a8c1581\">\n",
              "    <div class=\"colab-df-container\">\n",
              "      <div>\n",
              "<style scoped>\n",
              "    .dataframe tbody tr th:only-of-type {\n",
              "        vertical-align: middle;\n",
              "    }\n",
              "\n",
              "    .dataframe tbody tr th {\n",
              "        vertical-align: top;\n",
              "    }\n",
              "\n",
              "    .dataframe thead th {\n",
              "        text-align: right;\n",
              "    }\n",
              "</style>\n",
              "<table border=\"1\" class=\"dataframe\">\n",
              "  <thead>\n",
              "    <tr style=\"text-align: right;\">\n",
              "      <th></th>\n",
              "      <th>Prediction</th>\n",
              "      <th>Lip Tint</th>\n",
              "    </tr>\n",
              "    <tr>\n",
              "      <th>date</th>\n",
              "      <th></th>\n",
              "      <th></th>\n",
              "    </tr>\n",
              "  </thead>\n",
              "  <tbody>\n",
              "    <tr>\n",
              "      <th>2022-11-30</th>\n",
              "      <td>2.850044e+08</td>\n",
              "      <td>334581300.0</td>\n",
              "    </tr>\n",
              "    <tr>\n",
              "      <th>2022-12-31</th>\n",
              "      <td>2.704303e+08</td>\n",
              "      <td>316219000.0</td>\n",
              "    </tr>\n",
              "    <tr>\n",
              "      <th>2023-01-31</th>\n",
              "      <td>2.402708e+08</td>\n",
              "      <td>289994000.0</td>\n",
              "    </tr>\n",
              "    <tr>\n",
              "      <th>2023-02-28</th>\n",
              "      <td>2.217579e+08</td>\n",
              "      <td>222985450.0</td>\n",
              "    </tr>\n",
              "    <tr>\n",
              "      <th>2023-03-31</th>\n",
              "      <td>2.276808e+08</td>\n",
              "      <td>227787000.0</td>\n",
              "    </tr>\n",
              "  </tbody>\n",
              "</table>\n",
              "</div>\n",
              "      <button class=\"colab-df-convert\" onclick=\"convertToInteractive('df-f1987c7b-9903-48f2-884f-39236a8c1581')\"\n",
              "              title=\"Convert this dataframe to an interactive table.\"\n",
              "              style=\"display:none;\">\n",
              "\n",
              "  <svg xmlns=\"http://www.w3.org/2000/svg\" height=\"24px\"viewBox=\"0 0 24 24\"\n",
              "       width=\"24px\">\n",
              "    <path d=\"M0 0h24v24H0V0z\" fill=\"none\"/>\n",
              "    <path d=\"M18.56 5.44l.94 2.06.94-2.06 2.06-.94-2.06-.94-.94-2.06-.94 2.06-2.06.94zm-11 1L8.5 8.5l.94-2.06 2.06-.94-2.06-.94L8.5 2.5l-.94 2.06-2.06.94zm10 10l.94 2.06.94-2.06 2.06-.94-2.06-.94-.94-2.06-.94 2.06-2.06.94z\"/><path d=\"M17.41 7.96l-1.37-1.37c-.4-.4-.92-.59-1.43-.59-.52 0-1.04.2-1.43.59L10.3 9.45l-7.72 7.72c-.78.78-.78 2.05 0 2.83L4 21.41c.39.39.9.59 1.41.59.51 0 1.02-.2 1.41-.59l7.78-7.78 2.81-2.81c.8-.78.8-2.07 0-2.86zM5.41 20L4 18.59l7.72-7.72 1.47 1.35L5.41 20z\"/>\n",
              "  </svg>\n",
              "      </button>\n",
              "\n",
              "\n",
              "\n",
              "    <div id=\"df-ec4f9721-8286-4ef7-9d4d-18512a7d5c6d\">\n",
              "      <button class=\"colab-df-quickchart\" onclick=\"quickchart('df-ec4f9721-8286-4ef7-9d4d-18512a7d5c6d')\"\n",
              "              title=\"Suggest charts.\"\n",
              "              style=\"display:none;\">\n",
              "\n",
              "<svg xmlns=\"http://www.w3.org/2000/svg\" height=\"24px\"viewBox=\"0 0 24 24\"\n",
              "     width=\"24px\">\n",
              "    <g>\n",
              "        <path d=\"M19 3H5c-1.1 0-2 .9-2 2v14c0 1.1.9 2 2 2h14c1.1 0 2-.9 2-2V5c0-1.1-.9-2-2-2zM9 17H7v-7h2v7zm4 0h-2V7h2v10zm4 0h-2v-4h2v4z\"/>\n",
              "    </g>\n",
              "</svg>\n",
              "      </button>\n",
              "    </div>\n",
              "\n",
              "<style>\n",
              "  .colab-df-quickchart {\n",
              "    background-color: #E8F0FE;\n",
              "    border: none;\n",
              "    border-radius: 50%;\n",
              "    cursor: pointer;\n",
              "    display: none;\n",
              "    fill: #1967D2;\n",
              "    height: 32px;\n",
              "    padding: 0 0 0 0;\n",
              "    width: 32px;\n",
              "  }\n",
              "\n",
              "  .colab-df-quickchart:hover {\n",
              "    background-color: #E2EBFA;\n",
              "    box-shadow: 0px 1px 2px rgba(60, 64, 67, 0.3), 0px 1px 3px 1px rgba(60, 64, 67, 0.15);\n",
              "    fill: #174EA6;\n",
              "  }\n",
              "\n",
              "  [theme=dark] .colab-df-quickchart {\n",
              "    background-color: #3B4455;\n",
              "    fill: #D2E3FC;\n",
              "  }\n",
              "\n",
              "  [theme=dark] .colab-df-quickchart:hover {\n",
              "    background-color: #434B5C;\n",
              "    box-shadow: 0px 1px 3px 1px rgba(0, 0, 0, 0.15);\n",
              "    filter: drop-shadow(0px 1px 2px rgba(0, 0, 0, 0.3));\n",
              "    fill: #FFFFFF;\n",
              "  }\n",
              "</style>\n",
              "\n",
              "    <script>\n",
              "      async function quickchart(key) {\n",
              "        const containerElement = document.querySelector('#' + key);\n",
              "        const charts = await google.colab.kernel.invokeFunction(\n",
              "            'suggestCharts', [key], {});\n",
              "      }\n",
              "    </script>\n",
              "\n",
              "      <script>\n",
              "\n",
              "function displayQuickchartButton(domScope) {\n",
              "  let quickchartButtonEl =\n",
              "    domScope.querySelector('#df-ec4f9721-8286-4ef7-9d4d-18512a7d5c6d button.colab-df-quickchart');\n",
              "  quickchartButtonEl.style.display =\n",
              "    google.colab.kernel.accessAllowed ? 'block' : 'none';\n",
              "}\n",
              "\n",
              "        displayQuickchartButton(document);\n",
              "      </script>\n",
              "      <style>\n",
              "    .colab-df-container {\n",
              "      display:flex;\n",
              "      flex-wrap:wrap;\n",
              "      gap: 12px;\n",
              "    }\n",
              "\n",
              "    .colab-df-convert {\n",
              "      background-color: #E8F0FE;\n",
              "      border: none;\n",
              "      border-radius: 50%;\n",
              "      cursor: pointer;\n",
              "      display: none;\n",
              "      fill: #1967D2;\n",
              "      height: 32px;\n",
              "      padding: 0 0 0 0;\n",
              "      width: 32px;\n",
              "    }\n",
              "\n",
              "    .colab-df-convert:hover {\n",
              "      background-color: #E2EBFA;\n",
              "      box-shadow: 0px 1px 2px rgba(60, 64, 67, 0.3), 0px 1px 3px 1px rgba(60, 64, 67, 0.15);\n",
              "      fill: #174EA6;\n",
              "    }\n",
              "\n",
              "    [theme=dark] .colab-df-convert {\n",
              "      background-color: #3B4455;\n",
              "      fill: #D2E3FC;\n",
              "    }\n",
              "\n",
              "    [theme=dark] .colab-df-convert:hover {\n",
              "      background-color: #434B5C;\n",
              "      box-shadow: 0px 1px 3px 1px rgba(0, 0, 0, 0.15);\n",
              "      filter: drop-shadow(0px 1px 2px rgba(0, 0, 0, 0.3));\n",
              "      fill: #FFFFFF;\n",
              "    }\n",
              "  </style>\n",
              "\n",
              "      <script>\n",
              "        const buttonEl =\n",
              "          document.querySelector('#df-f1987c7b-9903-48f2-884f-39236a8c1581 button.colab-df-convert');\n",
              "        buttonEl.style.display =\n",
              "          google.colab.kernel.accessAllowed ? 'block' : 'none';\n",
              "\n",
              "        async function convertToInteractive(key) {\n",
              "          const element = document.querySelector('#df-f1987c7b-9903-48f2-884f-39236a8c1581');\n",
              "          const dataTable =\n",
              "            await google.colab.kernel.invokeFunction('convertToInteractive',\n",
              "                                                     [key], {});\n",
              "          if (!dataTable) return;\n",
              "\n",
              "          const docLinkHtml = 'Like what you see? Visit the ' +\n",
              "            '<a target=\"_blank\" href=https://colab.research.google.com/notebooks/data_table.ipynb>data table notebook</a>'\n",
              "            + ' to learn more about interactive tables.';\n",
              "          element.innerHTML = '';\n",
              "          dataTable['output_type'] = 'display_data';\n",
              "          await google.colab.output.renderOutput(dataTable, element);\n",
              "          const docLink = document.createElement('div');\n",
              "          docLink.innerHTML = docLinkHtml;\n",
              "          element.appendChild(docLink);\n",
              "        }\n",
              "      </script>\n",
              "    </div>\n",
              "  </div>\n"
            ]
          },
          "metadata": {},
          "execution_count": 32
        }
      ],
      "source": [
        "final_table = pd.concat([forecast_df, test['Lip Tint']], axis=1)\n",
        "final_table"
      ]
    },
    {
      "cell_type": "code",
      "execution_count": null,
      "metadata": {
        "colab": {
          "base_uri": "https://localhost:8080/"
        },
        "id": "-SmHZloiOgm3",
        "outputId": "b203c450-f0ba-4fd6-99af-cfa944d91f0a"
      },
      "outputs": [
        {
          "output_type": "stream",
          "name": "stdout",
          "text": [
            "Mean Absolute Percentage Error (MAPE): 9.408218481638622\n"
          ]
        }
      ],
      "source": [
        "# Menghitung nilai MAPE\n",
        "mape = np.mean(np.abs((final_table['Lip Tint'] - final_table['Prediction']) / final_table['Lip Tint'])) * 100\n",
        "\n",
        "# Menampilkan hasil evaluasi\n",
        "print(\"Mean Absolute Percentage Error (MAPE):\", mape)"
      ]
    },
    {
      "cell_type": "code",
      "execution_count": null,
      "metadata": {
        "id": "gi7tcnkdRyB5",
        "colab": {
          "base_uri": "https://localhost:8080/"
        },
        "outputId": "5fffc2c1-9e20-435d-800b-18db4a7eb6eb"
      },
      "outputs": [
        {
          "output_type": "stream",
          "name": "stdout",
          "text": [
            "Evaluasi MAPE: Kemampuan peramalan sangat baik\n"
          ]
        }
      ],
      "source": [
        "def evaluate_mape(mape):\n",
        "    if mape < 10:\n",
        "        return \"Kemampuan peramalan sangat baik\"\n",
        "    elif mape < 20:\n",
        "        return \"Kemampuan peramalan baik\"\n",
        "    elif mape < 50:\n",
        "        return \"Kemampuan peramalan layak\"\n",
        "    else:\n",
        "        return \"Kemampuan peramalan buruk\"\n",
        "\n",
        "evaluation = evaluate_mape(mape)\n",
        "print(\"Evaluasi MAPE:\", evaluation)"
      ]
    },
    {
      "cell_type": "code",
      "source": [
        "from sklearn.metrics import mean_absolute_error\n",
        "\n",
        "# Menghitung MAE antara nilai aktual dan nilai prediksi\n",
        "mae = mean_absolute_error(final_table['Lip Tint'], final_table['Prediction'])\n",
        "\n",
        "# Menampilkan hasil MAE\n",
        "print(\"Mean Absolute Error (MAE):\", mae)"
      ],
      "metadata": {
        "colab": {
          "base_uri": "https://localhost:8080/"
        },
        "id": "O4knb51ulIus",
        "outputId": "6895dba8-841b-4e2f-d0a9-3289b14d6ef4"
      },
      "execution_count": null,
      "outputs": [
        {
          "output_type": "stream",
          "name": "stdout",
          "text": [
            "Mean Absolute Error (MAE): 29284519.10405026\n"
          ]
        }
      ]
    },
    {
      "cell_type": "markdown",
      "source": [
        "**Forecast Lip Tint**"
      ],
      "metadata": {
        "id": "Y7KSTci_-Uqw"
      }
    },
    {
      "cell_type": "code",
      "source": [
        "forecast_fix=model.predict(n_periods=13, return_conf_int=True)\n",
        "forecast_range = pd.date_range(start='2023-04-01', periods=8, freq='M')\n",
        "forecast_fix_df = pd.DataFrame(forecast_fix[0],index =forecast_range,columns=['Prediction'])\n",
        "pd.concat([df_forecast['Lip Tint'],forecast_fix_df],axis=1).plot()"
      ],
      "metadata": {
        "colab": {
          "base_uri": "https://localhost:8080/",
          "height": 478
        },
        "id": "Okr9u5mM-dQH",
        "outputId": "4836af54-85f0-48f6-b10a-33b14f4311c1"
      },
      "execution_count": null,
      "outputs": [
        {
          "output_type": "execute_result",
          "data": {
            "text/plain": [
              "<Axes: >"
            ]
          },
          "metadata": {},
          "execution_count": 36
        },
        {
          "output_type": "display_data",
          "data": {
            "text/plain": [
              "<Figure size 640x480 with 1 Axes>"
            ],
            "image/png": "[encoded data removed]"
          },
          "metadata": {}
        }
      ]
    },
    {
      "cell_type": "markdown",
      "source": [
        "# Kategori Foundation"
      ],
      "metadata": {
        "id": "GffYhDaTlPc1"
      }
    },
    {
      "cell_type": "code",
      "source": [
        "import pmdarima as pm\n",
        "\n",
        "model = pm.auto_arima(df_forecast['Foundation'],\n",
        "                        m=12, seasonal=False,\n",
        "                      start_p=0, start_q=0, max_order=4, test='adf',error_action='ignore',\n",
        "                           suppress_warnings=True,\n",
        "                      stepwise=True, trace=True)"
      ],
      "metadata": {
        "colab": {
          "base_uri": "https://localhost:8080/"
        },
        "id": "4iY8U9z4lURM",
        "outputId": "a5e599af-1633-4092-ddc2-d513c3646a8f"
      },
      "execution_count": null,
      "outputs": [
        {
          "output_type": "stream",
          "name": "stderr",
          "text": [
            "/usr/local/lib/python3.10/dist-packages/pmdarima/arima/_validation.py:62: UserWarning: m (12) set for non-seasonal fit. Setting to 0\n",
            "  warnings.warn(\"m (%i) set for non-seasonal fit. Setting to 0\" % m)\n"
          ]
        },
        {
          "output_type": "stream",
          "name": "stdout",
          "text": [
            "Performing stepwise search to minimize aic\n",
            " ARIMA(0,0,0)(0,0,0)[0]             : AIC=700.285, Time=0.03 sec\n",
            " ARIMA(1,0,0)(0,0,0)[0]             : AIC=661.574, Time=0.08 sec\n",
            " ARIMA(0,0,1)(0,0,0)[0]             : AIC=691.690, Time=0.08 sec\n",
            " ARIMA(2,0,0)(0,0,0)[0]             : AIC=661.818, Time=0.09 sec\n",
            " ARIMA(1,0,1)(0,0,0)[0]             : AIC=662.073, Time=0.14 sec\n",
            " ARIMA(2,0,1)(0,0,0)[0]             : AIC=663.861, Time=0.22 sec\n",
            " ARIMA(1,0,0)(0,0,0)[0] intercept   : AIC=657.767, Time=0.08 sec\n",
            " ARIMA(0,0,0)(0,0,0)[0] intercept   : AIC=661.124, Time=0.05 sec\n",
            " ARIMA(2,0,0)(0,0,0)[0] intercept   : AIC=652.436, Time=0.29 sec\n",
            " ARIMA(3,0,0)(0,0,0)[0] intercept   : AIC=652.075, Time=0.30 sec\n",
            " ARIMA(4,0,0)(0,0,0)[0] intercept   : AIC=651.884, Time=0.28 sec\n",
            " ARIMA(5,0,0)(0,0,0)[0] intercept   : AIC=inf, Time=0.62 sec\n",
            " ARIMA(4,0,1)(0,0,0)[0] intercept   : AIC=653.496, Time=1.05 sec\n",
            " ARIMA(3,0,1)(0,0,0)[0] intercept   : AIC=651.720, Time=0.68 sec\n",
            " ARIMA(2,0,1)(0,0,0)[0] intercept   : AIC=657.263, Time=0.20 sec\n",
            " ARIMA(3,0,2)(0,0,0)[0] intercept   : AIC=652.419, Time=0.67 sec\n",
            " ARIMA(2,0,2)(0,0,0)[0] intercept   : AIC=650.066, Time=0.24 sec\n",
            " ARIMA(1,0,2)(0,0,0)[0] intercept   : AIC=654.741, Time=0.17 sec\n",
            " ARIMA(2,0,3)(0,0,0)[0] intercept   : AIC=655.096, Time=0.12 sec\n",
            " ARIMA(1,0,1)(0,0,0)[0] intercept   : AIC=659.861, Time=0.03 sec\n",
            " ARIMA(1,0,3)(0,0,0)[0] intercept   : AIC=656.437, Time=0.16 sec\n",
            " ARIMA(3,0,3)(0,0,0)[0] intercept   : AIC=inf, Time=0.74 sec\n",
            " ARIMA(2,0,2)(0,0,0)[0]             : AIC=661.261, Time=0.26 sec\n",
            "\n",
            "Best model:  ARIMA(2,0,2)(0,0,0)[0] intercept\n",
            "Total fit time: 6.686 seconds\n"
          ]
        }
      ]
    },
    {
      "cell_type": "code",
      "source": [
        "model.fit(train['Foundation'])"
      ],
      "metadata": {
        "colab": {
          "base_uri": "https://localhost:8080/",
          "height": 74
        },
        "id": "D5GWG-lPlkKs",
        "outputId": "9d25d8cd-fb4e-4647-ad64-7d732b7fcb98"
      },
      "execution_count": null,
      "outputs": [
        {
          "output_type": "execute_result",
          "data": {
            "text/plain": [
              "ARIMA(order=(2, 0, 2), scoring_args={}, suppress_warnings=True)"
            ],
            "text/html": [
              "<style>#sk-container-id-2 {color: black;background-color: white;}#sk-container-id-2 pre{padding: 0;}#sk-container-id-2 div.sk-toggleable {background-color: white;}#sk-container-id-2 label.sk-toggleable__label {cursor: pointer;display: block;width: 100%;margin-bottom: 0;padding: 0.3em;box-sizing: border-box;text-align: center;}#sk-container-id-2 label.sk-toggleable__label-arrow:before {content: \"▸\";float: left;margin-right: 0.25em;color: #696969;}#sk-container-id-2 label.sk-toggleable__label-arrow:hover:before {color: black;}#sk-container-id-2 div.sk-estimator:hover label.sk-toggleable__label-arrow:before {color: black;}#sk-container-id-2 div.sk-toggleable__content {max-height: 0;max-width: 0;overflow: hidden;text-align: left;background-color: #f0f8ff;}#sk-container-id-2 div.sk-toggleable__content pre {margin: 0.2em;color: black;border-radius: 0.25em;background-color: #f0f8ff;}#sk-container-id-2 input.sk-toggleable__control:checked~div.sk-toggleable__content {max-height: 200px;max-width: 100%;overflow: auto;}#sk-container-id-2 input.sk-toggleable__control:checked~label.sk-toggleable__label-arrow:before {content: \"▾\";}#sk-container-id-2 div.sk-estimator input.sk-toggleable__control:checked~label.sk-toggleable__label {background-color: #d4ebff;}#sk-container-id-2 div.sk-label input.sk-toggleable__control:checked~label.sk-toggleable__label {background-color: #d4ebff;}#sk-container-id-2 input.sk-hidden--visually {border: 0;clip: rect(1px 1px 1px 1px);clip: rect(1px, 1px, 1px, 1px);height: 1px;margin: -1px;overflow: hidden;padding: 0;position: absolute;width: 1px;}#sk-container-id-2 div.sk-estimator {font-family: monospace;background-color: #f0f8ff;border: 1px dotted black;border-radius: 0.25em;box-sizing: border-box;margin-bottom: 0.5em;}#sk-container-id-2 div.sk-estimator:hover {background-color: #d4ebff;}#sk-container-id-2 div.sk-parallel-item::after {content: \"\";width: 100%;border-bottom: 1px solid gray;flex-grow: 1;}#sk-container-id-2 div.sk-label:hover label.sk-toggleable__label {background-color: #d4ebff;}#sk-container-id-2 div.sk-serial::before {content: \"\";position: absolute;border-left: 1px solid gray;box-sizing: border-box;top: 0;bottom: 0;left: 50%;z-index: 0;}#sk-container-id-2 div.sk-serial {display: flex;flex-direction: column;align-items: center;background-color: white;padding-right: 0.2em;padding-left: 0.2em;position: relative;}#sk-container-id-2 div.sk-item {position: relative;z-index: 1;}#sk-container-id-2 div.sk-parallel {display: flex;align-items: stretch;justify-content: center;background-color: white;position: relative;}#sk-container-id-2 div.sk-item::before, #sk-container-id-2 div.sk-parallel-item::before {content: \"\";position: absolute;border-left: 1px solid gray;box-sizing: border-box;top: 0;bottom: 0;left: 50%;z-index: -1;}#sk-container-id-2 div.sk-parallel-item {display: flex;flex-direction: column;z-index: 1;position: relative;background-color: white;}#sk-container-id-2 div.sk-parallel-item:first-child::after {align-self: flex-end;width: 50%;}#sk-container-id-2 div.sk-parallel-item:last-child::after {align-self: flex-start;width: 50%;}#sk-container-id-2 div.sk-parallel-item:only-child::after {width: 0;}#sk-container-id-2 div.sk-dashed-wrapped {border: 1px dashed gray;margin: 0 0.4em 0.5em 0.4em;box-sizing: border-box;padding-bottom: 0.4em;background-color: white;}#sk-container-id-2 div.sk-label label {font-family: monospace;font-weight: bold;display: inline-block;line-height: 1.2em;}#sk-container-id-2 div.sk-label-container {text-align: center;}#sk-container-id-2 div.sk-container {/* jupyter's `normalize.less` sets `[hidden] { display: none; }` but bootstrap.min.css set `[hidden] { display: none !important; }` so we also need the `!important` here to be able to override the default hidden behavior on the sphinx rendered scikit-learn.org. See: https://github.com/scikit-learn/scikit-learn/issues/21755 */display: inline-block !important;position: relative;}#sk-container-id-2 div.sk-text-repr-fallback {display: none;}</style><div id=\"sk-container-id-2\" class=\"sk-top-container\"><div class=\"sk-text-repr-fallback\"><pre> ARIMA(2,0,2)(0,0,0)[0] intercept</pre><b>In a Jupyter environment, please rerun this cell to show the HTML representation or trust the notebook. <br />On GitHub, the HTML representation is unable to render, please try loading this page with nbviewer.org.</b></div><div class=\"sk-container\" hidden><div class=\"sk-item\"><div class=\"sk-estimator sk-toggleable\"><input class=\"sk-toggleable__control sk-hidden--visually\" id=\"sk-estimator-id-2\" type=\"checkbox\" checked><label for=\"sk-estimator-id-2\" class=\"sk-toggleable__label sk-toggleable__label-arrow\">ARIMA</label><div class=\"sk-toggleable__content\"><pre> ARIMA(2,0,2)(0,0,0)[0] intercept</pre></div></div></div></div></div>"
            ]
          },
          "metadata": {},
          "execution_count": 38
        }
      ]
    },
    {
      "cell_type": "code",
      "source": [
        "forecast_data_test"
      ],
      "metadata": {
        "colab": {
          "base_uri": "https://localhost:8080/"
        },
        "id": "YQ5oEIjqmA6f",
        "outputId": "32ae6c95-388f-496a-b323-38a97e19c8a2"
      },
      "execution_count": null,
      "outputs": [
        {
          "output_type": "execute_result",
          "data": {
            "text/plain": [
              "(2022-11-30    2.850044e+08\n",
              " 2022-12-31    2.704303e+08\n",
              " 2023-01-31    2.402708e+08\n",
              " 2023-02-28    2.217579e+08\n",
              " 2023-03-31    2.276808e+08\n",
              " Freq: M, dtype: float64,\n",
              " array([[2.39700145e+08, 3.30308657e+08],\n",
              "        [2.06115887e+08, 3.34744747e+08],\n",
              "        [1.75318720e+08, 3.05222897e+08],\n",
              "        [1.51007234e+08, 2.92508519e+08],\n",
              "        [1.48449822e+08, 3.06911681e+08]]))"
            ]
          },
          "metadata": {},
          "execution_count": 39
        }
      ]
    },
    {
      "cell_type": "code",
      "source": [
        "forecast_df = pd.DataFrame(forecast_data_test[0],index = test.index,columns=['Prediction'])"
      ],
      "metadata": {
        "id": "C9_fjbn4mD9F"
      },
      "execution_count": null,
      "outputs": []
    },
    {
      "cell_type": "code",
      "source": [
        "import matplotlib.pyplot as plt\n",
        "import numpy as np\n",
        "pd.concat([df_forecast['Foundation'],forecast_df],axis=1).plot()"
      ],
      "metadata": {
        "colab": {
          "base_uri": "https://localhost:8080/",
          "height": 498
        },
        "id": "kAQizVDNmLxV",
        "outputId": "f05a2d29-e632-4b4e-e71f-7e8cc0aaa090"
      },
      "execution_count": null,
      "outputs": [
        {
          "output_type": "execute_result",
          "data": {
            "text/plain": [
              "<Axes: xlabel='date'>"
            ]
          },
          "metadata": {},
          "execution_count": 41
        },
        {
          "output_type": "display_data",
          "data": {
            "text/plain": [
              "<Figure size 640x480 with 1 Axes>"
            ],
            "image/png": "[encoded data removed]"
          },
          "metadata": {}
        }
      ]
    },
    {
      "cell_type": "code",
      "source": [
        "final_table = pd.concat([forecast_df, test['Foundation']], axis=1)\n",
        "final_table"
      ],
      "metadata": {
        "colab": {
          "base_uri": "https://localhost:8080/",
          "height": 237
        },
        "id": "sXoPeQQiKjEJ",
        "outputId": "8d4745b3-1596-46c0-f323-35eaf56df2e1"
      },
      "execution_count": null,
      "outputs": [
        {
          "output_type": "execute_result",
          "data": {
            "text/plain": [
              "              Prediction   Foundation\n",
              "date                                 \n",
              "2022-11-30  2.850044e+08  284546000.0\n",
              "2022-12-31  2.704303e+08  270526000.0\n",
              "2023-01-31  2.402708e+08  241218000.0\n",
              "2023-02-28  2.217579e+08  190054300.0\n",
              "2023-03-31  2.276808e+08  201595000.0"
            ],
            "text/html": [
              "\n",
              "\n",
              "  <div id=\"df-861b8ab6-2901-4fc0-830e-c6e6054dd5de\">\n",
              "    <div class=\"colab-df-container\">\n",
              "      <div>\n",
              "<style scoped>\n",
              "    .dataframe tbody tr th:only-of-type {\n",
              "        vertical-align: middle;\n",
              "    }\n",
              "\n",
              "    .dataframe tbody tr th {\n",
              "        vertical-align: top;\n",
              "    }\n",
              "\n",
              "    .dataframe thead th {\n",
              "        text-align: right;\n",
              "    }\n",
              "</style>\n",
              "<table border=\"1\" class=\"dataframe\">\n",
              "  <thead>\n",
              "    <tr style=\"text-align: right;\">\n",
              "      <th></th>\n",
              "      <th>Prediction</th>\n",
              "      <th>Foundation</th>\n",
              "    </tr>\n",
              "    <tr>\n",
              "      <th>date</th>\n",
              "      <th></th>\n",
              "      <th></th>\n",
              "    </tr>\n",
              "  </thead>\n",
              "  <tbody>\n",
              "    <tr>\n",
              "      <th>2022-11-30</th>\n",
              "      <td>2.850044e+08</td>\n",
              "      <td>284546000.0</td>\n",
              "    </tr>\n",
              "    <tr>\n",
              "      <th>2022-12-31</th>\n",
              "      <td>2.704303e+08</td>\n",
              "      <td>270526000.0</td>\n",
              "    </tr>\n",
              "    <tr>\n",
              "      <th>2023-01-31</th>\n",
              "      <td>2.402708e+08</td>\n",
              "      <td>241218000.0</td>\n",
              "    </tr>\n",
              "    <tr>\n",
              "      <th>2023-02-28</th>\n",
              "      <td>2.217579e+08</td>\n",
              "      <td>190054300.0</td>\n",
              "    </tr>\n",
              "    <tr>\n",
              "      <th>2023-03-31</th>\n",
              "      <td>2.276808e+08</td>\n",
              "      <td>201595000.0</td>\n",
              "    </tr>\n",
              "  </tbody>\n",
              "</table>\n",
              "</div>\n",
              "      <button class=\"colab-df-convert\" onclick=\"convertToInteractive('df-861b8ab6-2901-4fc0-830e-c6e6054dd5de')\"\n",
              "              title=\"Convert this dataframe to an interactive table.\"\n",
              "              style=\"display:none;\">\n",
              "\n",
              "  <svg xmlns=\"http://www.w3.org/2000/svg\" height=\"24px\"viewBox=\"0 0 24 24\"\n",
              "       width=\"24px\">\n",
              "    <path d=\"M0 0h24v24H0V0z\" fill=\"none\"/>\n",
              "    <path d=\"M18.56 5.44l.94 2.06.94-2.06 2.06-.94-2.06-.94-.94-2.06-.94 2.06-2.06.94zm-11 1L8.5 8.5l.94-2.06 2.06-.94-2.06-.94L8.5 2.5l-.94 2.06-2.06.94zm10 10l.94 2.06.94-2.06 2.06-.94-2.06-.94-.94-2.06-.94 2.06-2.06.94z\"/><path d=\"M17.41 7.96l-1.37-1.37c-.4-.4-.92-.59-1.43-.59-.52 0-1.04.2-1.43.59L10.3 9.45l-7.72 7.72c-.78.78-.78 2.05 0 2.83L4 21.41c.39.39.9.59 1.41.59.51 0 1.02-.2 1.41-.59l7.78-7.78 2.81-2.81c.8-.78.8-2.07 0-2.86zM5.41 20L4 18.59l7.72-7.72 1.47 1.35L5.41 20z\"/>\n",
              "  </svg>\n",
              "      </button>\n",
              "\n",
              "\n",
              "\n",
              "    <div id=\"df-97d2502e-b456-466b-a543-b0efbc8e3f7e\">\n",
              "      <button class=\"colab-df-quickchart\" onclick=\"quickchart('df-97d2502e-b456-466b-a543-b0efbc8e3f7e')\"\n",
              "              title=\"Suggest charts.\"\n",
              "              style=\"display:none;\">\n",
              "\n",
              "<svg xmlns=\"http://www.w3.org/2000/svg\" height=\"24px\"viewBox=\"0 0 24 24\"\n",
              "     width=\"24px\">\n",
              "    <g>\n",
              "        <path d=\"M19 3H5c-1.1 0-2 .9-2 2v14c0 1.1.9 2 2 2h14c1.1 0 2-.9 2-2V5c0-1.1-.9-2-2-2zM9 17H7v-7h2v7zm4 0h-2V7h2v10zm4 0h-2v-4h2v4z\"/>\n",
              "    </g>\n",
              "</svg>\n",
              "      </button>\n",
              "    </div>\n",
              "\n",
              "<style>\n",
              "  .colab-df-quickchart {\n",
              "    background-color: #E8F0FE;\n",
              "    border: none;\n",
              "    border-radius: 50%;\n",
              "    cursor: pointer;\n",
              "    display: none;\n",
              "    fill: #1967D2;\n",
              "    height: 32px;\n",
              "    padding: 0 0 0 0;\n",
              "    width: 32px;\n",
              "  }\n",
              "\n",
              "  .colab-df-quickchart:hover {\n",
              "    background-color: #E2EBFA;\n",
              "    box-shadow: 0px 1px 2px rgba(60, 64, 67, 0.3), 0px 1px 3px 1px rgba(60, 64, 67, 0.15);\n",
              "    fill: #174EA6;\n",
              "  }\n",
              "\n",
              "  [theme=dark] .colab-df-quickchart {\n",
              "    background-color: #3B4455;\n",
              "    fill: #D2E3FC;\n",
              "  }\n",
              "\n",
              "  [theme=dark] .colab-df-quickchart:hover {\n",
              "    background-color: #434B5C;\n",
              "    box-shadow: 0px 1px 3px 1px rgba(0, 0, 0, 0.15);\n",
              "    filter: drop-shadow(0px 1px 2px rgba(0, 0, 0, 0.3));\n",
              "    fill: #FFFFFF;\n",
              "  }\n",
              "</style>\n",
              "\n",
              "    <script>\n",
              "      async function quickchart(key) {\n",
              "        const containerElement = document.querySelector('#' + key);\n",
              "        const charts = await google.colab.kernel.invokeFunction(\n",
              "            'suggestCharts', [key], {});\n",
              "      }\n",
              "    </script>\n",
              "\n",
              "      <script>\n",
              "\n",
              "function displayQuickchartButton(domScope) {\n",
              "  let quickchartButtonEl =\n",
              "    domScope.querySelector('#df-97d2502e-b456-466b-a543-b0efbc8e3f7e button.colab-df-quickchart');\n",
              "  quickchartButtonEl.style.display =\n",
              "    google.colab.kernel.accessAllowed ? 'block' : 'none';\n",
              "}\n",
              "\n",
              "        displayQuickchartButton(document);\n",
              "      </script>\n",
              "      <style>\n",
              "    .colab-df-container {\n",
              "      display:flex;\n",
              "      flex-wrap:wrap;\n",
              "      gap: 12px;\n",
              "    }\n",
              "\n",
              "    .colab-df-convert {\n",
              "      background-color: #E8F0FE;\n",
              "      border: none;\n",
              "      border-radius: 50%;\n",
              "      cursor: pointer;\n",
              "      display: none;\n",
              "      fill: #1967D2;\n",
              "      height: 32px;\n",
              "      padding: 0 0 0 0;\n",
              "      width: 32px;\n",
              "    }\n",
              "\n",
              "    .colab-df-convert:hover {\n",
              "      background-color: #E2EBFA;\n",
              "      box-shadow: 0px 1px 2px rgba(60, 64, 67, 0.3), 0px 1px 3px 1px rgba(60, 64, 67, 0.15);\n",
              "      fill: #174EA6;\n",
              "    }\n",
              "\n",
              "    [theme=dark] .colab-df-convert {\n",
              "      background-color: #3B4455;\n",
              "      fill: #D2E3FC;\n",
              "    }\n",
              "\n",
              "    [theme=dark] .colab-df-convert:hover {\n",
              "      background-color: #434B5C;\n",
              "      box-shadow: 0px 1px 3px 1px rgba(0, 0, 0, 0.15);\n",
              "      filter: drop-shadow(0px 1px 2px rgba(0, 0, 0, 0.3));\n",
              "      fill: #FFFFFF;\n",
              "    }\n",
              "  </style>\n",
              "\n",
              "      <script>\n",
              "        const buttonEl =\n",
              "          document.querySelector('#df-861b8ab6-2901-4fc0-830e-c6e6054dd5de button.colab-df-convert');\n",
              "        buttonEl.style.display =\n",
              "          google.colab.kernel.accessAllowed ? 'block' : 'none';\n",
              "\n",
              "        async function convertToInteractive(key) {\n",
              "          const element = document.querySelector('#df-861b8ab6-2901-4fc0-830e-c6e6054dd5de');\n",
              "          const dataTable =\n",
              "            await google.colab.kernel.invokeFunction('convertToInteractive',\n",
              "                                                     [key], {});\n",
              "          if (!dataTable) return;\n",
              "\n",
              "          const docLinkHtml = 'Like what you see? Visit the ' +\n",
              "            '<a target=\"_blank\" href=https://colab.research.google.com/notebooks/data_table.ipynb>data table notebook</a>'\n",
              "            + ' to learn more about interactive tables.';\n",
              "          element.innerHTML = '';\n",
              "          dataTable['output_type'] = 'display_data';\n",
              "          await google.colab.output.renderOutput(dataTable, element);\n",
              "          const docLink = document.createElement('div');\n",
              "          docLink.innerHTML = docLinkHtml;\n",
              "          element.appendChild(docLink);\n",
              "        }\n",
              "      </script>\n",
              "    </div>\n",
              "  </div>\n"
            ]
          },
          "metadata": {},
          "execution_count": 42
        }
      ]
    },
    {
      "cell_type": "code",
      "source": [
        "final_table = pd.concat([forecast_df, test['Foundation']], axis=1)\n",
        "final_table\n",
        "\n",
        "# Menghitung nilai MAPE\n",
        "mape = np.mean(np.abs((final_table['Foundation'] - final_table['Prediction']) / final_table['Foundation'])) * 100\n",
        "\n",
        "# Menampilkan hasil evaluasi\n",
        "print(\"Mean Absolute Percentage Error (MAPE):\", mape)"
      ],
      "metadata": {
        "colab": {
          "base_uri": "https://localhost:8080/"
        },
        "id": "5QImVqOkmVl3",
        "outputId": "49d0c913-f344-4ff9-f14f-344f5fd196c4"
      },
      "execution_count": null,
      "outputs": [
        {
          "output_type": "stream",
          "name": "stdout",
          "text": [
            "Mean Absolute Percentage Error (MAPE): 6.042029210047345\n"
          ]
        }
      ]
    },
    {
      "cell_type": "code",
      "source": [
        "def evaluate_mape(mape):\n",
        "    if mape < 10:\n",
        "        return \"Kemampuan peramalan sangat baik\"\n",
        "    elif mape < 20:\n",
        "        return \"Kemampuan peramalan baik\"\n",
        "    elif mape < 50:\n",
        "        return \"Kemampuan peramalan layak\"\n",
        "    else:\n",
        "        return \"Kemampuan peramalan buruk\"\n",
        "\n",
        "evaluation = evaluate_mape(mape)\n",
        "print(\"Evaluasi MAPE:\", evaluation)"
      ],
      "metadata": {
        "colab": {
          "base_uri": "https://localhost:8080/"
        },
        "id": "GJ2yyJIgmdyo",
        "outputId": "336a057e-3f24-4fcb-87bc-247dc00f708a"
      },
      "execution_count": null,
      "outputs": [
        {
          "output_type": "stream",
          "name": "stdout",
          "text": [
            "Evaluasi MAPE: Kemampuan peramalan sangat baik\n"
          ]
        }
      ]
    },
    {
      "cell_type": "code",
      "source": [
        "from sklearn.metrics import mean_absolute_error\n",
        "\n",
        "# Menghitung MAE antara nilai aktual dan nilai prediksi\n",
        "mae = mean_absolute_error(final_table['Foundation'], final_table['Prediction'])\n",
        "\n",
        "# Menampilkan hasil MAE\n",
        "print(\"Mean Absolute Error (MAE):\", mae)\n",
        "\n",
        "# Menghitung MPE\n",
        "prediksi = final_table['Prediction']\n",
        "aktual = final_table['Foundation']\n",
        "\n",
        "# Prediction\tLip Tint\n",
        "mpe = np.mean((aktual - prediksi) / aktual) * 100\n",
        "\n",
        "print(\"Mean Percentage Error (MPE):\", mpe)"
      ],
      "metadata": {
        "colab": {
          "base_uri": "https://localhost:8080/"
        },
        "id": "wsIWsaBFmLlT",
        "outputId": "1d688a85-8479-417a-bbed-f410da2f2985"
      },
      "execution_count": null,
      "outputs": [
        {
          "output_type": "stream",
          "name": "stdout",
          "text": [
            "Mean Absolute Error (MAE): 11858120.746447284\n",
            "Mean Percentage Error (MPE): -5.870813368588497\n"
          ]
        }
      ]
    },
    {
      "cell_type": "markdown",
      "source": [
        "**Forecast Foundation**"
      ],
      "metadata": {
        "id": "OrF8DfWH_NMY"
      }
    },
    {
      "cell_type": "code",
      "source": [
        "forecast_fix=model.predict(n_periods=13, return_conf_int=True)\n",
        "forecast_range=pd.date_range(start='2023-04-01', periods=8,freq='M')\n",
        "forecast_fix_df = pd.DataFrame(forecast_fix[0],index =forecast_range,columns=['Prediction'])\n",
        "pd.concat([df_forecast['Foundation'],forecast_fix_df],axis=1).plot()"
      ],
      "metadata": {
        "colab": {
          "base_uri": "https://localhost:8080/",
          "height": 478
        },
        "id": "bBFhFsWK_QHo",
        "outputId": "fcc147e9-b13d-4281-c2f3-be3ed7249597"
      },
      "execution_count": null,
      "outputs": [
        {
          "output_type": "execute_result",
          "data": {
            "text/plain": [
              "<Axes: >"
            ]
          },
          "metadata": {},
          "execution_count": 46
        },
        {
          "output_type": "display_data",
          "data": {
            "text/plain": [
              "<Figure size 640x480 with 1 Axes>"
            ],
            "image/png": "[encoded data removed]"
          },
          "metadata": {}
        }
      ]
    },
    {
      "cell_type": "markdown",
      "source": [
        "# Kategori Lipstik"
      ],
      "metadata": {
        "id": "Wv28O9ABtjqG"
      }
    },
    {
      "cell_type": "code",
      "source": [
        "import pmdarima as pm\n",
        "\n",
        "model = pm.auto_arima(df_forecast['Lipstik'],\n",
        "                        m=12, seasonal=False,\n",
        "                      start_p=0, start_q=0, max_order=4, test='adf',error_action='ignore',\n",
        "                           suppress_warnings=True,\n",
        "                      stepwise=True, trace=True)"
      ],
      "metadata": {
        "colab": {
          "base_uri": "https://localhost:8080/"
        },
        "id": "qnz5lzbEtm6B",
        "outputId": "3ba23899-c386-4324-81d9-ca71b8773e7c"
      },
      "execution_count": null,
      "outputs": [
        {
          "output_type": "stream",
          "name": "stderr",
          "text": [
            "/usr/local/lib/python3.10/dist-packages/pmdarima/arima/_validation.py:62: UserWarning: m (12) set for non-seasonal fit. Setting to 0\n",
            "  warnings.warn(\"m (%i) set for non-seasonal fit. Setting to 0\" % m)\n"
          ]
        },
        {
          "output_type": "stream",
          "name": "stdout",
          "text": [
            "Performing stepwise search to minimize aic\n",
            " ARIMA(0,0,0)(0,0,0)[0]             : AIC=691.746, Time=0.03 sec\n",
            " ARIMA(1,0,0)(0,0,0)[0]             : AIC=658.177, Time=0.05 sec\n",
            " ARIMA(0,0,1)(0,0,0)[0]             : AIC=683.089, Time=0.07 sec\n",
            " ARIMA(2,0,0)(0,0,0)[0]             : AIC=658.983, Time=0.10 sec\n",
            " ARIMA(1,0,1)(0,0,0)[0]             : AIC=658.705, Time=0.17 sec\n",
            " ARIMA(2,0,1)(0,0,0)[0]             : AIC=660.735, Time=0.23 sec\n",
            " ARIMA(1,0,0)(0,0,0)[0] intercept   : AIC=653.088, Time=0.05 sec\n",
            " ARIMA(0,0,0)(0,0,0)[0] intercept   : AIC=654.692, Time=0.03 sec\n",
            " ARIMA(2,0,0)(0,0,0)[0] intercept   : AIC=646.516, Time=0.09 sec\n",
            " ARIMA(3,0,0)(0,0,0)[0] intercept   : AIC=642.664, Time=0.23 sec\n",
            " ARIMA(4,0,0)(0,0,0)[0] intercept   : AIC=644.043, Time=0.18 sec\n",
            " ARIMA(3,0,1)(0,0,0)[0] intercept   : AIC=644.241, Time=0.27 sec\n",
            " ARIMA(2,0,1)(0,0,0)[0] intercept   : AIC=657.118, Time=0.40 sec\n",
            " ARIMA(4,0,1)(0,0,0)[0] intercept   : AIC=646.055, Time=0.68 sec\n",
            " ARIMA(3,0,0)(0,0,0)[0]             : AIC=659.901, Time=0.09 sec\n",
            "\n",
            "Best model:  ARIMA(3,0,0)(0,0,0)[0] intercept\n",
            "Total fit time: 2.749 seconds\n"
          ]
        }
      ]
    },
    {
      "cell_type": "code",
      "source": [
        "model.fit(train['Lipstik'])"
      ],
      "metadata": {
        "colab": {
          "base_uri": "https://localhost:8080/",
          "height": 74
        },
        "id": "9R20R9Mutmxs",
        "outputId": "9541955c-8b5f-4840-d420-d817974ad456"
      },
      "execution_count": null,
      "outputs": [
        {
          "output_type": "execute_result",
          "data": {
            "text/plain": [
              "ARIMA(order=(3, 0, 0), scoring_args={}, suppress_warnings=True)"
            ],
            "text/html": [
              "<style>#sk-container-id-3 {color: black;background-color: white;}#sk-container-id-3 pre{padding: 0;}#sk-container-id-3 div.sk-toggleable {background-color: white;}#sk-container-id-3 label.sk-toggleable__label {cursor: pointer;display: block;width: 100%;margin-bottom: 0;padding: 0.3em;box-sizing: border-box;text-align: center;}#sk-container-id-3 label.sk-toggleable__label-arrow:before {content: \"▸\";float: left;margin-right: 0.25em;color: #696969;}#sk-container-id-3 label.sk-toggleable__label-arrow:hover:before {color: black;}#sk-container-id-3 div.sk-estimator:hover label.sk-toggleable__label-arrow:before {color: black;}#sk-container-id-3 div.sk-toggleable__content {max-height: 0;max-width: 0;overflow: hidden;text-align: left;background-color: #f0f8ff;}#sk-container-id-3 div.sk-toggleable__content pre {margin: 0.2em;color: black;border-radius: 0.25em;background-color: #f0f8ff;}#sk-container-id-3 input.sk-toggleable__control:checked~div.sk-toggleable__content {max-height: 200px;max-width: 100%;overflow: auto;}#sk-container-id-3 input.sk-toggleable__control:checked~label.sk-toggleable__label-arrow:before {content: \"▾\";}#sk-container-id-3 div.sk-estimator input.sk-toggleable__control:checked~label.sk-toggleable__label {background-color: #d4ebff;}#sk-container-id-3 div.sk-label input.sk-toggleable__control:checked~label.sk-toggleable__label {background-color: #d4ebff;}#sk-container-id-3 input.sk-hidden--visually {border: 0;clip: rect(1px 1px 1px 1px);clip: rect(1px, 1px, 1px, 1px);height: 1px;margin: -1px;overflow: hidden;padding: 0;position: absolute;width: 1px;}#sk-container-id-3 div.sk-estimator {font-family: monospace;background-color: #f0f8ff;border: 1px dotted black;border-radius: 0.25em;box-sizing: border-box;margin-bottom: 0.5em;}#sk-container-id-3 div.sk-estimator:hover {background-color: #d4ebff;}#sk-container-id-3 div.sk-parallel-item::after {content: \"\";width: 100%;border-bottom: 1px solid gray;flex-grow: 1;}#sk-container-id-3 div.sk-label:hover label.sk-toggleable__label {background-color: #d4ebff;}#sk-container-id-3 div.sk-serial::before {content: \"\";position: absolute;border-left: 1px solid gray;box-sizing: border-box;top: 0;bottom: 0;left: 50%;z-index: 0;}#sk-container-id-3 div.sk-serial {display: flex;flex-direction: column;align-items: center;background-color: white;padding-right: 0.2em;padding-left: 0.2em;position: relative;}#sk-container-id-3 div.sk-item {position: relative;z-index: 1;}#sk-container-id-3 div.sk-parallel {display: flex;align-items: stretch;justify-content: center;background-color: white;position: relative;}#sk-container-id-3 div.sk-item::before, #sk-container-id-3 div.sk-parallel-item::before {content: \"\";position: absolute;border-left: 1px solid gray;box-sizing: border-box;top: 0;bottom: 0;left: 50%;z-index: -1;}#sk-container-id-3 div.sk-parallel-item {display: flex;flex-direction: column;z-index: 1;position: relative;background-color: white;}#sk-container-id-3 div.sk-parallel-item:first-child::after {align-self: flex-end;width: 50%;}#sk-container-id-3 div.sk-parallel-item:last-child::after {align-self: flex-start;width: 50%;}#sk-container-id-3 div.sk-parallel-item:only-child::after {width: 0;}#sk-container-id-3 div.sk-dashed-wrapped {border: 1px dashed gray;margin: 0 0.4em 0.5em 0.4em;box-sizing: border-box;padding-bottom: 0.4em;background-color: white;}#sk-container-id-3 div.sk-label label {font-family: monospace;font-weight: bold;display: inline-block;line-height: 1.2em;}#sk-container-id-3 div.sk-label-container {text-align: center;}#sk-container-id-3 div.sk-container {/* jupyter's `normalize.less` sets `[hidden] { display: none; }` but bootstrap.min.css set `[hidden] { display: none !important; }` so we also need the `!important` here to be able to override the default hidden behavior on the sphinx rendered scikit-learn.org. See: https://github.com/scikit-learn/scikit-learn/issues/21755 */display: inline-block !important;position: relative;}#sk-container-id-3 div.sk-text-repr-fallback {display: none;}</style><div id=\"sk-container-id-3\" class=\"sk-top-container\"><div class=\"sk-text-repr-fallback\"><pre> ARIMA(3,0,0)(0,0,0)[0] intercept</pre><b>In a Jupyter environment, please rerun this cell to show the HTML representation or trust the notebook. <br />On GitHub, the HTML representation is unable to render, please try loading this page with nbviewer.org.</b></div><div class=\"sk-container\" hidden><div class=\"sk-item\"><div class=\"sk-estimator sk-toggleable\"><input class=\"sk-toggleable__control sk-hidden--visually\" id=\"sk-estimator-id-3\" type=\"checkbox\" checked><label for=\"sk-estimator-id-3\" class=\"sk-toggleable__label sk-toggleable__label-arrow\">ARIMA</label><div class=\"sk-toggleable__content\"><pre> ARIMA(3,0,0)(0,0,0)[0] intercept</pre></div></div></div></div></div>"
            ]
          },
          "metadata": {},
          "execution_count": 48
        }
      ]
    },
    {
      "cell_type": "code",
      "source": [
        "# Kita coba prediksi 5 bulan kedepan supaya bisa dibandingkan dengan data tes\n",
        "forecast_data_test=model.predict(n_periods=5, return_conf_int=True)\n",
        "forecast_data_test"
      ],
      "metadata": {
        "colab": {
          "base_uri": "https://localhost:8080/"
        },
        "id": "V10GANwPt-HI",
        "outputId": "e6c1e1a7-eb10-4e70-d9c0-0f7fa85b8fcc"
      },
      "execution_count": null,
      "outputs": [
        {
          "output_type": "execute_result",
          "data": {
            "text/plain": [
              "(2022-11-30    1.928398e+08\n",
              " 2022-12-31    1.802341e+08\n",
              " 2023-01-31    1.570816e+08\n",
              " 2023-02-28    1.028660e+08\n",
              " 2023-03-31    9.670990e+07\n",
              " Freq: M, dtype: float64,\n",
              " array([[1.58861443e+08, 2.26818123e+08],\n",
              "        [1.44625678e+08, 2.15842502e+08],\n",
              "        [1.21440025e+08, 1.92723091e+08],\n",
              "        [5.87571029e+07, 1.46974845e+08],\n",
              "        [4.96697136e+07, 1.43750087e+08]]))"
            ]
          },
          "metadata": {},
          "execution_count": 49
        }
      ]
    },
    {
      "cell_type": "code",
      "source": [
        "forecast_df = pd.DataFrame(forecast_data_test[0],index = test.index,columns=['Prediction'])"
      ],
      "metadata": {
        "id": "Vq7y7ZpmuA9X"
      },
      "execution_count": null,
      "outputs": []
    },
    {
      "cell_type": "code",
      "source": [
        "final_table = pd.concat([forecast_df, test['Lipstik']], axis=1)\n",
        "final_table"
      ],
      "metadata": {
        "colab": {
          "base_uri": "https://localhost:8080/",
          "height": 237
        },
        "id": "LVx_Cz3mgWbr",
        "outputId": "c7795c2c-3da1-41af-8dca-d1653e499bbe"
      },
      "execution_count": null,
      "outputs": [
        {
          "output_type": "execute_result",
          "data": {
            "text/plain": [
              "              Prediction      Lipstik\n",
              "date                                 \n",
              "2022-11-30  1.928398e+08  234463000.0\n",
              "2022-12-31  1.802341e+08  215255000.0\n",
              "2023-01-31  1.570816e+08  154883000.0\n",
              "2023-02-28  1.028660e+08  135347550.0\n",
              "2023-03-31  9.670990e+07  135587000.0"
            ],
            "text/html": [
              "\n",
              "\n",
              "  <div id=\"df-bc2d9154-6d35-4a03-8e77-f9ace5069a12\">\n",
              "    <div class=\"colab-df-container\">\n",
              "      <div>\n",
              "<style scoped>\n",
              "    .dataframe tbody tr th:only-of-type {\n",
              "        vertical-align: middle;\n",
              "    }\n",
              "\n",
              "    .dataframe tbody tr th {\n",
              "        vertical-align: top;\n",
              "    }\n",
              "\n",
              "    .dataframe thead th {\n",
              "        text-align: right;\n",
              "    }\n",
              "</style>\n",
              "<table border=\"1\" class=\"dataframe\">\n",
              "  <thead>\n",
              "    <tr style=\"text-align: right;\">\n",
              "      <th></th>\n",
              "      <th>Prediction</th>\n",
              "      <th>Lipstik</th>\n",
              "    </tr>\n",
              "    <tr>\n",
              "      <th>date</th>\n",
              "      <th></th>\n",
              "      <th></th>\n",
              "    </tr>\n",
              "  </thead>\n",
              "  <tbody>\n",
              "    <tr>\n",
              "      <th>2022-11-30</th>\n",
              "      <td>1.928398e+08</td>\n",
              "      <td>234463000.0</td>\n",
              "    </tr>\n",
              "    <tr>\n",
              "      <th>2022-12-31</th>\n",
              "      <td>1.802341e+08</td>\n",
              "      <td>215255000.0</td>\n",
              "    </tr>\n",
              "    <tr>\n",
              "      <th>2023-01-31</th>\n",
              "      <td>1.570816e+08</td>\n",
              "      <td>154883000.0</td>\n",
              "    </tr>\n",
              "    <tr>\n",
              "      <th>2023-02-28</th>\n",
              "      <td>1.028660e+08</td>\n",
              "      <td>135347550.0</td>\n",
              "    </tr>\n",
              "    <tr>\n",
              "      <th>2023-03-31</th>\n",
              "      <td>9.670990e+07</td>\n",
              "      <td>135587000.0</td>\n",
              "    </tr>\n",
              "  </tbody>\n",
              "</table>\n",
              "</div>\n",
              "      <button class=\"colab-df-convert\" onclick=\"convertToInteractive('df-bc2d9154-6d35-4a03-8e77-f9ace5069a12')\"\n",
              "              title=\"Convert this dataframe to an interactive table.\"\n",
              "              style=\"display:none;\">\n",
              "\n",
              "  <svg xmlns=\"http://www.w3.org/2000/svg\" height=\"24px\"viewBox=\"0 0 24 24\"\n",
              "       width=\"24px\">\n",
              "    <path d=\"M0 0h24v24H0V0z\" fill=\"none\"/>\n",
              "    <path d=\"M18.56 5.44l.94 2.06.94-2.06 2.06-.94-2.06-.94-.94-2.06-.94 2.06-2.06.94zm-11 1L8.5 8.5l.94-2.06 2.06-.94-2.06-.94L8.5 2.5l-.94 2.06-2.06.94zm10 10l.94 2.06.94-2.06 2.06-.94-2.06-.94-.94-2.06-.94 2.06-2.06.94z\"/><path d=\"M17.41 7.96l-1.37-1.37c-.4-.4-.92-.59-1.43-.59-.52 0-1.04.2-1.43.59L10.3 9.45l-7.72 7.72c-.78.78-.78 2.05 0 2.83L4 21.41c.39.39.9.59 1.41.59.51 0 1.02-.2 1.41-.59l7.78-7.78 2.81-2.81c.8-.78.8-2.07 0-2.86zM5.41 20L4 18.59l7.72-7.72 1.47 1.35L5.41 20z\"/>\n",
              "  </svg>\n",
              "      </button>\n",
              "\n",
              "\n",
              "\n",
              "    <div id=\"df-d0a7b067-00a0-44d6-a802-74d9b49c07b3\">\n",
              "      <button class=\"colab-df-quickchart\" onclick=\"quickchart('df-d0a7b067-00a0-44d6-a802-74d9b49c07b3')\"\n",
              "              title=\"Suggest charts.\"\n",
              "              style=\"display:none;\">\n",
              "\n",
              "<svg xmlns=\"http://www.w3.org/2000/svg\" height=\"24px\"viewBox=\"0 0 24 24\"\n",
              "     width=\"24px\">\n",
              "    <g>\n",
              "        <path d=\"M19 3H5c-1.1 0-2 .9-2 2v14c0 1.1.9 2 2 2h14c1.1 0 2-.9 2-2V5c0-1.1-.9-2-2-2zM9 17H7v-7h2v7zm4 0h-2V7h2v10zm4 0h-2v-4h2v4z\"/>\n",
              "    </g>\n",
              "</svg>\n",
              "      </button>\n",
              "    </div>\n",
              "\n",
              "<style>\n",
              "  .colab-df-quickchart {\n",
              "    background-color: #E8F0FE;\n",
              "    border: none;\n",
              "    border-radius: 50%;\n",
              "    cursor: pointer;\n",
              "    display: none;\n",
              "    fill: #1967D2;\n",
              "    height: 32px;\n",
              "    padding: 0 0 0 0;\n",
              "    width: 32px;\n",
              "  }\n",
              "\n",
              "  .colab-df-quickchart:hover {\n",
              "    background-color: #E2EBFA;\n",
              "    box-shadow: 0px 1px 2px rgba(60, 64, 67, 0.3), 0px 1px 3px 1px rgba(60, 64, 67, 0.15);\n",
              "    fill: #174EA6;\n",
              "  }\n",
              "\n",
              "  [theme=dark] .colab-df-quickchart {\n",
              "    background-color: #3B4455;\n",
              "    fill: #D2E3FC;\n",
              "  }\n",
              "\n",
              "  [theme=dark] .colab-df-quickchart:hover {\n",
              "    background-color: #434B5C;\n",
              "    box-shadow: 0px 1px 3px 1px rgba(0, 0, 0, 0.15);\n",
              "    filter: drop-shadow(0px 1px 2px rgba(0, 0, 0, 0.3));\n",
              "    fill: #FFFFFF;\n",
              "  }\n",
              "</style>\n",
              "\n",
              "    <script>\n",
              "      async function quickchart(key) {\n",
              "        const containerElement = document.querySelector('#' + key);\n",
              "        const charts = await google.colab.kernel.invokeFunction(\n",
              "            'suggestCharts', [key], {});\n",
              "      }\n",
              "    </script>\n",
              "\n",
              "      <script>\n",
              "\n",
              "function displayQuickchartButton(domScope) {\n",
              "  let quickchartButtonEl =\n",
              "    domScope.querySelector('#df-d0a7b067-00a0-44d6-a802-74d9b49c07b3 button.colab-df-quickchart');\n",
              "  quickchartButtonEl.style.display =\n",
              "    google.colab.kernel.accessAllowed ? 'block' : 'none';\n",
              "}\n",
              "\n",
              "        displayQuickchartButton(document);\n",
              "      </script>\n",
              "      <style>\n",
              "    .colab-df-container {\n",
              "      display:flex;\n",
              "      flex-wrap:wrap;\n",
              "      gap: 12px;\n",
              "    }\n",
              "\n",
              "    .colab-df-convert {\n",
              "      background-color: #E8F0FE;\n",
              "      border: none;\n",
              "      border-radius: 50%;\n",
              "      cursor: pointer;\n",
              "      display: none;\n",
              "      fill: #1967D2;\n",
              "      height: 32px;\n",
              "      padding: 0 0 0 0;\n",
              "      width: 32px;\n",
              "    }\n",
              "\n",
              "    .colab-df-convert:hover {\n",
              "      background-color: #E2EBFA;\n",
              "      box-shadow: 0px 1px 2px rgba(60, 64, 67, 0.3), 0px 1px 3px 1px rgba(60, 64, 67, 0.15);\n",
              "      fill: #174EA6;\n",
              "    }\n",
              "\n",
              "    [theme=dark] .colab-df-convert {\n",
              "      background-color: #3B4455;\n",
              "      fill: #D2E3FC;\n",
              "    }\n",
              "\n",
              "    [theme=dark] .colab-df-convert:hover {\n",
              "      background-color: #434B5C;\n",
              "      box-shadow: 0px 1px 3px 1px rgba(0, 0, 0, 0.15);\n",
              "      filter: drop-shadow(0px 1px 2px rgba(0, 0, 0, 0.3));\n",
              "      fill: #FFFFFF;\n",
              "    }\n",
              "  </style>\n",
              "\n",
              "      <script>\n",
              "        const buttonEl =\n",
              "          document.querySelector('#df-bc2d9154-6d35-4a03-8e77-f9ace5069a12 button.colab-df-convert');\n",
              "        buttonEl.style.display =\n",
              "          google.colab.kernel.accessAllowed ? 'block' : 'none';\n",
              "\n",
              "        async function convertToInteractive(key) {\n",
              "          const element = document.querySelector('#df-bc2d9154-6d35-4a03-8e77-f9ace5069a12');\n",
              "          const dataTable =\n",
              "            await google.colab.kernel.invokeFunction('convertToInteractive',\n",
              "                                                     [key], {});\n",
              "          if (!dataTable) return;\n",
              "\n",
              "          const docLinkHtml = 'Like what you see? Visit the ' +\n",
              "            '<a target=\"_blank\" href=https://colab.research.google.com/notebooks/data_table.ipynb>data table notebook</a>'\n",
              "            + ' to learn more about interactive tables.';\n",
              "          element.innerHTML = '';\n",
              "          dataTable['output_type'] = 'display_data';\n",
              "          await google.colab.output.renderOutput(dataTable, element);\n",
              "          const docLink = document.createElement('div');\n",
              "          docLink.innerHTML = docLinkHtml;\n",
              "          element.appendChild(docLink);\n",
              "        }\n",
              "      </script>\n",
              "    </div>\n",
              "  </div>\n"
            ]
          },
          "metadata": {},
          "execution_count": 51
        }
      ]
    },
    {
      "cell_type": "code",
      "source": [
        "import matplotlib.pyplot as plt\n",
        "import numpy as np\n",
        "pd.concat([df_forecast['Lipstik'],forecast_df],axis=1).plot()"
      ],
      "metadata": {
        "colab": {
          "base_uri": "https://localhost:8080/",
          "height": 498
        },
        "id": "qasn9CT0uB6b",
        "outputId": "e1e76f70-dbe5-46f5-8f95-ec5291fa5b04"
      },
      "execution_count": null,
      "outputs": [
        {
          "output_type": "execute_result",
          "data": {
            "text/plain": [
              "<Axes: xlabel='date'>"
            ]
          },
          "metadata": {},
          "execution_count": 52
        },
        {
          "output_type": "display_data",
          "data": {
            "text/plain": [
              "<Figure size 640x480 with 1 Axes>"
            ],
            "image/png": "[encoded data removed]"
          },
          "metadata": {}
        }
      ]
    },
    {
      "cell_type": "code",
      "source": [
        "final_table = pd.concat([forecast_df, test['Lipstik']], axis=1)\n",
        "final_table\n",
        "\n",
        "# Menghitung nilai MAPE\n",
        "mape = np.mean(np.abs((final_table['Lipstik'] - final_table['Prediction']) / final_table['Lipstik'])) * 100\n",
        "\n",
        "# Menampilkan hasil evaluasi\n",
        "print(\"Mean Absolute Percentage Error (MAPE):\", mape)"
      ],
      "metadata": {
        "colab": {
          "base_uri": "https://localhost:8080/"
        },
        "id": "NYfgeNRPtmnC",
        "outputId": "53ffcfd2-8439-47b7-cef8-74e5f7de4c54"
      },
      "execution_count": null,
      "outputs": [
        {
          "output_type": "stream",
          "name": "stdout",
          "text": [
            "Mean Absolute Percentage Error (MAPE): 17.622677749315525\n"
          ]
        }
      ]
    },
    {
      "cell_type": "code",
      "source": [
        "def evaluate_mape(mape):\n",
        "    if mape < 10:\n",
        "        return \"Kemampuan peramalan sangat baik\"\n",
        "    elif mape < 20:\n",
        "        return \"Kemampuan peramalan baik\"\n",
        "    elif mape < 50:\n",
        "        return \"Kemampuan peramalan layak\"\n",
        "    else:\n",
        "        return \"Kemampuan peramalan buruk\"\n",
        "\n",
        "evaluation = evaluate_mape(mape)\n",
        "print(\"Evaluasi MAPE:\", evaluation)"
      ],
      "metadata": {
        "colab": {
          "base_uri": "https://localhost:8080/"
        },
        "id": "jaFkzDDwts1d",
        "outputId": "e531865c-2440-4b65-df72-b4532a66b7c6"
      },
      "execution_count": null,
      "outputs": [
        {
          "output_type": "stream",
          "name": "stdout",
          "text": [
            "Evaluasi MAPE: Kemampuan peramalan baik\n"
          ]
        }
      ]
    },
    {
      "cell_type": "code",
      "source": [
        "from sklearn.metrics import mean_absolute_error\n",
        "\n",
        "# Menghitung MAE antara nilai aktual dan nilai prediksi\n",
        "mae = mean_absolute_error(final_table['Lipstik'], final_table['Prediction'])\n",
        "\n",
        "# Menampilkan hasil MAE\n",
        "print(\"Mean Absolute Error (MAE):\", mae)\n",
        "\n",
        "# Menghitung MPE\n",
        "prediksi = final_table['Prediction']\n",
        "aktual = final_table['Lipstik']\n",
        "\n",
        "# Prediction\tLip Tint\n",
        "mpe = np.mean((aktual - prediksi) / aktual) * 100\n",
        "\n",
        "print(\"Mean Percentage Error (MPE):\", mpe)"
      ],
      "metadata": {
        "colab": {
          "base_uri": "https://localhost:8080/"
        },
        "id": "vtEZAZgbm14v",
        "outputId": "76624366-1009-472f-fa1c-32fe2cf547d9"
      },
      "execution_count": null,
      "outputs": [
        {
          "output_type": "stream",
          "name": "stdout",
          "text": [
            "Mean Absolute Error (MAE): 30040272.188154757\n",
            "Mean Percentage Error (MPE): 17.05487937934254\n"
          ]
        }
      ]
    },
    {
      "cell_type": "markdown",
      "source": [
        "**Forecast Lipstik**"
      ],
      "metadata": {
        "id": "LgCxdqK6_c17"
      }
    },
    {
      "cell_type": "code",
      "source": [
        "forecast_fix=model.predict(n_periods=13, return_conf_int=True)\n",
        "forecast_range=pd.date_range(start='2023-04-01', periods=8,freq='M')\n",
        "forecast_fix_df = pd.DataFrame(forecast_fix[0],index =forecast_range,columns=['Prediction'])\n",
        "pd.concat([df_forecast['Lipstik'],forecast_fix_df],axis=1).plot()"
      ],
      "metadata": {
        "colab": {
          "base_uri": "https://localhost:8080/",
          "height": 478
        },
        "id": "rNfa1ldf_cK7",
        "outputId": "e8fa8b28-a4c8-44e3-affa-a059ccea3a1b"
      },
      "execution_count": null,
      "outputs": [
        {
          "output_type": "execute_result",
          "data": {
            "text/plain": [
              "<Axes: >"
            ]
          },
          "metadata": {},
          "execution_count": 56
        },
        {
          "output_type": "display_data",
          "data": {
            "text/plain": [
              "<Figure size 640x480 with 1 Axes>"
            ],
            "image/png": "[encoded data removed]"
          },
          "metadata": {}
        }
      ]
    },
    {
      "cell_type": "markdown",
      "source": [
        "# Kategori Parfum & Wewangian"
      ],
      "metadata": {
        "id": "sa9ZwOxguovz"
      }
    },
    {
      "cell_type": "code",
      "source": [
        "import pmdarima as pm\n",
        "\n",
        "model = pm.auto_arima(df_forecast['Parfum & Wewangian'],\n",
        "                        m=12, seasonal=False,\n",
        "                      start_p=0, start_q=0, max_order=4, test='adf',error_action='ignore',\n",
        "                           suppress_warnings=True,\n",
        "                      stepwise=True, trace=True)"
      ],
      "metadata": {
        "colab": {
          "base_uri": "https://localhost:8080/"
        },
        "id": "qeqkH9TzvCOP",
        "outputId": "cc5f54bd-a08e-46c9-8964-c03a889b6996"
      },
      "execution_count": null,
      "outputs": [
        {
          "output_type": "stream",
          "name": "stderr",
          "text": [
            "/usr/local/lib/python3.10/dist-packages/pmdarima/arima/_validation.py:62: UserWarning: m (12) set for non-seasonal fit. Setting to 0\n",
            "  warnings.warn(\"m (%i) set for non-seasonal fit. Setting to 0\" % m)\n"
          ]
        },
        {
          "output_type": "stream",
          "name": "stdout",
          "text": [
            "Performing stepwise search to minimize aic\n",
            " ARIMA(0,0,0)(0,0,0)[0]             : AIC=666.927, Time=0.01 sec\n",
            " ARIMA(1,0,0)(0,0,0)[0]             : AIC=630.182, Time=0.05 sec\n",
            " ARIMA(0,0,1)(0,0,0)[0]             : AIC=656.867, Time=0.08 sec\n",
            " ARIMA(2,0,0)(0,0,0)[0]             : AIC=627.681, Time=0.09 sec\n",
            " ARIMA(3,0,0)(0,0,0)[0]             : AIC=615.616, Time=0.15 sec\n",
            " ARIMA(4,0,0)(0,0,0)[0]             : AIC=inf, Time=0.20 sec\n",
            " ARIMA(3,0,1)(0,0,0)[0]             : AIC=611.136, Time=0.21 sec\n",
            " ARIMA(2,0,1)(0,0,0)[0]             : AIC=inf, Time=0.25 sec\n",
            " ARIMA(4,0,1)(0,0,0)[0]             : AIC=602.607, Time=0.47 sec\n",
            " ARIMA(5,0,1)(0,0,0)[0]             : AIC=594.692, Time=0.53 sec\n",
            " ARIMA(5,0,0)(0,0,0)[0]             : AIC=inf, Time=0.44 sec\n",
            " ARIMA(5,0,2)(0,0,0)[0]             : AIC=596.621, Time=0.26 sec\n",
            " ARIMA(4,0,2)(0,0,0)[0]             : AIC=602.459, Time=0.25 sec\n",
            " ARIMA(5,0,1)(0,0,0)[0] intercept   : AIC=588.866, Time=0.33 sec\n",
            " ARIMA(4,0,1)(0,0,0)[0] intercept   : AIC=596.545, Time=0.28 sec\n",
            " ARIMA(5,0,0)(0,0,0)[0] intercept   : AIC=inf, Time=0.26 sec\n",
            " ARIMA(5,0,2)(0,0,0)[0] intercept   : AIC=595.214, Time=0.32 sec\n",
            " ARIMA(4,0,0)(0,0,0)[0] intercept   : AIC=inf, Time=0.25 sec\n",
            " ARIMA(4,0,2)(0,0,0)[0] intercept   : AIC=inf, Time=0.29 sec\n",
            "\n",
            "Best model:  ARIMA(5,0,1)(0,0,0)[0] intercept\n",
            "Total fit time: 4.801 seconds\n"
          ]
        }
      ]
    },
    {
      "cell_type": "code",
      "source": [
        "model.fit(train['Parfum & Wewangian'])"
      ],
      "metadata": {
        "colab": {
          "base_uri": "https://localhost:8080/"
        },
        "id": "3i3loHobvCLs",
        "outputId": "441e48bf-3695-4856-f7e3-e91422c5aee7"
      },
      "execution_count": null,
      "outputs": [
        {
          "output_type": "execute_result",
          "data": {
            "text/plain": [
              "ARIMA(order=(5, 0, 1), scoring_args={}, suppress_warnings=True)"
            ],
            "text/html": [
              "<style>#sk-container-id-4 {color: black;background-color: white;}#sk-container-id-4 pre{padding: 0;}#sk-container-id-4 div.sk-toggleable {background-color: white;}#sk-container-id-4 label.sk-toggleable__label {cursor: pointer;display: block;width: 100%;margin-bottom: 0;padding: 0.3em;box-sizing: border-box;text-align: center;}#sk-container-id-4 label.sk-toggleable__label-arrow:before {content: \"▸\";float: left;margin-right: 0.25em;color: #696969;}#sk-container-id-4 label.sk-toggleable__label-arrow:hover:before {color: black;}#sk-container-id-4 div.sk-estimator:hover label.sk-toggleable__label-arrow:before {color: black;}#sk-container-id-4 div.sk-toggleable__content {max-height: 0;max-width: 0;overflow: hidden;text-align: left;background-color: #f0f8ff;}#sk-container-id-4 div.sk-toggleable__content pre {margin: 0.2em;color: black;border-radius: 0.25em;background-color: #f0f8ff;}#sk-container-id-4 input.sk-toggleable__control:checked~div.sk-toggleable__content {max-height: 200px;max-width: 100%;overflow: auto;}#sk-container-id-4 input.sk-toggleable__control:checked~label.sk-toggleable__label-arrow:before {content: \"▾\";}#sk-container-id-4 div.sk-estimator input.sk-toggleable__control:checked~label.sk-toggleable__label {background-color: #d4ebff;}#sk-container-id-4 div.sk-label input.sk-toggleable__control:checked~label.sk-toggleable__label {background-color: #d4ebff;}#sk-container-id-4 input.sk-hidden--visually {border: 0;clip: rect(1px 1px 1px 1px);clip: rect(1px, 1px, 1px, 1px);height: 1px;margin: -1px;overflow: hidden;padding: 0;position: absolute;width: 1px;}#sk-container-id-4 div.sk-estimator {font-family: monospace;background-color: #f0f8ff;border: 1px dotted black;border-radius: 0.25em;box-sizing: border-box;margin-bottom: 0.5em;}#sk-container-id-4 div.sk-estimator:hover {background-color: #d4ebff;}#sk-container-id-4 div.sk-parallel-item::after {content: \"\";width: 100%;border-bottom: 1px solid gray;flex-grow: 1;}#sk-container-id-4 div.sk-label:hover label.sk-toggleable__label {background-color: #d4ebff;}#sk-container-id-4 div.sk-serial::before {content: \"\";position: absolute;border-left: 1px solid gray;box-sizing: border-box;top: 0;bottom: 0;left: 50%;z-index: 0;}#sk-container-id-4 div.sk-serial {display: flex;flex-direction: column;align-items: center;background-color: white;padding-right: 0.2em;padding-left: 0.2em;position: relative;}#sk-container-id-4 div.sk-item {position: relative;z-index: 1;}#sk-container-id-4 div.sk-parallel {display: flex;align-items: stretch;justify-content: center;background-color: white;position: relative;}#sk-container-id-4 div.sk-item::before, #sk-container-id-4 div.sk-parallel-item::before {content: \"\";position: absolute;border-left: 1px solid gray;box-sizing: border-box;top: 0;bottom: 0;left: 50%;z-index: -1;}#sk-container-id-4 div.sk-parallel-item {display: flex;flex-direction: column;z-index: 1;position: relative;background-color: white;}#sk-container-id-4 div.sk-parallel-item:first-child::after {align-self: flex-end;width: 50%;}#sk-container-id-4 div.sk-parallel-item:last-child::after {align-self: flex-start;width: 50%;}#sk-container-id-4 div.sk-parallel-item:only-child::after {width: 0;}#sk-container-id-4 div.sk-dashed-wrapped {border: 1px dashed gray;margin: 0 0.4em 0.5em 0.4em;box-sizing: border-box;padding-bottom: 0.4em;background-color: white;}#sk-container-id-4 div.sk-label label {font-family: monospace;font-weight: bold;display: inline-block;line-height: 1.2em;}#sk-container-id-4 div.sk-label-container {text-align: center;}#sk-container-id-4 div.sk-container {/* jupyter's `normalize.less` sets `[hidden] { display: none; }` but bootstrap.min.css set `[hidden] { display: none !important; }` so we also need the `!important` here to be able to override the default hidden behavior on the sphinx rendered scikit-learn.org. See: https://github.com/scikit-learn/scikit-learn/issues/21755 */display: inline-block !important;position: relative;}#sk-container-id-4 div.sk-text-repr-fallback {display: none;}</style><div id=\"sk-container-id-4\" class=\"sk-top-container\"><div class=\"sk-text-repr-fallback\"><pre> ARIMA(5,0,1)(0,0,0)[0] intercept</pre><b>In a Jupyter environment, please rerun this cell to show the HTML representation or trust the notebook. <br />On GitHub, the HTML representation is unable to render, please try loading this page with nbviewer.org.</b></div><div class=\"sk-container\" hidden><div class=\"sk-item\"><div class=\"sk-estimator sk-toggleable\"><input class=\"sk-toggleable__control sk-hidden--visually\" id=\"sk-estimator-id-4\" type=\"checkbox\" checked><label for=\"sk-estimator-id-4\" class=\"sk-toggleable__label sk-toggleable__label-arrow\">ARIMA</label><div class=\"sk-toggleable__content\"><pre> ARIMA(5,0,1)(0,0,0)[0] intercept</pre></div></div></div></div></div>"
            ]
          },
          "metadata": {},
          "execution_count": 58
        }
      ]
    },
    {
      "cell_type": "code",
      "source": [
        "# Kita coba prediksi 5 bulan kedepan supaya bisa dibandingkan dengan data tes\n",
        "forecast_data_test=model.predict(n_periods=5, return_conf_int=True)\n",
        "forecast_data_test"
      ],
      "metadata": {
        "colab": {
          "base_uri": "https://localhost:8080/"
        },
        "id": "ioL4MS5HvCIN",
        "outputId": "bc1c3dd3-741e-4e95-9a71-f902c9ad8a83"
      },
      "execution_count": null,
      "outputs": [
        {
          "output_type": "execute_result",
          "data": {
            "text/plain": [
              "(2022-11-30    3.147578e+07\n",
              " 2022-12-31    4.874306e+07\n",
              " 2023-01-31    8.120500e+07\n",
              " 2023-02-28    1.032580e+08\n",
              " 2023-03-31    9.598629e+07\n",
              " Freq: M, dtype: float64,\n",
              " array([[2.66465399e+07, 3.63050290e+07],\n",
              "        [4.28492231e+07, 5.46369013e+07],\n",
              "        [7.52492637e+07, 8.71607326e+07],\n",
              "        [9.68027541e+07, 1.09713242e+08],\n",
              "        [8.83275330e+07, 1.03645049e+08]]))"
            ]
          },
          "metadata": {},
          "execution_count": 59
        }
      ]
    },
    {
      "cell_type": "code",
      "source": [
        "forecast_df = pd.DataFrame(forecast_data_test[0],index = test.index,columns=['Prediction'])\n",
        "forecast_df"
      ],
      "metadata": {
        "colab": {
          "base_uri": "https://localhost:8080/"
        },
        "id": "YUlWyCNhvB_j",
        "outputId": "ddd8e158-acfa-424b-fce1-421120de68ea"
      },
      "execution_count": null,
      "outputs": [
        {
          "output_type": "execute_result",
          "data": {
            "text/plain": [
              "              Prediction\n",
              "date                    \n",
              "2022-11-30  3.147578e+07\n",
              "2022-12-31  4.874306e+07\n",
              "2023-01-31  8.120500e+07\n",
              "2023-02-28  1.032580e+08\n",
              "2023-03-31  9.598629e+07"
            ],
            "text/html": [
              "\n",
              "\n",
              "  <div id=\"df-20d368ce-e7a3-401c-ad6a-568316100d1d\">\n",
              "    <div class=\"colab-df-container\">\n",
              "      <div>\n",
              "<style scoped>\n",
              "    .dataframe tbody tr th:only-of-type {\n",
              "        vertical-align: middle;\n",
              "    }\n",
              "\n",
              "    .dataframe tbody tr th {\n",
              "        vertical-align: top;\n",
              "    }\n",
              "\n",
              "    .dataframe thead th {\n",
              "        text-align: right;\n",
              "    }\n",
              "</style>\n",
              "<table border=\"1\" class=\"dataframe\">\n",
              "  <thead>\n",
              "    <tr style=\"text-align: right;\">\n",
              "      <th></th>\n",
              "      <th>Prediction</th>\n",
              "    </tr>\n",
              "    <tr>\n",
              "      <th>date</th>\n",
              "      <th></th>\n",
              "    </tr>\n",
              "  </thead>\n",
              "  <tbody>\n",
              "    <tr>\n",
              "      <th>2022-11-30</th>\n",
              "      <td>3.147578e+07</td>\n",
              "    </tr>\n",
              "    <tr>\n",
              "      <th>2022-12-31</th>\n",
              "      <td>4.874306e+07</td>\n",
              "    </tr>\n",
              "    <tr>\n",
              "      <th>2023-01-31</th>\n",
              "      <td>8.120500e+07</td>\n",
              "    </tr>\n",
              "    <tr>\n",
              "      <th>2023-02-28</th>\n",
              "      <td>1.032580e+08</td>\n",
              "    </tr>\n",
              "    <tr>\n",
              "      <th>2023-03-31</th>\n",
              "      <td>9.598629e+07</td>\n",
              "    </tr>\n",
              "  </tbody>\n",
              "</table>\n",
              "</div>\n",
              "      <button class=\"colab-df-convert\" onclick=\"convertToInteractive('df-20d368ce-e7a3-401c-ad6a-568316100d1d')\"\n",
              "              title=\"Convert this dataframe to an interactive table.\"\n",
              "              style=\"display:none;\">\n",
              "\n",
              "  <svg xmlns=\"http://www.w3.org/2000/svg\" height=\"24px\"viewBox=\"0 0 24 24\"\n",
              "       width=\"24px\">\n",
              "    <path d=\"M0 0h24v24H0V0z\" fill=\"none\"/>\n",
              "    <path d=\"M18.56 5.44l.94 2.06.94-2.06 2.06-.94-2.06-.94-.94-2.06-.94 2.06-2.06.94zm-11 1L8.5 8.5l.94-2.06 2.06-.94-2.06-.94L8.5 2.5l-.94 2.06-2.06.94zm10 10l.94 2.06.94-2.06 2.06-.94-2.06-.94-.94-2.06-.94 2.06-2.06.94z\"/><path d=\"M17.41 7.96l-1.37-1.37c-.4-.4-.92-.59-1.43-.59-.52 0-1.04.2-1.43.59L10.3 9.45l-7.72 7.72c-.78.78-.78 2.05 0 2.83L4 21.41c.39.39.9.59 1.41.59.51 0 1.02-.2 1.41-.59l7.78-7.78 2.81-2.81c.8-.78.8-2.07 0-2.86zM5.41 20L4 18.59l7.72-7.72 1.47 1.35L5.41 20z\"/>\n",
              "  </svg>\n",
              "      </button>\n",
              "\n",
              "\n",
              "\n",
              "    <div id=\"df-2d1e0843-536d-4723-9ecf-ed36443b7d66\">\n",
              "      <button class=\"colab-df-quickchart\" onclick=\"quickchart('df-2d1e0843-536d-4723-9ecf-ed36443b7d66')\"\n",
              "              title=\"Suggest charts.\"\n",
              "              style=\"display:none;\">\n",
              "\n",
              "<svg xmlns=\"http://www.w3.org/2000/svg\" height=\"24px\"viewBox=\"0 0 24 24\"\n",
              "     width=\"24px\">\n",
              "    <g>\n",
              "        <path d=\"M19 3H5c-1.1 0-2 .9-2 2v14c0 1.1.9 2 2 2h14c1.1 0 2-.9 2-2V5c0-1.1-.9-2-2-2zM9 17H7v-7h2v7zm4 0h-2V7h2v10zm4 0h-2v-4h2v4z\"/>\n",
              "    </g>\n",
              "</svg>\n",
              "      </button>\n",
              "    </div>\n",
              "\n",
              "<style>\n",
              "  .colab-df-quickchart {\n",
              "    background-color: #E8F0FE;\n",
              "    border: none;\n",
              "    border-radius: 50%;\n",
              "    cursor: pointer;\n",
              "    display: none;\n",
              "    fill: #1967D2;\n",
              "    height: 32px;\n",
              "    padding: 0 0 0 0;\n",
              "    width: 32px;\n",
              "  }\n",
              "\n",
              "  .colab-df-quickchart:hover {\n",
              "    background-color: #E2EBFA;\n",
              "    box-shadow: 0px 1px 2px rgba(60, 64, 67, 0.3), 0px 1px 3px 1px rgba(60, 64, 67, 0.15);\n",
              "    fill: #174EA6;\n",
              "  }\n",
              "\n",
              "  [theme=dark] .colab-df-quickchart {\n",
              "    background-color: #3B4455;\n",
              "    fill: #D2E3FC;\n",
              "  }\n",
              "\n",
              "  [theme=dark] .colab-df-quickchart:hover {\n",
              "    background-color: #434B5C;\n",
              "    box-shadow: 0px 1px 3px 1px rgba(0, 0, 0, 0.15);\n",
              "    filter: drop-shadow(0px 1px 2px rgba(0, 0, 0, 0.3));\n",
              "    fill: #FFFFFF;\n",
              "  }\n",
              "</style>\n",
              "\n",
              "    <script>\n",
              "      async function quickchart(key) {\n",
              "        const containerElement = document.querySelector('#' + key);\n",
              "        const charts = await google.colab.kernel.invokeFunction(\n",
              "            'suggestCharts', [key], {});\n",
              "      }\n",
              "    </script>\n",
              "\n",
              "      <script>\n",
              "\n",
              "function displayQuickchartButton(domScope) {\n",
              "  let quickchartButtonEl =\n",
              "    domScope.querySelector('#df-2d1e0843-536d-4723-9ecf-ed36443b7d66 button.colab-df-quickchart');\n",
              "  quickchartButtonEl.style.display =\n",
              "    google.colab.kernel.accessAllowed ? 'block' : 'none';\n",
              "}\n",
              "\n",
              "        displayQuickchartButton(document);\n",
              "      </script>\n",
              "      <style>\n",
              "    .colab-df-container {\n",
              "      display:flex;\n",
              "      flex-wrap:wrap;\n",
              "      gap: 12px;\n",
              "    }\n",
              "\n",
              "    .colab-df-convert {\n",
              "      background-color: #E8F0FE;\n",
              "      border: none;\n",
              "      border-radius: 50%;\n",
              "      cursor: pointer;\n",
              "      display: none;\n",
              "      fill: #1967D2;\n",
              "      height: 32px;\n",
              "      padding: 0 0 0 0;\n",
              "      width: 32px;\n",
              "    }\n",
              "\n",
              "    .colab-df-convert:hover {\n",
              "      background-color: #E2EBFA;\n",
              "      box-shadow: 0px 1px 2px rgba(60, 64, 67, 0.3), 0px 1px 3px 1px rgba(60, 64, 67, 0.15);\n",
              "      fill: #174EA6;\n",
              "    }\n",
              "\n",
              "    [theme=dark] .colab-df-convert {\n",
              "      background-color: #3B4455;\n",
              "      fill: #D2E3FC;\n",
              "    }\n",
              "\n",
              "    [theme=dark] .colab-df-convert:hover {\n",
              "      background-color: #434B5C;\n",
              "      box-shadow: 0px 1px 3px 1px rgba(0, 0, 0, 0.15);\n",
              "      filter: drop-shadow(0px 1px 2px rgba(0, 0, 0, 0.3));\n",
              "      fill: #FFFFFF;\n",
              "    }\n",
              "  </style>\n",
              "\n",
              "      <script>\n",
              "        const buttonEl =\n",
              "          document.querySelector('#df-20d368ce-e7a3-401c-ad6a-568316100d1d button.colab-df-convert');\n",
              "        buttonEl.style.display =\n",
              "          google.colab.kernel.accessAllowed ? 'block' : 'none';\n",
              "\n",
              "        async function convertToInteractive(key) {\n",
              "          const element = document.querySelector('#df-20d368ce-e7a3-401c-ad6a-568316100d1d');\n",
              "          const dataTable =\n",
              "            await google.colab.kernel.invokeFunction('convertToInteractive',\n",
              "                                                     [key], {});\n",
              "          if (!dataTable) return;\n",
              "\n",
              "          const docLinkHtml = 'Like what you see? Visit the ' +\n",
              "            '<a target=\"_blank\" href=https://colab.research.google.com/notebooks/data_table.ipynb>data table notebook</a>'\n",
              "            + ' to learn more about interactive tables.';\n",
              "          element.innerHTML = '';\n",
              "          dataTable['output_type'] = 'display_data';\n",
              "          await google.colab.output.renderOutput(dataTable, element);\n",
              "          const docLink = document.createElement('div');\n",
              "          docLink.innerHTML = docLinkHtml;\n",
              "          element.appendChild(docLink);\n",
              "        }\n",
              "      </script>\n",
              "    </div>\n",
              "  </div>\n"
            ]
          },
          "metadata": {},
          "execution_count": 60
        }
      ]
    },
    {
      "cell_type": "code",
      "source": [
        "import matplotlib.pyplot as plt\n",
        "import numpy as np\n",
        "pd.concat([df_forecast['Parfum & Wewangian'],forecast_df],axis=1).plot()"
      ],
      "metadata": {
        "colab": {
          "base_uri": "https://localhost:8080/"
        },
        "id": "cqDDEBB-vehb",
        "outputId": "56084fee-5977-4ecb-b615-0f5ad13362a2"
      },
      "execution_count": null,
      "outputs": [
        {
          "output_type": "execute_result",
          "data": {
            "text/plain": [
              "<Axes: xlabel='date'>"
            ]
          },
          "metadata": {},
          "execution_count": 61
        },
        {
          "output_type": "display_data",
          "data": {
            "text/plain": [
              "<Figure size 640x480 with 1 Axes>"
            ],
            "image/png": "[encoded data removed]"
          },
          "metadata": {}
        }
      ]
    },
    {
      "cell_type": "code",
      "source": [
        "final_table = pd.concat([forecast_df, test['Parfum & Wewangian']], axis=1)\n",
        "final_table"
      ],
      "metadata": {
        "colab": {
          "base_uri": "https://localhost:8080/"
        },
        "id": "xICTyT7cvn7-",
        "outputId": "14a2bfb4-f904-4be6-881e-49569d733f76"
      },
      "execution_count": null,
      "outputs": [
        {
          "output_type": "execute_result",
          "data": {
            "text/plain": [
              "              Prediction  Parfum & Wewangian\n",
              "date                                        \n",
              "2022-11-30  3.147578e+07          36315000.0\n",
              "2022-12-31  4.874306e+07          51675000.0\n",
              "2023-01-31  8.120500e+07          88722000.0\n",
              "2023-02-28  1.032580e+08         100925000.0\n",
              "2023-03-31  9.598629e+07          95719000.0"
            ],
            "text/html": [
              "\n",
              "\n",
              "  <div id=\"df-916ce4e4-632b-4099-9966-94efb6a9fac0\">\n",
              "    <div class=\"colab-df-container\">\n",
              "      <div>\n",
              "<style scoped>\n",
              "    .dataframe tbody tr th:only-of-type {\n",
              "        vertical-align: middle;\n",
              "    }\n",
              "\n",
              "    .dataframe tbody tr th {\n",
              "        vertical-align: top;\n",
              "    }\n",
              "\n",
              "    .dataframe thead th {\n",
              "        text-align: right;\n",
              "    }\n",
              "</style>\n",
              "<table border=\"1\" class=\"dataframe\">\n",
              "  <thead>\n",
              "    <tr style=\"text-align: right;\">\n",
              "      <th></th>\n",
              "      <th>Prediction</th>\n",
              "      <th>Parfum &amp; Wewangian</th>\n",
              "    </tr>\n",
              "    <tr>\n",
              "      <th>date</th>\n",
              "      <th></th>\n",
              "      <th></th>\n",
              "    </tr>\n",
              "  </thead>\n",
              "  <tbody>\n",
              "    <tr>\n",
              "      <th>2022-11-30</th>\n",
              "      <td>3.147578e+07</td>\n",
              "      <td>36315000.0</td>\n",
              "    </tr>\n",
              "    <tr>\n",
              "      <th>2022-12-31</th>\n",
              "      <td>4.874306e+07</td>\n",
              "      <td>51675000.0</td>\n",
              "    </tr>\n",
              "    <tr>\n",
              "      <th>2023-01-31</th>\n",
              "      <td>8.120500e+07</td>\n",
              "      <td>88722000.0</td>\n",
              "    </tr>\n",
              "    <tr>\n",
              "      <th>2023-02-28</th>\n",
              "      <td>1.032580e+08</td>\n",
              "      <td>100925000.0</td>\n",
              "    </tr>\n",
              "    <tr>\n",
              "      <th>2023-03-31</th>\n",
              "      <td>9.598629e+07</td>\n",
              "      <td>95719000.0</td>\n",
              "    </tr>\n",
              "  </tbody>\n",
              "</table>\n",
              "</div>\n",
              "      <button class=\"colab-df-convert\" onclick=\"convertToInteractive('df-916ce4e4-632b-4099-9966-94efb6a9fac0')\"\n",
              "              title=\"Convert this dataframe to an interactive table.\"\n",
              "              style=\"display:none;\">\n",
              "\n",
              "  <svg xmlns=\"http://www.w3.org/2000/svg\" height=\"24px\"viewBox=\"0 0 24 24\"\n",
              "       width=\"24px\">\n",
              "    <path d=\"M0 0h24v24H0V0z\" fill=\"none\"/>\n",
              "    <path d=\"M18.56 5.44l.94 2.06.94-2.06 2.06-.94-2.06-.94-.94-2.06-.94 2.06-2.06.94zm-11 1L8.5 8.5l.94-2.06 2.06-.94-2.06-.94L8.5 2.5l-.94 2.06-2.06.94zm10 10l.94 2.06.94-2.06 2.06-.94-2.06-.94-.94-2.06-.94 2.06-2.06.94z\"/><path d=\"M17.41 7.96l-1.37-1.37c-.4-.4-.92-.59-1.43-.59-.52 0-1.04.2-1.43.59L10.3 9.45l-7.72 7.72c-.78.78-.78 2.05 0 2.83L4 21.41c.39.39.9.59 1.41.59.51 0 1.02-.2 1.41-.59l7.78-7.78 2.81-2.81c.8-.78.8-2.07 0-2.86zM5.41 20L4 18.59l7.72-7.72 1.47 1.35L5.41 20z\"/>\n",
              "  </svg>\n",
              "      </button>\n",
              "\n",
              "\n",
              "\n",
              "    <div id=\"df-d3e0fccb-861a-4996-a14c-28d0f85688c4\">\n",
              "      <button class=\"colab-df-quickchart\" onclick=\"quickchart('df-d3e0fccb-861a-4996-a14c-28d0f85688c4')\"\n",
              "              title=\"Suggest charts.\"\n",
              "              style=\"display:none;\">\n",
              "\n",
              "<svg xmlns=\"http://www.w3.org/2000/svg\" height=\"24px\"viewBox=\"0 0 24 24\"\n",
              "     width=\"24px\">\n",
              "    <g>\n",
              "        <path d=\"M19 3H5c-1.1 0-2 .9-2 2v14c0 1.1.9 2 2 2h14c1.1 0 2-.9 2-2V5c0-1.1-.9-2-2-2zM9 17H7v-7h2v7zm4 0h-2V7h2v10zm4 0h-2v-4h2v4z\"/>\n",
              "    </g>\n",
              "</svg>\n",
              "      </button>\n",
              "    </div>\n",
              "\n",
              "<style>\n",
              "  .colab-df-quickchart {\n",
              "    background-color: #E8F0FE;\n",
              "    border: none;\n",
              "    border-radius: 50%;\n",
              "    cursor: pointer;\n",
              "    display: none;\n",
              "    fill: #1967D2;\n",
              "    height: 32px;\n",
              "    padding: 0 0 0 0;\n",
              "    width: 32px;\n",
              "  }\n",
              "\n",
              "  .colab-df-quickchart:hover {\n",
              "    background-color: #E2EBFA;\n",
              "    box-shadow: 0px 1px 2px rgba(60, 64, 67, 0.3), 0px 1px 3px 1px rgba(60, 64, 67, 0.15);\n",
              "    fill: #174EA6;\n",
              "  }\n",
              "\n",
              "  [theme=dark] .colab-df-quickchart {\n",
              "    background-color: #3B4455;\n",
              "    fill: #D2E3FC;\n",
              "  }\n",
              "\n",
              "  [theme=dark] .colab-df-quickchart:hover {\n",
              "    background-color: #434B5C;\n",
              "    box-shadow: 0px 1px 3px 1px rgba(0, 0, 0, 0.15);\n",
              "    filter: drop-shadow(0px 1px 2px rgba(0, 0, 0, 0.3));\n",
              "    fill: #FFFFFF;\n",
              "  }\n",
              "</style>\n",
              "\n",
              "    <script>\n",
              "      async function quickchart(key) {\n",
              "        const containerElement = document.querySelector('#' + key);\n",
              "        const charts = await google.colab.kernel.invokeFunction(\n",
              "            'suggestCharts', [key], {});\n",
              "      }\n",
              "    </script>\n",
              "\n",
              "      <script>\n",
              "\n",
              "function displayQuickchartButton(domScope) {\n",
              "  let quickchartButtonEl =\n",
              "    domScope.querySelector('#df-d3e0fccb-861a-4996-a14c-28d0f85688c4 button.colab-df-quickchart');\n",
              "  quickchartButtonEl.style.display =\n",
              "    google.colab.kernel.accessAllowed ? 'block' : 'none';\n",
              "}\n",
              "\n",
              "        displayQuickchartButton(document);\n",
              "      </script>\n",
              "      <style>\n",
              "    .colab-df-container {\n",
              "      display:flex;\n",
              "      flex-wrap:wrap;\n",
              "      gap: 12px;\n",
              "    }\n",
              "\n",
              "    .colab-df-convert {\n",
              "      background-color: #E8F0FE;\n",
              "      border: none;\n",
              "      border-radius: 50%;\n",
              "      cursor: pointer;\n",
              "      display: none;\n",
              "      fill: #1967D2;\n",
              "      height: 32px;\n",
              "      padding: 0 0 0 0;\n",
              "      width: 32px;\n",
              "    }\n",
              "\n",
              "    .colab-df-convert:hover {\n",
              "      background-color: #E2EBFA;\n",
              "      box-shadow: 0px 1px 2px rgba(60, 64, 67, 0.3), 0px 1px 3px 1px rgba(60, 64, 67, 0.15);\n",
              "      fill: #174EA6;\n",
              "    }\n",
              "\n",
              "    [theme=dark] .colab-df-convert {\n",
              "      background-color: #3B4455;\n",
              "      fill: #D2E3FC;\n",
              "    }\n",
              "\n",
              "    [theme=dark] .colab-df-convert:hover {\n",
              "      background-color: #434B5C;\n",
              "      box-shadow: 0px 1px 3px 1px rgba(0, 0, 0, 0.15);\n",
              "      filter: drop-shadow(0px 1px 2px rgba(0, 0, 0, 0.3));\n",
              "      fill: #FFFFFF;\n",
              "    }\n",
              "  </style>\n",
              "\n",
              "      <script>\n",
              "        const buttonEl =\n",
              "          document.querySelector('#df-916ce4e4-632b-4099-9966-94efb6a9fac0 button.colab-df-convert');\n",
              "        buttonEl.style.display =\n",
              "          google.colab.kernel.accessAllowed ? 'block' : 'none';\n",
              "\n",
              "        async function convertToInteractive(key) {\n",
              "          const element = document.querySelector('#df-916ce4e4-632b-4099-9966-94efb6a9fac0');\n",
              "          const dataTable =\n",
              "            await google.colab.kernel.invokeFunction('convertToInteractive',\n",
              "                                                     [key], {});\n",
              "          if (!dataTable) return;\n",
              "\n",
              "          const docLinkHtml = 'Like what you see? Visit the ' +\n",
              "            '<a target=\"_blank\" href=https://colab.research.google.com/notebooks/data_table.ipynb>data table notebook</a>'\n",
              "            + ' to learn more about interactive tables.';\n",
              "          element.innerHTML = '';\n",
              "          dataTable['output_type'] = 'display_data';\n",
              "          await google.colab.output.renderOutput(dataTable, element);\n",
              "          const docLink = document.createElement('div');\n",
              "          docLink.innerHTML = docLinkHtml;\n",
              "          element.appendChild(docLink);\n",
              "        }\n",
              "      </script>\n",
              "    </div>\n",
              "  </div>\n"
            ]
          },
          "metadata": {},
          "execution_count": 62
        }
      ]
    },
    {
      "cell_type": "code",
      "source": [
        "# Menghitung nilai MAPE\n",
        "mape = np.mean(np.abs((final_table['Parfum & Wewangian'] - final_table['Prediction']) / final_table['Parfum & Wewangian'])) * 100\n",
        "\n",
        "# Menampilkan hasil evaluasi\n",
        "print(\"Mean Absolute Percentage Error (MAPE):\", mape)"
      ],
      "metadata": {
        "colab": {
          "base_uri": "https://localhost:8080/"
        },
        "id": "sxCNlqt7vrvX",
        "outputId": "d2f25320-3f36-4922-a7ae-68457c937fc7"
      },
      "execution_count": null,
      "outputs": [
        {
          "output_type": "stream",
          "name": "stdout",
          "text": [
            "Mean Absolute Percentage Error (MAPE): 6.012572947080084\n"
          ]
        }
      ]
    },
    {
      "cell_type": "code",
      "source": [
        "from sklearn.metrics import mean_absolute_error\n",
        "\n",
        "# Menghitung MAE antara nilai aktual dan nilai prediksi\n",
        "mae = mean_absolute_error(final_table['Parfum & Wewangian'], final_table['Prediction'])\n",
        "\n",
        "# Menampilkan hasil MAE\n",
        "print(\"Mean Absolute Error (MAE):\", mae)\n",
        "\n",
        "# Menghitung MPE\n",
        "prediksi = final_table['Prediction']\n",
        "aktual = final_table['Parfum & Wewangian']\n",
        "\n",
        "# Prediction\tLip Tint\n",
        "mpe = np.mean((aktual - prediksi) / aktual) * 100\n",
        "\n",
        "print(\"Mean Percentage Error (MPE):\", mpe)"
      ],
      "metadata": {
        "colab": {
          "base_uri": "https://localhost:8080/"
        },
        "id": "ux81F6C6nJl5",
        "outputId": "c4cee7f4-9b45-4241-953a-08542d08e3d7"
      },
      "execution_count": null,
      "outputs": [
        {
          "output_type": "stream",
          "name": "stdout",
          "text": [
            "Mean Absolute Error (MAE): 3577688.9117510663\n",
            "Mean Percentage Error (MPE): 4.9762283879502345\n"
          ]
        }
      ]
    },
    {
      "cell_type": "code",
      "source": [
        "def evaluate_mape(mape):\n",
        "    if mape < 10:\n",
        "        return \"Kemampuan peramalan sangat baik\"\n",
        "    elif mape < 20:\n",
        "        return \"Kemampuan peramalan baik\"\n",
        "    elif mape < 50:\n",
        "        return \"Kemampuan peramalan layak\"\n",
        "    else:\n",
        "        return \"Kemampuan peramalan buruk\"\n",
        "\n",
        "evaluation = evaluate_mape(mape)\n",
        "print(\"Evaluasi MAPE:\", evaluation)"
      ],
      "metadata": {
        "colab": {
          "base_uri": "https://localhost:8080/"
        },
        "id": "A5-0VV_Pv3vz",
        "outputId": "c79192eb-0ab6-4281-deb2-8e0a58240926"
      },
      "execution_count": null,
      "outputs": [
        {
          "output_type": "stream",
          "name": "stdout",
          "text": [
            "Evaluasi MAPE: Kemampuan peramalan sangat baik\n"
          ]
        }
      ]
    },
    {
      "cell_type": "markdown",
      "source": [
        "**Forecast Parfum Wewangian**"
      ],
      "metadata": {
        "id": "g2W93Dyx_nDh"
      }
    },
    {
      "cell_type": "code",
      "source": [
        "forecast_fix=model.predict(n_periods=13, return_conf_int=True)\n",
        "forecast_range=pd.date_range(start='2023-04-01', periods=8,freq='M')\n",
        "forecast_fix_df = pd.DataFrame(forecast_fix[0],index =forecast_range,columns=['Prediction'])\n",
        "pd.concat([df_forecast['Parfum & Wewangian'],forecast_fix_df],axis=1).plot()"
      ],
      "metadata": {
        "colab": {
          "base_uri": "https://localhost:8080/"
        },
        "id": "Cp4Fm_HK_mgJ",
        "outputId": "8448b415-9ef8-414d-a169-a62463e91228"
      },
      "execution_count": null,
      "outputs": [
        {
          "output_type": "execute_result",
          "data": {
            "text/plain": [
              "<Axes: >"
            ]
          },
          "metadata": {},
          "execution_count": 66
        },
        {
          "output_type": "display_data",
          "data": {
            "text/plain": [
              "<Figure size 640x480 with 1 Axes>"
            ],
            "image/png": "[encoded data removed]"
          },
          "metadata": {}
        }
      ]
    },
    {
      "cell_type": "markdown",
      "source": [
        "# Kategori Pelembab Wajah"
      ],
      "metadata": {
        "id": "Asv9Jp-EwE5_"
      }
    },
    {
      "cell_type": "code",
      "source": [
        "import pmdarima as pm\n",
        "\n",
        "model = pm.auto_arima(df_forecast['Pelembab Wajah'],\n",
        "                        m=12, seasonal=False,\n",
        "                      start_p=0, start_q=0, max_order=4, test='adf',error_action='ignore',\n",
        "                           suppress_warnings=True,\n",
        "                      stepwise=True, trace=True)"
      ],
      "metadata": {
        "colab": {
          "base_uri": "https://localhost:8080/"
        },
        "id": "nrtLV3QHwHto",
        "outputId": "e0aaf6f1-57d4-4327-f9ff-9ff4cf2e3139"
      },
      "execution_count": null,
      "outputs": [
        {
          "output_type": "stream",
          "name": "stderr",
          "text": [
            "/usr/local/lib/python3.10/dist-packages/pmdarima/arima/_validation.py:62: UserWarning: m (12) set for non-seasonal fit. Setting to 0\n",
            "  warnings.warn(\"m (%i) set for non-seasonal fit. Setting to 0\" % m)\n"
          ]
        },
        {
          "output_type": "stream",
          "name": "stdout",
          "text": [
            "Performing stepwise search to minimize aic\n",
            " ARIMA(0,0,0)(0,0,0)[0]             : AIC=669.015, Time=0.01 sec\n",
            " ARIMA(1,0,0)(0,0,0)[0]             : AIC=647.159, Time=0.03 sec\n",
            " ARIMA(0,0,1)(0,0,0)[0]             : AIC=660.016, Time=0.03 sec\n",
            " ARIMA(2,0,0)(0,0,0)[0]             : AIC=648.235, Time=0.03 sec\n",
            " ARIMA(1,0,1)(0,0,0)[0]             : AIC=647.874, Time=0.04 sec\n",
            " ARIMA(2,0,1)(0,0,0)[0]             : AIC=inf, Time=0.13 sec\n",
            " ARIMA(1,0,0)(0,0,0)[0] intercept   : AIC=643.681, Time=0.02 sec\n",
            " ARIMA(0,0,0)(0,0,0)[0] intercept   : AIC=644.308, Time=0.02 sec\n",
            " ARIMA(2,0,0)(0,0,0)[0] intercept   : AIC=637.765, Time=0.04 sec\n",
            " ARIMA(3,0,0)(0,0,0)[0] intercept   : AIC=636.189, Time=0.09 sec\n",
            " ARIMA(4,0,0)(0,0,0)[0] intercept   : AIC=637.074, Time=0.08 sec\n",
            " ARIMA(3,0,1)(0,0,0)[0] intercept   : AIC=636.516, Time=0.20 sec\n",
            " ARIMA(2,0,1)(0,0,0)[0] intercept   : AIC=644.855, Time=0.08 sec\n",
            " ARIMA(4,0,1)(0,0,0)[0] intercept   : AIC=638.487, Time=0.28 sec\n",
            " ARIMA(3,0,0)(0,0,0)[0]             : AIC=648.916, Time=0.04 sec\n",
            "\n",
            "Best model:  ARIMA(3,0,0)(0,0,0)[0] intercept\n",
            "Total fit time: 1.124 seconds\n"
          ]
        }
      ]
    },
    {
      "cell_type": "code",
      "source": [
        "model.fit(train['Pelembab Wajah'])"
      ],
      "metadata": {
        "colab": {
          "base_uri": "https://localhost:8080/"
        },
        "id": "tFozy6qdwHqJ",
        "outputId": "e484f337-311e-43e3-d355-cfd1cdbad40f"
      },
      "execution_count": null,
      "outputs": [
        {
          "output_type": "execute_result",
          "data": {
            "text/plain": [
              "ARIMA(order=(3, 0, 0), scoring_args={}, suppress_warnings=True)"
            ],
            "text/html": [
              "<style>#sk-container-id-5 {color: black;background-color: white;}#sk-container-id-5 pre{padding: 0;}#sk-container-id-5 div.sk-toggleable {background-color: white;}#sk-container-id-5 label.sk-toggleable__label {cursor: pointer;display: block;width: 100%;margin-bottom: 0;padding: 0.3em;box-sizing: border-box;text-align: center;}#sk-container-id-5 label.sk-toggleable__label-arrow:before {content: \"▸\";float: left;margin-right: 0.25em;color: #696969;}#sk-container-id-5 label.sk-toggleable__label-arrow:hover:before {color: black;}#sk-container-id-5 div.sk-estimator:hover label.sk-toggleable__label-arrow:before {color: black;}#sk-container-id-5 div.sk-toggleable__content {max-height: 0;max-width: 0;overflow: hidden;text-align: left;background-color: #f0f8ff;}#sk-container-id-5 div.sk-toggleable__content pre {margin: 0.2em;color: black;border-radius: 0.25em;background-color: #f0f8ff;}#sk-container-id-5 input.sk-toggleable__control:checked~div.sk-toggleable__content {max-height: 200px;max-width: 100%;overflow: auto;}#sk-container-id-5 input.sk-toggleable__control:checked~label.sk-toggleable__label-arrow:before {content: \"▾\";}#sk-container-id-5 div.sk-estimator input.sk-toggleable__control:checked~label.sk-toggleable__label {background-color: #d4ebff;}#sk-container-id-5 div.sk-label input.sk-toggleable__control:checked~label.sk-toggleable__label {background-color: #d4ebff;}#sk-container-id-5 input.sk-hidden--visually {border: 0;clip: rect(1px 1px 1px 1px);clip: rect(1px, 1px, 1px, 1px);height: 1px;margin: -1px;overflow: hidden;padding: 0;position: absolute;width: 1px;}#sk-container-id-5 div.sk-estimator {font-family: monospace;background-color: #f0f8ff;border: 1px dotted black;border-radius: 0.25em;box-sizing: border-box;margin-bottom: 0.5em;}#sk-container-id-5 div.sk-estimator:hover {background-color: #d4ebff;}#sk-container-id-5 div.sk-parallel-item::after {content: \"\";width: 100%;border-bottom: 1px solid gray;flex-grow: 1;}#sk-container-id-5 div.sk-label:hover label.sk-toggleable__label {background-color: #d4ebff;}#sk-container-id-5 div.sk-serial::before {content: \"\";position: absolute;border-left: 1px solid gray;box-sizing: border-box;top: 0;bottom: 0;left: 50%;z-index: 0;}#sk-container-id-5 div.sk-serial {display: flex;flex-direction: column;align-items: center;background-color: white;padding-right: 0.2em;padding-left: 0.2em;position: relative;}#sk-container-id-5 div.sk-item {position: relative;z-index: 1;}#sk-container-id-5 div.sk-parallel {display: flex;align-items: stretch;justify-content: center;background-color: white;position: relative;}#sk-container-id-5 div.sk-item::before, #sk-container-id-5 div.sk-parallel-item::before {content: \"\";position: absolute;border-left: 1px solid gray;box-sizing: border-box;top: 0;bottom: 0;left: 50%;z-index: -1;}#sk-container-id-5 div.sk-parallel-item {display: flex;flex-direction: column;z-index: 1;position: relative;background-color: white;}#sk-container-id-5 div.sk-parallel-item:first-child::after {align-self: flex-end;width: 50%;}#sk-container-id-5 div.sk-parallel-item:last-child::after {align-self: flex-start;width: 50%;}#sk-container-id-5 div.sk-parallel-item:only-child::after {width: 0;}#sk-container-id-5 div.sk-dashed-wrapped {border: 1px dashed gray;margin: 0 0.4em 0.5em 0.4em;box-sizing: border-box;padding-bottom: 0.4em;background-color: white;}#sk-container-id-5 div.sk-label label {font-family: monospace;font-weight: bold;display: inline-block;line-height: 1.2em;}#sk-container-id-5 div.sk-label-container {text-align: center;}#sk-container-id-5 div.sk-container {/* jupyter's `normalize.less` sets `[hidden] { display: none; }` but bootstrap.min.css set `[hidden] { display: none !important; }` so we also need the `!important` here to be able to override the default hidden behavior on the sphinx rendered scikit-learn.org. See: https://github.com/scikit-learn/scikit-learn/issues/21755 */display: inline-block !important;position: relative;}#sk-container-id-5 div.sk-text-repr-fallback {display: none;}</style><div id=\"sk-container-id-5\" class=\"sk-top-container\"><div class=\"sk-text-repr-fallback\"><pre> ARIMA(3,0,0)(0,0,0)[0] intercept</pre><b>In a Jupyter environment, please rerun this cell to show the HTML representation or trust the notebook. <br />On GitHub, the HTML representation is unable to render, please try loading this page with nbviewer.org.</b></div><div class=\"sk-container\" hidden><div class=\"sk-item\"><div class=\"sk-estimator sk-toggleable\"><input class=\"sk-toggleable__control sk-hidden--visually\" id=\"sk-estimator-id-5\" type=\"checkbox\" checked><label for=\"sk-estimator-id-5\" class=\"sk-toggleable__label sk-toggleable__label-arrow\">ARIMA</label><div class=\"sk-toggleable__content\"><pre> ARIMA(3,0,0)(0,0,0)[0] intercept</pre></div></div></div></div></div>"
            ]
          },
          "metadata": {},
          "execution_count": 68
        }
      ]
    },
    {
      "cell_type": "code",
      "source": [
        "# Kita coba prediksi 5 bulan kedepan supaya bisa dibandingkan dengan data tes\n",
        "forecast_data_test=model.predict(n_periods=5, return_conf_int=True)\n",
        "forecast_data_test"
      ],
      "metadata": {
        "colab": {
          "base_uri": "https://localhost:8080/"
        },
        "id": "8X81-PW7wHnN",
        "outputId": "f46cd5d4-0edf-4bca-b4af-5a2947aff3db"
      },
      "execution_count": null,
      "outputs": [
        {
          "output_type": "execute_result",
          "data": {
            "text/plain": [
              "(2022-11-30    9.675820e+07\n",
              " 2022-12-31    8.436238e+07\n",
              " 2023-01-31    6.100461e+07\n",
              " 2023-02-28    4.098990e+07\n",
              " 2023-03-31    4.547277e+07\n",
              " Freq: M, dtype: float64,\n",
              " array([[7.06658342e+07, 1.22850574e+08],\n",
              "        [5.64150045e+07, 1.12309752e+08],\n",
              "        [3.30326716e+07, 8.89765476e+07],\n",
              "        [7.43820604e+06, 7.45415929e+07],\n",
              "        [9.46048830e+06, 8.14850512e+07]]))"
            ]
          },
          "metadata": {},
          "execution_count": 69
        }
      ]
    },
    {
      "cell_type": "code",
      "source": [
        "forecast_df = pd.DataFrame(forecast_data_test[0],index = test.index,columns=['Prediction'])"
      ],
      "metadata": {
        "id": "Jr7I16okwHeC"
      },
      "execution_count": null,
      "outputs": []
    },
    {
      "cell_type": "code",
      "source": [
        "import matplotlib.pyplot as plt\n",
        "import numpy as np\n",
        "pd.concat([df_forecast['Pelembab Wajah'],forecast_df],axis=1).plot()"
      ],
      "metadata": {
        "colab": {
          "base_uri": "https://localhost:8080/"
        },
        "id": "TmS5odKAwWg5",
        "outputId": "9c9714fa-db8f-431c-c58d-274bacf1debc"
      },
      "execution_count": null,
      "outputs": [
        {
          "output_type": "execute_result",
          "data": {
            "text/plain": [
              "<Axes: xlabel='date'>"
            ]
          },
          "metadata": {},
          "execution_count": 71
        },
        {
          "output_type": "display_data",
          "data": {
            "text/plain": [
              "<Figure size 640x480 with 1 Axes>"
            ],
            "image/png": "[encoded data removed]"
          },
          "metadata": {}
        }
      ]
    },
    {
      "cell_type": "code",
      "source": [
        "final_table = pd.concat([forecast_df, test['Pelembab Wajah']], axis=1)\n",
        "final_table"
      ],
      "metadata": {
        "colab": {
          "base_uri": "https://localhost:8080/"
        },
        "id": "J-wQsxY5wekU",
        "outputId": "08afb36e-630c-478f-8df8-93b5069d8590"
      },
      "execution_count": null,
      "outputs": [
        {
          "output_type": "execute_result",
          "data": {
            "text/plain": [
              "              Prediction  Pelembab Wajah\n",
              "date                                    \n",
              "2022-11-30  9.675820e+07     136230000.0\n",
              "2022-12-31  8.436238e+07     122430000.0\n",
              "2023-01-31  6.100461e+07      67450000.0\n",
              "2023-02-28  4.098990e+07      43423000.0\n",
              "2023-03-31  4.547277e+07      48265000.0"
            ],
            "text/html": [
              "\n",
              "\n",
              "  <div id=\"df-51accb2c-d80c-40df-86ca-067f1b362a2e\">\n",
              "    <div class=\"colab-df-container\">\n",
              "      <div>\n",
              "<style scoped>\n",
              "    .dataframe tbody tr th:only-of-type {\n",
              "        vertical-align: middle;\n",
              "    }\n",
              "\n",
              "    .dataframe tbody tr th {\n",
              "        vertical-align: top;\n",
              "    }\n",
              "\n",
              "    .dataframe thead th {\n",
              "        text-align: right;\n",
              "    }\n",
              "</style>\n",
              "<table border=\"1\" class=\"dataframe\">\n",
              "  <thead>\n",
              "    <tr style=\"text-align: right;\">\n",
              "      <th></th>\n",
              "      <th>Prediction</th>\n",
              "      <th>Pelembab Wajah</th>\n",
              "    </tr>\n",
              "    <tr>\n",
              "      <th>date</th>\n",
              "      <th></th>\n",
              "      <th></th>\n",
              "    </tr>\n",
              "  </thead>\n",
              "  <tbody>\n",
              "    <tr>\n",
              "      <th>2022-11-30</th>\n",
              "      <td>9.675820e+07</td>\n",
              "      <td>136230000.0</td>\n",
              "    </tr>\n",
              "    <tr>\n",
              "      <th>2022-12-31</th>\n",
              "      <td>8.436238e+07</td>\n",
              "      <td>122430000.0</td>\n",
              "    </tr>\n",
              "    <tr>\n",
              "      <th>2023-01-31</th>\n",
              "      <td>6.100461e+07</td>\n",
              "      <td>67450000.0</td>\n",
              "    </tr>\n",
              "    <tr>\n",
              "      <th>2023-02-28</th>\n",
              "      <td>4.098990e+07</td>\n",
              "      <td>43423000.0</td>\n",
              "    </tr>\n",
              "    <tr>\n",
              "      <th>2023-03-31</th>\n",
              "      <td>4.547277e+07</td>\n",
              "      <td>48265000.0</td>\n",
              "    </tr>\n",
              "  </tbody>\n",
              "</table>\n",
              "</div>\n",
              "      <button class=\"colab-df-convert\" onclick=\"convertToInteractive('df-51accb2c-d80c-40df-86ca-067f1b362a2e')\"\n",
              "              title=\"Convert this dataframe to an interactive table.\"\n",
              "              style=\"display:none;\">\n",
              "\n",
              "  <svg xmlns=\"http://www.w3.org/2000/svg\" height=\"24px\"viewBox=\"0 0 24 24\"\n",
              "       width=\"24px\">\n",
              "    <path d=\"M0 0h24v24H0V0z\" fill=\"none\"/>\n",
              "    <path d=\"M18.56 5.44l.94 2.06.94-2.06 2.06-.94-2.06-.94-.94-2.06-.94 2.06-2.06.94zm-11 1L8.5 8.5l.94-2.06 2.06-.94-2.06-.94L8.5 2.5l-.94 2.06-2.06.94zm10 10l.94 2.06.94-2.06 2.06-.94-2.06-.94-.94-2.06-.94 2.06-2.06.94z\"/><path d=\"M17.41 7.96l-1.37-1.37c-.4-.4-.92-.59-1.43-.59-.52 0-1.04.2-1.43.59L10.3 9.45l-7.72 7.72c-.78.78-.78 2.05 0 2.83L4 21.41c.39.39.9.59 1.41.59.51 0 1.02-.2 1.41-.59l7.78-7.78 2.81-2.81c.8-.78.8-2.07 0-2.86zM5.41 20L4 18.59l7.72-7.72 1.47 1.35L5.41 20z\"/>\n",
              "  </svg>\n",
              "      </button>\n",
              "\n",
              "\n",
              "\n",
              "    <div id=\"df-8e675aeb-98b3-4e97-8c2d-edb539e1d423\">\n",
              "      <button class=\"colab-df-quickchart\" onclick=\"quickchart('df-8e675aeb-98b3-4e97-8c2d-edb539e1d423')\"\n",
              "              title=\"Suggest charts.\"\n",
              "              style=\"display:none;\">\n",
              "\n",
              "<svg xmlns=\"http://www.w3.org/2000/svg\" height=\"24px\"viewBox=\"0 0 24 24\"\n",
              "     width=\"24px\">\n",
              "    <g>\n",
              "        <path d=\"M19 3H5c-1.1 0-2 .9-2 2v14c0 1.1.9 2 2 2h14c1.1 0 2-.9 2-2V5c0-1.1-.9-2-2-2zM9 17H7v-7h2v7zm4 0h-2V7h2v10zm4 0h-2v-4h2v4z\"/>\n",
              "    </g>\n",
              "</svg>\n",
              "      </button>\n",
              "    </div>\n",
              "\n",
              "<style>\n",
              "  .colab-df-quickchart {\n",
              "    background-color: #E8F0FE;\n",
              "    border: none;\n",
              "    border-radius: 50%;\n",
              "    cursor: pointer;\n",
              "    display: none;\n",
              "    fill: #1967D2;\n",
              "    height: 32px;\n",
              "    padding: 0 0 0 0;\n",
              "    width: 32px;\n",
              "  }\n",
              "\n",
              "  .colab-df-quickchart:hover {\n",
              "    background-color: #E2EBFA;\n",
              "    box-shadow: 0px 1px 2px rgba(60, 64, 67, 0.3), 0px 1px 3px 1px rgba(60, 64, 67, 0.15);\n",
              "    fill: #174EA6;\n",
              "  }\n",
              "\n",
              "  [theme=dark] .colab-df-quickchart {\n",
              "    background-color: #3B4455;\n",
              "    fill: #D2E3FC;\n",
              "  }\n",
              "\n",
              "  [theme=dark] .colab-df-quickchart:hover {\n",
              "    background-color: #434B5C;\n",
              "    box-shadow: 0px 1px 3px 1px rgba(0, 0, 0, 0.15);\n",
              "    filter: drop-shadow(0px 1px 2px rgba(0, 0, 0, 0.3));\n",
              "    fill: #FFFFFF;\n",
              "  }\n",
              "</style>\n",
              "\n",
              "    <script>\n",
              "      async function quickchart(key) {\n",
              "        const containerElement = document.querySelector('#' + key);\n",
              "        const charts = await google.colab.kernel.invokeFunction(\n",
              "            'suggestCharts', [key], {});\n",
              "      }\n",
              "    </script>\n",
              "\n",
              "      <script>\n",
              "\n",
              "function displayQuickchartButton(domScope) {\n",
              "  let quickchartButtonEl =\n",
              "    domScope.querySelector('#df-8e675aeb-98b3-4e97-8c2d-edb539e1d423 button.colab-df-quickchart');\n",
              "  quickchartButtonEl.style.display =\n",
              "    google.colab.kernel.accessAllowed ? 'block' : 'none';\n",
              "}\n",
              "\n",
              "        displayQuickchartButton(document);\n",
              "      </script>\n",
              "      <style>\n",
              "    .colab-df-container {\n",
              "      display:flex;\n",
              "      flex-wrap:wrap;\n",
              "      gap: 12px;\n",
              "    }\n",
              "\n",
              "    .colab-df-convert {\n",
              "      background-color: #E8F0FE;\n",
              "      border: none;\n",
              "      border-radius: 50%;\n",
              "      cursor: pointer;\n",
              "      display: none;\n",
              "      fill: #1967D2;\n",
              "      height: 32px;\n",
              "      padding: 0 0 0 0;\n",
              "      width: 32px;\n",
              "    }\n",
              "\n",
              "    .colab-df-convert:hover {\n",
              "      background-color: #E2EBFA;\n",
              "      box-shadow: 0px 1px 2px rgba(60, 64, 67, 0.3), 0px 1px 3px 1px rgba(60, 64, 67, 0.15);\n",
              "      fill: #174EA6;\n",
              "    }\n",
              "\n",
              "    [theme=dark] .colab-df-convert {\n",
              "      background-color: #3B4455;\n",
              "      fill: #D2E3FC;\n",
              "    }\n",
              "\n",
              "    [theme=dark] .colab-df-convert:hover {\n",
              "      background-color: #434B5C;\n",
              "      box-shadow: 0px 1px 3px 1px rgba(0, 0, 0, 0.15);\n",
              "      filter: drop-shadow(0px 1px 2px rgba(0, 0, 0, 0.3));\n",
              "      fill: #FFFFFF;\n",
              "    }\n",
              "  </style>\n",
              "\n",
              "      <script>\n",
              "        const buttonEl =\n",
              "          document.querySelector('#df-51accb2c-d80c-40df-86ca-067f1b362a2e button.colab-df-convert');\n",
              "        buttonEl.style.display =\n",
              "          google.colab.kernel.accessAllowed ? 'block' : 'none';\n",
              "\n",
              "        async function convertToInteractive(key) {\n",
              "          const element = document.querySelector('#df-51accb2c-d80c-40df-86ca-067f1b362a2e');\n",
              "          const dataTable =\n",
              "            await google.colab.kernel.invokeFunction('convertToInteractive',\n",
              "                                                     [key], {});\n",
              "          if (!dataTable) return;\n",
              "\n",
              "          const docLinkHtml = 'Like what you see? Visit the ' +\n",
              "            '<a target=\"_blank\" href=https://colab.research.google.com/notebooks/data_table.ipynb>data table notebook</a>'\n",
              "            + ' to learn more about interactive tables.';\n",
              "          element.innerHTML = '';\n",
              "          dataTable['output_type'] = 'display_data';\n",
              "          await google.colab.output.renderOutput(dataTable, element);\n",
              "          const docLink = document.createElement('div');\n",
              "          docLink.innerHTML = docLinkHtml;\n",
              "          element.appendChild(docLink);\n",
              "        }\n",
              "      </script>\n",
              "    </div>\n",
              "  </div>\n"
            ]
          },
          "metadata": {},
          "execution_count": 72
        }
      ]
    },
    {
      "cell_type": "code",
      "source": [
        "# Menghitung nilai MAPE\n",
        "mape = np.mean(np.abs((final_table['Pelembab Wajah'] - final_table['Prediction']) / final_table['Pelembab Wajah'])) * 100\n",
        "\n",
        "# Menampilkan hasil evaluasi\n",
        "print(\"Mean Absolute Percentage Error (MAPE):\", mape)\n",
        "\n",
        "def evaluate_mape(mape):\n",
        "    if mape < 10:\n",
        "        return \"Kemampuan peramalan sangat baik\"\n",
        "    elif mape < 20:\n",
        "        return \"Kemampuan peramalan baik\"\n",
        "    elif mape < 50:\n",
        "        return \"Kemampuan peramalan layak\"\n",
        "    else:\n",
        "        return \"Kemampuan peramalan buruk\"\n",
        "\n",
        "evaluation = evaluate_mape(mape)\n",
        "print(\"Evaluasi MAPE:\", evaluation)"
      ],
      "metadata": {
        "colab": {
          "base_uri": "https://localhost:8080/"
        },
        "id": "l6r8Xtv2wgNK",
        "outputId": "9ca609c8-7af1-4a51-cbb7-38f133992aee"
      },
      "execution_count": null,
      "outputs": [
        {
          "output_type": "stream",
          "name": "stdout",
          "text": [
            "Mean Absolute Percentage Error (MAPE): 16.202404117785246\n",
            "Evaluasi MAPE: Kemampuan peramalan baik\n"
          ]
        }
      ]
    },
    {
      "cell_type": "code",
      "source": [
        "from sklearn.metrics import mean_absolute_error\n",
        "\n",
        "# Menghitung MAE antara nilai aktual dan nilai prediksi\n",
        "mae = mean_absolute_error(final_table['Pelembab Wajah'], final_table['Prediction'])\n",
        "\n",
        "# Menampilkan hasil MAE\n",
        "print(\"Mean Absolute Error (MAE):\", mae)\n",
        "\n",
        "# Menghitung MPE\n",
        "prediksi = final_table['Prediction']\n",
        "aktual = final_table['Pelembab Wajah']\n",
        "\n",
        "# Prediction\tLip Tint\n",
        "mpe = np.mean((aktual - prediksi) / aktual) * 100\n",
        "\n",
        "print(\"Mean Percentage Error (MPE):\", mpe)"
      ],
      "metadata": {
        "id": "rc4v-W-jnc0G",
        "outputId": "af4a8616-341f-46cd-dec3-5091d9a41311",
        "colab": {
          "base_uri": "https://localhost:8080/"
        }
      },
      "execution_count": null,
      "outputs": [
        {
          "output_type": "stream",
          "name": "stdout",
          "text": [
            "Mean Absolute Error (MAE): 17842027.7083304\n",
            "Mean Percentage Error (MPE): 16.202404117785246\n"
          ]
        }
      ]
    },
    {
      "cell_type": "markdown",
      "source": [
        "**Forecast Pelembab Wajah**"
      ],
      "metadata": {
        "id": "8T1RA7Pm_ypa"
      }
    },
    {
      "cell_type": "code",
      "source": [
        "forecast_fix=model.predict(n_periods=13, return_conf_int=True)\n",
        "forecast_range=pd.date_range(start='2023-04-01', periods=8,freq='M')\n",
        "forecast_fix_df = pd.DataFrame(forecast_fix[0],index =forecast_range,columns=['Prediction'])\n",
        "pd.concat([df_forecast['Pelembab Wajah'],forecast_fix_df],axis=1).plot()"
      ],
      "metadata": {
        "colab": {
          "base_uri": "https://localhost:8080/"
        },
        "id": "lYxjqaC8_yIK",
        "outputId": "08d5308c-6cf6-4915-c9ea-65a46013ae6b"
      },
      "execution_count": null,
      "outputs": [
        {
          "output_type": "execute_result",
          "data": {
            "text/plain": [
              "<Axes: >"
            ]
          },
          "metadata": {},
          "execution_count": 75
        },
        {
          "output_type": "display_data",
          "data": {
            "text/plain": [
              "<Figure size 640x480 with 1 Axes>"
            ],
            "image/png": "[encoded data removed]"
          },
          "metadata": {}
        }
      ]
    }
  ],
  "metadata": {
    "colab": {
      "provenance": [],
      "collapsed_sections": [
        "Wv28O9ABtjqG",
        "sa9ZwOxguovz",
        "Asv9Jp-EwE5_",
        "E7HC4djswk8-"
      ],
      "include_colab_link": true
    },
    "kernelspec": {
      "display_name": "Python 3",
      "name": "python3"
    }
  },
  "nbformat": 4,
  "nbformat_minor": 0
}